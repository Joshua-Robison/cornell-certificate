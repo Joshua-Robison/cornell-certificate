{
 "cells": [
  {
   "cell_type": "markdown",
   "metadata": {
    "nbgrader": {
     "checksum": "c2c70cff993cd2a9f66d1484486819e9",
     "grade": false,
     "grade_id": "cell-07165ae949d0e7dc",
     "locked": true,
     "schema_version": 1,
     "solution": false
    }
   },
   "source": [
    "# Perceptron Learning Algorithm\n",
    "\n",
    "<h3>Python Initialization</h3>\n",
    "\n",
    "Start by setting up the environment"
   ]
  },
  {
   "cell_type": "code",
   "execution_count": 1,
   "metadata": {
    "nbgrader": {
     "checksum": "8728379aaf72016b01f18778b7b71c29",
     "grade": false,
     "grade_id": "cell-347e83ddfe5848d2",
     "locked": true,
     "schema_version": 1,
     "solution": false
    }
   },
   "outputs": [],
   "source": [
    "import numpy as np\n",
    "import matplotlib \n",
    "import matplotlib.pyplot as plt\n",
    "%matplotlib inline"
   ]
  },
  {
   "cell_type": "markdown",
   "metadata": {},
   "source": [
    "### Perceptron\n",
    "\n",
    "The perceptron is a linear classifier that operates based on the pseudo-code shown below:\n",
    "\n",
    "<img src='../ref/pseudocode.png'>"
   ]
  },
  {
   "cell_type": "markdown",
   "metadata": {
    "nbgrader": {
     "checksum": "0eb0f7e0773b59d28f6829bfac459659",
     "grade": false,
     "grade_id": "cell-30625fcf06df5461",
     "locked": true,
     "schema_version": 1,
     "solution": false
    }
   },
   "source": [
    "<h3>Part One: Perceptron Update</h3>\n",
    "\n",
    "<p>Implement the function below to update the perceptron given an input vector, label, and weight vector. Do <b>not</b> check if an update is necessary. This function can assume that it is only called when an update should be performed.</p>"
   ]
  },
  {
   "cell_type": "code",
   "execution_count": 2,
   "metadata": {
    "nbgrader": {
     "checksum": "fee7d535cf5e282c8a09de3f4b6f71a6",
     "grade": false,
     "grade_id": "cell-perceptron_update",
     "locked": false,
     "schema_version": 1,
     "solution": true
    }
   },
   "outputs": [],
   "source": [
    "def perceptron_update(x, y, w):\n",
    "    \"\"\"\n",
    "    function w=perceptron_update(x,y,w);\n",
    "    \n",
    "    Inputs:\n",
    "    ------\n",
    "    x : input vector of d dimensions (d)\n",
    "    y : corresponding label (-1 or +1)\n",
    "    w : weight vector of d dimensions\n",
    "    \n",
    "    Outputs:\n",
    "    -------\n",
    "    w : weight vector after updating (d)\n",
    "    \"\"\"\n",
    "    return w + y * x"
   ]
  },
  {
   "cell_type": "markdown",
   "metadata": {
    "nbgrader": {
     "checksum": "793a7faba8d7ad853e2d1bd248fd1552",
     "grade": false,
     "grade_id": "cell-8c2c41b6b1bbec23",
     "locked": true,
     "schema_version": 1,
     "solution": false
    }
   },
   "source": [
    "<h3>Part Two: Implement Perceptron</h3>\n",
    "\n",
    "<p>Implement function <b><code>perceptron</code></b>. This contains a loop that calls <b><code>perceptron_update</code></b> until it converges or the maximum iteration count has been reached.</p>"
   ]
  },
  {
   "cell_type": "code",
   "execution_count": 3,
   "metadata": {
    "nbgrader": {
     "checksum": "48effd9267e551b3834f1abc5558325b",
     "grade": false,
     "grade_id": "cell-perceptron",
     "locked": false,
     "schema_version": 1,
     "solution": true
    }
   },
   "outputs": [],
   "source": [
    "def perceptron(xs, ys, max_iter=1_000):\n",
    "    \"\"\"\n",
    "    function w=perceptron(xs,ys);\n",
    "    \n",
    "    Inputs:\n",
    "    ------\n",
    "    xs       : n input vectors of d dimensions (nxd)\n",
    "    ys       : n labels (-1 or +1)\n",
    "    max_iter : i number of iterations (default 100)\n",
    "    \n",
    "    Outputs:\n",
    "    -------\n",
    "    w : weight vector (1xd)\n",
    "    b : bias term\n",
    "    \"\"\"\n",
    "    n, d = xs.shape\n",
    "    w = np.zeros(d)\n",
    "    b = 0.0\n",
    "    \n",
    "    iterations = 0\n",
    "    while True:\n",
    "        # set number of misclassifications to zero\n",
    "        m = 0\n",
    "        \n",
    "        # update iteration counter\n",
    "        iterations += 1\n",
    "        \n",
    "        # shuffle the data\n",
    "        ix = np.random.permutation(n)\n",
    "        xs = xs[ix,:]\n",
    "        ys = ys[ix]\n",
    "        \n",
    "        # iterate over data\n",
    "        for x, y in zip(xs, ys):\n",
    "            if y * np.dot(w.T, x) <= 0:\n",
    "                # update weights\n",
    "                w = perceptron_update(x, y, w)\n",
    "                \n",
    "                # increase misclassification count\n",
    "                m += 1\n",
    "        \n",
    "        # end condition\n",
    "        if m == 0 or iterations >= max_iter:\n",
    "            break\n",
    "    \n",
    "    return (w,b)"
   ]
  },
  {
   "cell_type": "markdown",
   "metadata": {
    "nbgrader": {
     "checksum": "6d68b7acb3852e08022a36e3900fe4be",
     "grade": false,
     "grade_id": "cell-2795fac657fc44f7",
     "locked": true,
     "schema_version": 1,
     "solution": false
    }
   },
   "source": [
    "<h3>Visualize Your Perceptron</h3>\n",
    "\n",
    "<p> The following script tests the code and visualizes the perceptron on linearly separable data in 2 dimensions.</p>"
   ]
  },
  {
   "cell_type": "code",
   "execution_count": 4,
   "metadata": {},
   "outputs": [],
   "source": [
    "from numpy.matlib import repmat\n",
    "\n",
    "def visboundary(w, b, xs, ys):\n",
    "    res = 300\n",
    "    symbols = ['ko', 'kx']\n",
    "    colors = [[0.5, 0.5, 1], [1, 0.5, 0.5]]\n",
    "    classes = [-1, 1]\n",
    "    \n",
    "    xrange = np.linspace(-5, 5, res)\n",
    "    yrange = np.linspace(-5, 5, res)\n",
    "    pixelX = repmat(xrange, res, 1)\n",
    "    pixelY = repmat(yrange, res, 1).T\n",
    "    \n",
    "    testPoints = np.array([pixelX.flatten(), pixelY.flatten()]).T\n",
    "    testLabels = np.dot(testPoints, w) + b\n",
    "    \n",
    "    Z = testLabels.reshape(res, res)\n",
    "    plt.contourf(pixelX, pixelY, np.sign(Z), colors=colors)\n",
    "    plt.scatter(xs[ys == classes[0], 0], xs[ys == classes[0], 1], marker='o', color='k')\n",
    "    plt.scatter(xs[ys == classes[1], 0], xs[ys == classes[1], 1], marker='x', color='k')\n",
    "    \n",
    "    q = -b / (w ** 2).sum() * w\n",
    "    plt.quiver(q[0], q[1], w[0], w[1], linewidth=1.0, color=[0, 1, 0])\n",
    "    plt.axis('tight')\n",
    "    plt.xlim([-5, 5])\n",
    "    plt.ylim([-5, 5])\n",
    "    plt.show()"
   ]
  },
  {
   "cell_type": "code",
   "execution_count": 5,
   "metadata": {
    "nbgrader": {
     "checksum": "77eb1a95c18e1b3e1fe10fe660a60f24",
     "grade": false,
     "grade_id": "cell-dfa3c34a4174dea1",
     "locked": true,
     "schema_version": 1,
     "solution": false
    }
   },
   "outputs": [
    {
     "data": {
      "image/png": "[encoded data removed]",
      "text/plain": [
       "<Figure size 432x288 with 1 Axes>"
      ]
     },
     "metadata": {
      "needs_background": "light"
     },
     "output_type": "display_data"
    }
   ],
   "source": [
    "# number of input vectors\n",
    "N = 100\n",
    "\n",
    "# generate random (linearly separable) data\n",
    "xs = np.random.rand(N, 2) * 10 - 5\n",
    "\n",
    "# defining random hyperplane\n",
    "w0 = np.random.rand(2)\n",
    "b0 = np.random.rand() * 2 - 1\n",
    "\n",
    "# assign labels +1, -1 labels depending on what side of the plane they lie on\n",
    "ys = np.sign(xs.dot(w0) + b0)\n",
    "\n",
    "# call perceptron to find w from data\n",
    "w, b = perceptron(xs.copy(), ys.copy(), max_iter=1_000)\n",
    "\n",
    "# we can make a pretty visualization\n",
    "visboundary(w, b, xs, ys)"
   ]
  },
  {
   "cell_type": "markdown",
   "metadata": {
    "nbgrader": {
     "checksum": "913e8feb6990ae1dc452a1cdd5f16f4a",
     "grade": false,
     "grade_id": "cell-341e13b424f0e6bd",
     "locked": true,
     "schema_version": 1,
     "solution": false
    }
   },
   "source": [
    "<h3>Part Three: Make Predictions</h3>\n",
    "\n",
    "<p><b><code>classify_linear</code></b> applies the weight vector and bias to the input vector. (The bias is an optional parameter. If it is not passed in, assume it is zero.) The predictions return are either 1 or -1.</p>"
   ]
  },
  {
   "cell_type": "code",
   "execution_count": 6,
   "metadata": {
    "nbgrader": {
     "checksum": "3fa3276c394e9d3b7d19a593682f07c3",
     "grade": false,
     "grade_id": "cell-classify_linear",
     "locked": false,
     "schema_version": 1,
     "solution": true
    }
   },
   "outputs": [],
   "source": [
    "def classify_linear(xs, w, b=0):\n",
    "    \"\"\"\n",
    "    function preds=classify_linear(xs,w,b)\n",
    "    \n",
    "    Inputs:\n",
    "    ------\n",
    "    xs : n input vectors of d dimensions (nxd) [could also be a single vector of d dimensions]\n",
    "    w  : weight vector of dimensionality d\n",
    "    b  : bias (scalar)\n",
    "    \n",
    "    Outputs:\n",
    "    -------\n",
    "    preds: predictions (1xn)\n",
    "    \"\"\"\n",
    "    w = w.flatten() \n",
    "    predictions = np.zeros(xs.shape[0])\n",
    "    predictions = np.sign(xs @ w + b)\n",
    "    \n",
    "    return predictions"
   ]
  },
  {
   "cell_type": "code",
   "execution_count": 7,
   "metadata": {},
   "outputs": [
    {
     "name": "stdout",
     "output_type": "stream",
     "text": [
      "Accuracy Score: 99.00%\n"
     ]
    },
    {
     "data": {
      "image/png": "[encoded data removed]",
      "text/plain": [
       "<Figure size 432x288 with 1 Axes>"
      ]
     },
     "metadata": {},
     "output_type": "display_data"
    }
   ],
   "source": [
    "# see how well function performs\n",
    "import matplotlib as mpl\n",
    "mpl.style.use('ggplot')\n",
    "\n",
    "c = classify_linear(xs, w, b)\n",
    "plt.scatter(xs[ys == c,0], xs[ys == c,1], c=c[ys==c], s=60)\n",
    "plt.scatter(xs[ys != c,0], xs[ys != c,1], c='red', marker='x', s=1_000)\n",
    "score = np.mean(c == ys)\n",
    "print('Accuracy Score: {0:.2%}'.format(score))"
   ]
  }
 ],
 "metadata": {
  "anaconda-cloud": {},
  "kernelspec": {
   "display_name": "Python 3",
   "language": "python",
   "name": "python3"
  },
  "language_info": {
   "codemirror_mode": {
    "name": "ipython",
    "version": 3
   },
   "file_extension": ".py",
   "mimetype": "text/x-python",
   "name": "python",
   "nbconvert_exporter": "python",
   "pygments_lexer": "ipython3",
   "version": "3.8.9"
  }
 },
 "nbformat": 4,
 "nbformat_minor": 1
}

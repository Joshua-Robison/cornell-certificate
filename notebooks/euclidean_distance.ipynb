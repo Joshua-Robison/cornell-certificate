{
 "cells": [
  {
   "cell_type": "markdown",
   "metadata": {
    "nbgrader": {
     "checksum": "1e00eb7c66c8ca232c42f3246f1e23f9",
     "grade": false,
     "grade_id": "cell-484d568322c19544",
     "locked": true,
     "schema_version": 1,
     "solution": false
    }
   },
   "source": [
    "# Import NumPy and Check Python Version"
   ]
  },
  {
   "cell_type": "code",
   "execution_count": 1,
   "metadata": {
    "nbgrader": {
     "checksum": "58b2d481aff69efcd677709a04a0b9bd",
     "grade": false,
     "grade_id": "cell-855640210fb50121",
     "locked": true,
     "schema_version": 1,
     "solution": false
    }
   },
   "outputs": [
    {
     "name": "stdout",
     "output_type": "stream",
     "text": [
      "You're running python 3.8.9\n"
     ]
    }
   ],
   "source": [
    "import sys\n",
    "import numpy as np\n",
    "\n",
    "print('You\\'re running python %s' % sys.version.split(' ')[0])"
   ]
  },
  {
   "cell_type": "markdown",
   "metadata": {
    "nbgrader": {
     "checksum": "99ae8284e3e74f024ec05740d1a499e6",
     "grade": false,
     "grade_id": "cell-76ba5d8756566b5b",
     "locked": true,
     "schema_version": 1,
     "solution": false
    }
   },
   "source": [
    "<h2>Euclidean Distances in Python</h2>\n",
    "\n",
    "<p>Many machine learning algorithms access their input data primarily through pairwise (Euclidean) distances, therefore it is important that we have a fast function that computes pairwise distances of input vectors.</p>\n",
    "\n",
    "<p>Assume we have $n$ data vectors $\\mathbf{x_1},\\dots,\\mathbf{x_n}\\in{\\cal R}^d$ and $m$ vectors $\\mathbf{z_1},\\dots,z_m\\in{\\cal R}^d$. With these data vectors, let us define two matrices $X=[\\mathbf{x_1},\\dots,\\mathbf{x_n}]\\in{\\cal R}^{n\\times d}$, where the $i^{th}$ row is a vector $\\mathbf{x_i}$ and similarly $Z=[\\mathbf{z_1},\\dots,\\mathbf{z_m}]\\in{\\cal R}^{m\\times d}$.</p>\n",
    "\n",
    "<p>We want a distance function that takes as input these two matrices $X$ and $Z$ and outputs a matrix $D\\in{\\cal R}^{n\\times m}$, where $$D_{ij}=\\sqrt{(\\mathbf{x_i}-\\mathbf{z_j})(\\mathbf{x_i}-\\mathbf{z_j})^\\top}.$$</p>"
   ]
  },
  {
   "cell_type": "code",
   "execution_count": 2,
   "metadata": {
    "nbgrader": {
     "checksum": "f34233f540af1404dd432d2f13f72dfb",
     "grade": false,
     "grade_id": "cell-3724f30031f0f96e",
     "locked": true,
     "schema_version": 1,
     "solution": false
    }
   },
   "outputs": [],
   "source": [
    "def l2distanceSlow(X, Z=None):\n",
    "    if Z is None:\n",
    "        Z = X\n",
    "    \n",
    "    n, d = X.shape\n",
    "    m = Z.shape[0]\n",
    "    \n",
    "    # allocate memory for the output matrix\n",
    "    D = np.zeros((n,m))\n",
    "    for i in range(n):     # loop over vectors in X\n",
    "        for j in range(m): # loop over vectors in Z\n",
    "            D[i,j] = 0.0\n",
    "            for k in range(d): # loop over dimensions\n",
    "                # compute l2-distance between the ith and jth vector\n",
    "                D[i,j] = D[i,j] + (X[i,k] - Z[j,k]) ** 2;\n",
    "            D[i,j] = np.sqrt(D[i,j]); # take square root\n",
    "            \n",
    "    return D"
   ]
  },
  {
   "cell_type": "code",
   "execution_count": 3,
   "metadata": {
    "nbgrader": {
     "checksum": "4c1ee9c4de276ba80aa162d632ec623e",
     "grade": false,
     "grade_id": "cell-1afe58e13cd02172",
     "locked": true,
     "schema_version": 1,
     "solution": false
    }
   },
   "outputs": [
    {
     "name": "stdout",
     "output_type": "stream",
     "text": [
      "Running the naive version for the...\n",
      "Wall time: 56.4 s\n"
     ]
    }
   ],
   "source": [
    "X = np.random.rand(700, 100)\n",
    "print('Running the naive version for the...')\n",
    "%time Dslow = l2distanceSlow(X)"
   ]
  },
  {
   "cell_type": "markdown",
   "metadata": {
    "nbgrader": {
     "checksum": "9e9b899c5a8f844418aba245eccb932c",
     "grade": false,
     "grade_id": "cell-60d671b817b29b1c",
     "locked": true,
     "schema_version": 1,
     "solution": false
    }
   },
   "source": [
    "This code defines some random data in $X$ and computes the corresponding distance matrix $D$. The <em>%time</em> statement determines how long this code takes to run. This implementation is much too slow for such a simple operation on a small amount of data, and writing code like this to deal with matrices will result in code that takes <strong>days</strong> to run.\n",
    "\n",
    "<strong>As a general rule, we should avoid tight loops at all cost.</strong> We can do much better by performing bulk matrix operations using the NumPy package, which calls highly optimized compiled code behind the scenes."
   ]
  },
  {
   "cell_type": "markdown",
   "metadata": {
    "nbgrader": {
     "checksum": "b9ddf2543b76b701af52ed19e7ddba06",
     "grade": false,
     "grade_id": "cell-4b648ecf382bce9f",
     "locked": true,
     "schema_version": 1,
     "solution": false
    }
   },
   "source": [
    "<h2>Efficient Programming with NumPy</h2>\n",
    "\n",
    "<p>Although there is an execution overhead per line in Python, matrix operations are optimized and fast. Python for scientific computing can be very fast if almost all the time is spent on a few heavy duty matrix operations. In this exercise, we will transform the function above into a few matrix operations <em>without any loops at all.</em></p>\n",
    "\n",
    "<p>The key to efficient programming in Python for machine learning in general is to think about it in terms of mathematics and not in terms of loops.</p>"
   ]
  },
  {
   "cell_type": "markdown",
   "metadata": {
    "nbgrader": {
     "checksum": "2f426d85d0d95b8ac7d7ef21bf1c938f",
     "grade": false,
     "grade_id": "cell-ccba76afed0964c4",
     "locked": true,
     "schema_version": 1,
     "solution": false
    }
   },
   "source": [
    "<h2>Exercises</h2>\n",
    "\n",
    "<p>The following three exercises will implement the euclidean distance function without loops.</p>\n",
    "\n",
    "<h3>Exercise 1: Inner-Product Matrix</h3>\n",
    "\n",
    "<p>Show that the Inner-Product Matrix (Gram matrix) can be expressed in terms of pure matrix multiplication.\n",
    "\n",
    "$$G_{ij}=\\mathbf{x}_i\\mathbf{z}_j^\\top$$"
   ]
  },
  {
   "cell_type": "code",
   "execution_count": 4,
   "metadata": {
    "nbgrader": {
     "checksum": "e973279fce5ed3855ec889cd6755800e",
     "grade": false,
     "grade_id": "cell-Innerproduct",
     "locked": false,
     "schema_version": 1,
     "solution": true
    }
   },
   "outputs": [],
   "source": [
    "def innerproduct(X, Z=None):\n",
    "    \"\"\"\n",
    "    This function computes the inner-product matrix.\n",
    "    \n",
    "    Syntax:\n",
    "    ------\n",
    "    D = innerproduct(X,Z)\n",
    "    \n",
    "    Inputs:\n",
    "    ------\n",
    "    X : nxd data matrix with n vectors (rows) of dimensionality d\n",
    "    Z : mxd data matrix with m vectors (rows) of dimensionality d\n",
    "    \n",
    "    Outputs:\n",
    "    -------\n",
    "    Matrix G of size nxm\n",
    "    G[i,j] is the inner-product between vectors X[i,:] and Z[j,:]\n",
    "    \n",
    "    This function can be called with only one input:\n",
    "    innerproduct(X) = innerproduct(X,X)\n",
    "    \"\"\"\n",
    "    if Z is None:\n",
    "        Z = X\n",
    "    res = np.dot(X, Z.T)\n",
    "    \n",
    "    return res"
   ]
  },
  {
   "cell_type": "markdown",
   "metadata": {
    "nbgrader": {
     "checksum": "ad99d777941a5ce9548a474284e00d0d",
     "grade": false,
     "grade_id": "cell-ac71223b7dc5fc32",
     "locked": true,
     "schema_version": 1,
     "solution": false
    }
   },
   "source": [
    "<h3>Exercise 2: Derive the Distance Matrix</h3>\n",
    "\n",
    "Let us define two new matrices $S,R\\in{\\cal R}^{n\\times m}$ \n",
    "$$S_{ij}=\\mathbf{x}_i\\mathbf{x}_i^\\top, \\ \\ R_{ij}=\\mathbf{z}_j\\mathbf{z}_j^\\top.$$\n",
    "Show that the <em>squared</em>-euclidean matrix $D^2\\in{\\cal R}^{n\\times m}$, defined as\n",
    "$$D^2_{ij}=(\\mathbf{x}_i-\\mathbf{z}_j)(\\mathbf{x}_i-\\mathbf{z}_j)^\\top,$$\n",
    "can be expressed as a linear combination of the matrix $S, G, R$.</p></td>"
   ]
  },
  {
   "cell_type": "markdown",
   "metadata": {
    "nbgrader": {
     "checksum": "51619f0677c04925b02b71e31f19328c",
     "grade": false,
     "grade_id": "cell-a9a1f2c25b626f9d",
     "locked": true,
     "schema_version": 1,
     "solution": false
    }
   },
   "source": [
    "<h3>Exercise 3: Implement <code>l2distance</code></h3>\n",
    "\n",
    "<p>Implement the function <strong><code>l2distance</code></strong>, which computes the Euclidean distance matrix $D$ without a single loop.</p>"
   ]
  },
  {
   "cell_type": "code",
   "execution_count": 5,
   "metadata": {
    "nbgrader": {
     "checksum": "81f2309bc4060be1654e365727ffb2c6",
     "grade": false,
     "grade_id": "cell-l2distance",
     "locked": false,
     "schema_version": 1,
     "solution": true
    }
   },
   "outputs": [],
   "source": [
    "def l2distance(X, Z=None):\n",
    "    \"\"\"\n",
    "    function D=l2distance(X,Z)\n",
    "    \n",
    "    This function computes the Euclidean distance matrix.\n",
    "    \n",
    "    Syntax:\n",
    "    ------\n",
    "    D = l2distance(X,Z)\n",
    "    \n",
    "    Inputs:\n",
    "    ------\n",
    "    X : nxd data matrix with n vectors (rows) of dimensionality d\n",
    "    Z : mxd data matrix with m vectors (rows) of dimensionality d\n",
    "    \n",
    "    Outputs:\n",
    "    -------\n",
    "    Matrix D of size nxm\n",
    "    D(i,j) is the Euclidean distance of X(i,:) and Z(j,:)\n",
    "    \n",
    "    This function can be called with only one input:\n",
    "    l2distance(X) = l2distance(X,X)\n",
    "    \"\"\"\n",
    "    if Z is None:\n",
    "        Z = X\n",
    "    \n",
    "    n, d1 = X.shape\n",
    "    m, d2 = Z.shape\n",
    "    assert (d1 == d2), 'Dimensions of input vectors must match!'\n",
    "    \n",
    "    # matrix linear combination\n",
    "    D = -2 * innerproduct(X,Z)\n",
    "    S = np.expand_dims(np.sum(np.power(X,2), axis=1),1)\n",
    "    R = np.expand_dims(np.sum(np.power(Z,2), axis=1),1)\n",
    "    \n",
    "    res = S + R.T + D\n",
    "    res = np.maximum(res, 0)\n",
    "    res = np.sqrt(res)\n",
    "    \n",
    "    return res"
   ]
  },
  {
   "cell_type": "markdown",
   "metadata": {
    "nbgrader": {
     "checksum": "23155cfba2b619f77d887de2dfb9bd3f",
     "grade": false,
     "grade_id": "cell-aea442b17bc8042e",
     "locked": true,
     "schema_version": 1,
     "solution": false
    }
   },
   "source": [
    "Let's now compare the speed of l2-distance function against the previous naïve implementation:"
   ]
  },
  {
   "cell_type": "code",
   "execution_count": 6,
   "metadata": {},
   "outputs": [
    {
     "name": "stdout",
     "output_type": "stream",
     "text": [
      "Running the naïve version...\n",
      "58608 ms\n",
      "Running the vectorized version...\n",
      "21 ms\n",
      "The two methods should deviate by very little: 0.000002\n",
      "but your NumPy code was 2790.86 times faster!\n"
     ]
    }
   ],
   "source": [
    "import time\n",
    "current_time = lambda: int(round(time.time() * 1000))\n",
    "\n",
    "X = np.random.rand(700,100)\n",
    "Z = np.random.rand(300,100)\n",
    "\n",
    "print('Running the naïve version...')\n",
    "before = current_time()\n",
    "Dslow = l2distanceSlow(X)\n",
    "after = current_time()\n",
    "t_slow = after - before\n",
    "print('{:2.0f} ms'.format(t_slow))\n",
    "\n",
    "print('Running the vectorized version...')\n",
    "before = current_time()\n",
    "Dfast = l2distance(X)\n",
    "after = current_time()\n",
    "t_fast = after - before\n",
    "print('{:2.0f} ms'.format(t_fast))\n",
    "\n",
    "speedup = t_slow / t_fast\n",
    "print('The two methods should deviate by very little: {:05.6f}'.format(np.linalg.norm(Dfast - Dslow)))\n",
    "print('but your NumPy code was {:05.2f} times faster!'.format(speedup))"
   ]
  },
  {
   "cell_type": "markdown",
   "metadata": {
    "nbgrader": {
     "checksum": "aed590efa6e1795b5d3ab26bc53b8577",
     "grade": false,
     "grade_id": "cell-ac9dc5c3b6c424f3",
     "locked": true,
     "schema_version": 1,
     "solution": false
    }
   },
   "source": [
    "How much faster is the code now? With this implementation, we should easily be able to compute the distances between <strong>many more</strong> vectors. It should be clear now, even for small datasets, that the for-loop based implementation could take several days or even weeks to perform basic operations that take seconds or minutes with well-written NumPy code."
   ]
  }
 ],
 "metadata": {
  "anaconda-cloud": {},
  "kernelspec": {
   "display_name": "Python 3 (ipykernel)",
   "language": "python",
   "name": "python3"
  },
  "language_info": {
   "codemirror_mode": {
    "name": "ipython",
    "version": 3
   },
   "file_extension": ".py",
   "mimetype": "text/x-python",
   "name": "python",
   "nbconvert_exporter": "python",
   "pygments_lexer": "ipython3",
   "version": "3.8.9"
  }
 },
 "nbformat": 4,
 "nbformat_minor": 1
}

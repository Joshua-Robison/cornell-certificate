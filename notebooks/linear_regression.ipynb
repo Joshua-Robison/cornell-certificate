{
 "cells": [
  {
   "cell_type": "markdown",
   "metadata": {},
   "source": [
    "<h1>Linear Regression</h1>\n",
    "\n",
    "<h3>Python Initialization</h3>\n",
    "\n",
    "<p>First initialize the Python kernel.</p>"
   ]
  },
  {
   "cell_type": "code",
   "execution_count": 1,
   "metadata": {
    "colab": {},
    "colab_type": "code",
    "id": "dTl9qteEt-oT"
   },
   "outputs": [],
   "source": [
    "import numpy as np\n",
    "import matplotlib.pyplot as plt\n",
    "\n",
    "%matplotlib inline"
   ]
  },
  {
   "cell_type": "markdown",
   "metadata": {},
   "source": [
    "<h2>Generate Data</h2>\n",
    "\n",
    "First, let's generate some data: $$y = 3x + 4 + \\epsilon$$ $$\\epsilon \\sim N(0, 0.01)$$"
   ]
  },
  {
   "cell_type": "code",
   "execution_count": 2,
   "metadata": {
    "colab": {},
    "colab_type": "code",
    "id": "58m3x8wgt-oX"
   },
   "outputs": [],
   "source": [
    "N = 40\n",
    "X = np.random.rand(N, 1)\n",
    "X = np.hstack((X, np.ones((N, 1))))\n",
    "w = np.array([3, 4])\n",
    "y = X @ w + np.random.randn(N) * 0.1"
   ]
  },
  {
   "cell_type": "markdown",
   "metadata": {},
   "source": [
    "<h2>Visualize Data</h2>\n",
    "\n",
    "Now, let's visualize the data, which will roughly lie on a line."
   ]
  },
  {
   "cell_type": "code",
   "execution_count": 3,
   "metadata": {},
   "outputs": [
    {
     "data": {
      "image/png": "[encoded data removed]",
      "text/plain": [
       "<Figure size 432x288 with 1 Axes>"
      ]
     },
     "metadata": {
      "needs_background": "light"
     },
     "output_type": "display_data"
    }
   ],
   "source": [
    "plt.plot(X[:, 0], y, \"o\")\n",
    "plt.xlabel(\"Feature\")\n",
    "plt.ylabel(\"Target\")\n",
    "plt.title(\"Synthetic Data\");"
   ]
  },
  {
   "cell_type": "markdown",
   "metadata": {},
   "source": [
    "<h2>Learn Using Closed Form Solution</h2>\n",
    "\n",
    "Recall the closed form solution:\n",
    "$$\\mathbf{w} = (\\mathbf{X}^T\\mathbf{X})^{-1}\\mathbf{X}^T\\mathbf{y}$$"
   ]
  },
  {
   "cell_type": "code",
   "execution_count": 4,
   "metadata": {},
   "outputs": [],
   "source": [
    "w_closed = np.linalg.inv(X.T @ X) @ X.T @ y"
   ]
  },
  {
   "cell_type": "markdown",
   "metadata": {},
   "source": [
    "<h2>Visualize Closed Form Solution</h2>\n",
    "\n",
    "Let's visualize the closed form solution with a line that is drawn over the data:"
   ]
  },
  {
   "cell_type": "code",
   "execution_count": 5,
   "metadata": {},
   "outputs": [
    {
     "data": {
      "image/png": "[encoded data removed]",
      "text/plain": [
       "<Figure size 432x288 with 1 Axes>"
      ]
     },
     "metadata": {
      "needs_background": "light"
     },
     "output_type": "display_data"
    }
   ],
   "source": [
    "plt.plot(X[:, 0], y, \"o\")\n",
    "z = np.array([[0, 1], [1, 1]])\n",
    "plt.plot(z[:, 0], z @ w_closed, \"r\");"
   ]
  },
  {
   "cell_type": "markdown",
   "metadata": {},
   "source": [
    "<h2>Pro-Tip: NumPy Linear Matrix Solver</h2>\n",
    "\n",
    "<p>Computing matrix inverses can be numerically unstable and slow. Instead, one can use the Numpy linear matrix solver to solve the following linear system:\n",
    "\n",
    "$$(\\mathbf{X}^T\\mathbf{X})\\mathbf{w} = \\mathbf{X}^T\\mathbf{y}$$\n",
    "\n",
    "The solution is the same, but it is typically faster and more stable in case $(\\mathbf{X}^T\\mathbf{X})$ is not invertible.</p>"
   ]
  },
  {
   "cell_type": "code",
   "execution_count": 6,
   "metadata": {},
   "outputs": [],
   "source": [
    "w_closed = np.linalg.solve(X.T @ X, X.T @ y)"
   ]
  }
 ],
 "metadata": {
  "colab": {
   "name": "Linear Regression.ipynb",
   "provenance": [],
   "version": "0.3.2"
  },
  "kernelspec": {
   "display_name": "Python 3 (ipykernel)",
   "language": "python",
   "name": "python3"
  },
  "language_info": {
   "codemirror_mode": {
    "name": "ipython",
    "version": 3
   },
   "file_extension": ".py",
   "mimetype": "text/x-python",
   "name": "python",
   "nbconvert_exporter": "python",
   "pygments_lexer": "ipython3",
   "version": "3.8.9"
  }
 },
 "nbformat": 4,
 "nbformat_minor": 1
}

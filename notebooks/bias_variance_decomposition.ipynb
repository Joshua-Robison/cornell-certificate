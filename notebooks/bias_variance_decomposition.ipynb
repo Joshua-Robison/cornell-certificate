{
 "cells": [
  {
   "cell_type": "markdown",
   "metadata": {
    "nbgrader": {
     "checksum": "941358145fa67e9e560df1826fd3a375",
     "grade": false,
     "grade_id": "cell-1e2b137b9f48bf8c",
     "locked": true,
     "schema_version": 1,
     "solution": false
    }
   },
   "source": [
    "# Bias, Variance, and Noise"
   ]
  },
  {
   "cell_type": "markdown",
   "metadata": {
    "nbgrader": {
     "checksum": "d172d95c4672b199d6b4369502a44279",
     "grade": false,
     "grade_id": "cell-53fdcf615afb6769",
     "locked": true,
     "schema_version": 1,
     "solution": false
    }
   },
   "source": [
    "<h2>Bias-Variance Decomposition</h2>\n",
    "\n",
    "<p>\n",
    "Recall that the squared error can be decomposed into <em>bias</em>, <em>variance</em> and <em>noise</em>: \n",
    "$$\n",
    "\\underbrace{\\mathbb{E}[(h_D(\\mathbf{x}) - y)^2]}_\\mathrm{Error} = \\underbrace{\\mathbb{E}[(h_D(\\mathbf{x})-\\bar{h}(\\mathbf{x}))^2]}_\\mathrm{Variance} + \\underbrace{\\mathbb{E}[(\\bar{h}(\\mathbf{x})-\\bar{y}(\\mathbf{x}))^2]}_\\mathrm{Bias} + \\underbrace{\\mathbb{E}[(\\bar{y}(\\mathbf{x})-y(\\mathbf{x}))^2]}_\\mathrm{Noise}\\nonumber\n",
    "$$\n",
    "\n",
    "We will now create a data set for which we can approximately compute this decomposition. \n",
    "The function <strong>`toydata`</strong> generates a binary data set with class $1$ and $2$. Both are sampled from Gaussian distributions:\n",
    "\n",
    "$$\n",
    "p(\\mathbf{x}|y=1)\\sim {\\mathcal{N}}(0,{I}) \\textrm { and } p(\\mathbf{x}|y=2)\\sim {\\mathcal{N}}(\\mu_2,{I}),\n",
    "$$\n",
    "\n",
    "where $\\mathbf{\\mu_2}=[1.75, 1.75]^\\top$ (the global variable <code>OFFSET</code> $\\!=\\!1.75$ regulates these values: $\\mathbf{\\mu_2}=[$<code>OFFSET</code> $, $ <code>OFFSET</code>$]^\\top$).\n",
    "</p>"
   ]
  },
  {
   "cell_type": "code",
   "execution_count": 1,
   "metadata": {
    "nbgrader": {
     "checksum": "c67c5a4c4c0b156fef91e5f7258be8f2",
     "grade": false,
     "grade_id": "cell-e5ced222ffb03a72",
     "locked": true,
     "schema_version": 1,
     "solution": false
    }
   },
   "outputs": [],
   "source": [
    "import numpy as np\n",
    "from numpy.matlib import repmat\n",
    "import matplotlib\n",
    "import matplotlib.pyplot as plt\n",
    "%matplotlib inline"
   ]
  },
  {
   "cell_type": "markdown",
   "metadata": {
    "nbgrader": {
     "checksum": "e34687e657ccc004c0110c2cd1a72093",
     "grade": false,
     "grade_id": "cell-10f3cee1068653f1",
     "locked": true,
     "schema_version": 1,
     "solution": false
    }
   },
   "source": [
    "<h3><code>toydata</code> Helper Function</h3>\n",
    "\n",
    "<p><code>toydata</code> is a helper function used to generate the the binary data with $n/2$ values in class 1 and $n/2$ values in class 2. Class 1 is the label for data drawn from a normal distribution with mean $\\mu = 0$ and standard deviation $\\sigma = 1$. Class 2 is the label for data drawn from a normal distribution with $\\mu = $<code>OFFSET</code> and $\\sigma = 1$. Run the code below to get a visualization of the data.</p>"
   ]
  },
  {
   "cell_type": "code",
   "execution_count": 2,
   "metadata": {},
   "outputs": [],
   "source": [
    "def toydata(OFFSET, N):\n",
    "    NHALF = int(np.ceil(N / 2))\n",
    "    x = np.random.randn(N, 2)\n",
    "    x[NHALF:,:] += OFFSET\n",
    "    y = np.ones(N)\n",
    "    y[NHALF:] *= 2\n",
    "    jj = np.random.permutation(N)\n",
    "    \n",
    "    return x[jj,:], y[jj]"
   ]
  },
  {
   "cell_type": "code",
   "execution_count": 3,
   "metadata": {
    "nbgrader": {
     "checksum": "44b79cc1a993deb0f58ac793716a9e4f",
     "grade": false,
     "grade_id": "cell-68beb9e0fa121c43",
     "locked": true,
     "schema_version": 1,
     "solution": false
    }
   },
   "outputs": [
    {
     "data": {
      "image/png": "[encoded data removed]",
      "text/plain": [
       "<Figure size 720x432 with 1 Axes>"
      ]
     },
     "metadata": {
      "needs_background": "light"
     },
     "output_type": "display_data"
    }
   ],
   "source": [
    "OFFSET = 1.75\n",
    "X, y = toydata(OFFSET, 1000)\n",
    "\n",
    "# Visualize the generated data\n",
    "class1 = y == 1\n",
    "class2 = y == 2\n",
    "plt.figure(figsize=(10,6))\n",
    "plt.scatter(X[class1,0], X[class1,1], c='r', marker='o', label='Class 1')\n",
    "plt.scatter(X[class2,0], X[class2,1], c='b', marker='o', label='Class 2')\n",
    "plt.legend();"
   ]
  },
  {
   "cell_type": "markdown",
   "metadata": {
    "nbgrader": {
     "checksum": "5dd95bd261758df1ef8a9541d165f7f3",
     "grade": false,
     "grade_id": "cell-d4332b3b2f191280",
     "locked": true,
     "schema_version": 1,
     "solution": false
    }
   },
   "source": [
    "<h3>Part One: Noise</h3>\n",
    "<p>First, let's focus on the noise. For this, we compute the expected label for a given input $\\mathbf{x}$:\n",
    "\n",
    "$$\\bar y(\\mathbf{x})=1*p(y=1\\;|\\;\\mathbf{x})+2*p(y=2\\;|\\;\\mathbf{x})$$\n",
    "\n",
    "in <strong><code>computeybar</code></strong>. We compute the probability $p(\\mathbf{x}|y)$ with the equations $p(\\mathbf{x}|y=1)\\sim {\\mathcal{N}}(0,{I}) \\textrm { and } p(\\mathbf{x}\\;|\\;y=2)\\sim {\\mathcal{N}}(\\mathbf{\\mu_2},{I})$. Then use Bayes rule to compute</p><br>\n",
    "$$p(y=1|\\mathbf{x})=\\frac{p(\\mathbf{x}\\;|\\;y=1)p(y=1)}{p(\\mathbf{x}\\;|\\;y=1)p(y=1)+p(\\mathbf{x}\\;|\\;y=2)p(y=2)}$$\n",
    "\n",
    "<p><strong>Note:</strong> We use the function <em>`normpdf`</em> to compute $p(\\mathbf{x}\\;|\\;y_i)$, which is defined in <strong><code>computeybar</code></strong> in the following cell. Note that <code>normpdf</code> only computes $p(x\\;|\\;y)$ in a single dimension, but we can use the fact that both dimensions are independent to obtain for example $p(\\mathbf{x}\\;|\\;y=1)=p(x_1\\;|\\;y=1)p(x_2\\;|\\;y=1)$. Remember: class 1 has $\\mu=[0;0]^T,\\sigma=1$; class 2 has $\\mu=[OFFSET;OFFSET]^T,\\sigma=1$.\n",
    "<br/></p>"
   ]
  },
  {
   "cell_type": "code",
   "execution_count": 4,
   "metadata": {
    "nbgrader": {
     "checksum": "920473302ea8e73ecdecfa9088461a55",
     "grade": false,
     "grade_id": "cell-computeybar",
     "locked": false,
     "schema_version": 1,
     "solution": true
    }
   },
   "outputs": [],
   "source": [
    "def computeybar(X_test, OFFSET):\n",
    "    \"\"\"\n",
    "    function [ybar] = computeybar(X_test, OFFSET);\n",
    "    \n",
    "    This function computes the expected label 'ybar' for a set of inputs x\n",
    "    generated from two standard Normal distributions (one offset by OFFSET in both dimensions).\n",
    "    \n",
    "    Inputs:\n",
    "    ------\n",
    "    X_test : nx2 array of n vectors with 2 dimensions\n",
    "    OFFSET : The OFFSET passed into the toyData function\n",
    "    \n",
    "    Outputs:\n",
    "    -------\n",
    "    ybar : a nx1 vector of the expected labels for vectors X_test\n",
    "    \"\"\"\n",
    "    n, d = X_test.shape\n",
    "    ybar = np.zeros(n)\n",
    "    \n",
    "    # the following function computes p(x|y)\n",
    "    # By default, mean is 0 and std. deviation is 1\n",
    "    normpdf = lambda x, mu, sigma: np.exp(-0.5 * np.power((x - mu) / sigma, 2)) / (np.sqrt(2 * np.pi) * sigma)\n",
    "    \n",
    "    p_x_y1 = normpdf(X_test[:,0], 0, 1) * normpdf(X_test[:,1], 0, 1)\n",
    "    p_x_y2 = normpdf(X_test[:,0], OFFSET, 1) * normpdf(X_test[:,1], OFFSET, 1)\n",
    "    \n",
    "    p_y1_x = p_x_y1 / (p_x_y1 + p_x_y2)\n",
    "    p_y2_x = p_x_y2 / (p_x_y1 + p_x_y2)\n",
    "    \n",
    "    ybar = 1 * p_y1_x + 2 * p_y2_x\n",
    "    \n",
    "    return ybar"
   ]
  },
  {
   "cell_type": "markdown",
   "metadata": {
    "nbgrader": {
     "checksum": "0396952891d77a9c37f5f9e1625dbbf5",
     "grade": false,
     "grade_id": "cell-f2ed3ee42a95b912",
     "locked": true,
     "schema_version": 1,
     "solution": false
    }
   },
   "source": [
    "<p>Now, calculate the noise component $\\mathbb{E}[(\\bar{y}(\\mathbf{x})-y(\\mathbf{x}))^2]$ of the error using the results of <strong><code>computeybar</code></strong> implemented above. Remember that $$\\mathbb{E}[(\\bar{y}(\\mathbf{x})-y(\\mathbf{x}))^2] = \\frac{1}{n}\\sum_{i=1}^n(\\bar{y}({x_i})-y({x_i}))^2$$\n",
    "and that <strong><code>computeybar</code></strong> computes $\\bar{y}(\\mathbf{x}) = [\\bar{y}({x_1})\\dots \\bar{y}({x_n})]$.</p>"
   ]
  },
  {
   "cell_type": "code",
   "execution_count": 5,
   "metadata": {
    "nbgrader": {
     "checksum": "776185cc5e33b0231f1745dfab706e33",
     "grade": false,
     "grade_id": "cell-computenoise",
     "locked": false,
     "schema_version": 1,
     "solution": true
    }
   },
   "outputs": [],
   "source": [
    "def computenoise(X_test, y_test, OFFSET):\n",
    "    \"\"\"\n",
    "    function noise = computenoise(X_test, y_test, OFFSET);\n",
    "    \n",
    "    This function computes the noise, or square mean of ybar - y, for a set of inputs x\n",
    "    generated from two standard Normal distributions (one offset by OFFSET in both dimensions).\n",
    "    \n",
    "    Inputs:\n",
    "    ------\n",
    "    X_test : nx2 array\n",
    "    y_test : nx1 array of labels\n",
    "    OFFSET : The OFFSET passed into the toyData function\n",
    "    \n",
    "    Outputs:\n",
    "    -------\n",
    "    noise : a scalar representing the noise component of the error of X_test\n",
    "    \"\"\"\n",
    "    ybar = computeybar(X_test, OFFSET)\n",
    "    n = len(ybar)\n",
    "    noise = (1 / n) * np.sum(np.power(y_test - ybar, 2))\n",
    "    \n",
    "    return noise"
   ]
  },
  {
   "cell_type": "markdown",
   "metadata": {
    "nbgrader": {
     "checksum": "2b768db0ab1c5db9a279e01b240de10e",
     "grade": false,
     "grade_id": "cell-2a0090c31f38a547",
     "locked": true,
     "schema_version": 1,
     "solution": false
    }
   },
   "source": [
    "<h3>Visualizing the Data</h3>\n",
    "\n",
    "<p>You can now see the error of the bayes classifier. Below is a plotting of the two classes of points and the misclassified points.</p>"
   ]
  },
  {
   "cell_type": "code",
   "execution_count": 6,
   "metadata": {
    "nbgrader": {
     "checksum": "f845947b5b596b70568e5fb8951c0545",
     "grade": false,
     "grade_id": "cell-ad17a864ee4ad0e9",
     "locked": true,
     "schema_version": 1,
     "solution": false
    }
   },
   "outputs": [
    {
     "name": "stdout",
     "output_type": "stream",
     "text": [
      "Error of Bayes classifier: 10.60%.\n",
      "Noise: 0.0755\n"
     ]
    },
    {
     "data": {
      "image/png": "[encoded data removed]",
      "text/plain": [
       "<Figure size 720x432 with 1 Axes>"
      ]
     },
     "metadata": {
      "needs_background": "light"
     },
     "output_type": "display_data"
    }
   ],
   "source": [
    "OFFSET = 1.75\n",
    "np.random.seed(1)\n",
    "X_test, y_test = toydata(OFFSET, 1000)\n",
    "\n",
    "# compute Bayes Error\n",
    "ybar = computeybar(X_test, OFFSET)\n",
    "predictions = np.round(ybar)\n",
    "errors = predictions != y_test\n",
    "error = 100 * errors.sum() / len(y_test)\n",
    "print('Error of Bayes classifier: %.2f%%.' % error)\n",
    "\n",
    "# print out the noise\n",
    "print('Noise: %.4f' % computenoise(X_test, y_test, OFFSET))\n",
    "\n",
    "# plot data\n",
    "class1 = y_test == 1\n",
    "class2 = y_test == 2\n",
    "plt.figure(figsize=(10,6))\n",
    "plt.scatter(X_test[class1,0], X_test[class1,1], c='r', marker='o')\n",
    "plt.scatter(X_test[class2,0], X_test[class2,1], c='b', marker='o')\n",
    "plt.scatter(X_test[errors,0], X_test[errors,1], c='k', s=100, alpha=0.2)\n",
    "plt.title(\"Plot of data (misclassified points highlighted)\")\n",
    "plt.show()"
   ]
  },
  {
   "cell_type": "markdown",
   "metadata": {
    "nbgrader": {
     "checksum": "fe601752aab02b074a98bbdb646cafb8",
     "grade": false,
     "grade_id": "cell-0f052191b9c2739c",
     "locked": true,
     "schema_version": 1,
     "solution": false
    }
   },
   "source": [
    "As you can see from the graph above, the dataset is noisy and cannot be classified into two groups cleanly, thus giving nonzero noise and nonzero bayes error!"
   ]
  },
  {
   "cell_type": "markdown",
   "metadata": {
    "nbgrader": {
     "checksum": "f0651fc6bc990155ca5d1981d84bd76d",
     "grade": false,
     "grade_id": "cell-f05e0af9fb83da3b",
     "locked": true,
     "schema_version": 1,
     "solution": false
    }
   },
   "source": [
    "<h3>Part Two: Bias</h3>\n",
    "\n",
    "<p>For the bias, we need the average classifier $\\bar{h}$. Although we cannot compute the expected value $\\bar h\\!=\\!\\mathbb{E}[h]$, we can approximate it by sampling many training sets $D_1, \\dots, D_m$ and training a classifier on each, getting $h_{D_1},\\dots, h_{D_m}$. We can then average their predictions on each data point:</p> $$\\bar{h}(\\mathbf{x})\\approx \\frac{1}{m}\\sum_{i=1}^m h_{D_i}(\\mathbf{x})$$</p>"
   ]
  },
  {
   "cell_type": "markdown",
   "metadata": {
    "nbgrader": {
     "checksum": "4f33127a53a11ae2d70e0625bddfa5b4",
     "grade": false,
     "grade_id": "cell-ff7ca5bceeb099d7",
     "locked": true,
     "schema_version": 1,
     "solution": false
    }
   },
   "source": [
    "We are going to use a regression tree as our $h_D$."
   ]
  },
  {
   "cell_type": "code",
   "execution_count": 7,
   "metadata": {},
   "outputs": [],
   "source": [
    "class TreeNode(object):\n",
    "    \n",
    "    def __init__(self, left, right, parent, cutoff_id, cutoff_val, prediction):\n",
    "        self.left = left\n",
    "        self.right = right\n",
    "        self.parent = parent\n",
    "        self.cutoff_id = cutoff_id\n",
    "        self.cutoff_val = cutoff_val\n",
    "        self.prediction = prediction"
   ]
  },
  {
   "cell_type": "code",
   "execution_count": 8,
   "metadata": {},
   "outputs": [],
   "source": [
    "class RegressionTree:\n",
    "    \n",
    "    def __init__(self, depth=np.inf, weights=None):\n",
    "        self.depth = depth\n",
    "        self.weights = weights\n",
    "        self.root = None\n",
    "        \n",
    "    def fit(self, X_train, y_train):\n",
    "        self.root = self.cart(X_train, y_train, self.depth, self.weights)\n",
    "        \n",
    "    def predict(self, X_train):\n",
    "        if self.root is None:\n",
    "            raise NotImplementedError('The tree is not fitted yet!')\n",
    "            \n",
    "        return self.evaltree(self.root, X_train)\n",
    "    \n",
    "    def sqsplit(self, X_train, y_train, weights=None):\n",
    "        \"\"\"\n",
    "        This method finds the best feature, cut value, and loss value.\n",
    "        \n",
    "        Inputs:\n",
    "        ------\n",
    "        X_train : n x d matrix of data points\n",
    "        y_train : n-dimensional vector of labels\n",
    "        weights : n-dimensional weight vector for data points\n",
    "        \n",
    "        Outputs:\n",
    "        -------\n",
    "        feature  : index of the best cut's feature\n",
    "        cut      : cut-value of the best cut\n",
    "        bestloss : loss of the best cut\n",
    "        \"\"\"\n",
    "        N, D = X_train.shape\n",
    "        assert D > 0 # must have at least one dimension\n",
    "        assert N > 1 # must have at least two samples\n",
    "        if weights is None: # if no weights are passed on, assign uniform weights\n",
    "            weights = np.ones(N)\n",
    "            \n",
    "        weights = weights / sum(weights) # normalize weights\n",
    "        bestloss = np.inf\n",
    "        feature = np.inf\n",
    "        cut = np.inf\n",
    "        \n",
    "        # Begin Solution\n",
    "        for d in range(D):\n",
    "            ii = X_train[:,d].argsort() # sort data along dimensions\n",
    "            xs = X_train[ii,d]          # sorted feature values\n",
    "            ws = weights[ii]            # sorted weights\n",
    "            ys = y_train[ii]            # sorted labels\n",
    "            \n",
    "            # Initialize constants\n",
    "            sL  = 0.0             # mean squared label on left side\n",
    "            muL = 0.0             # mean label on left side\n",
    "            wL  = 0.0             # total weight on left side\n",
    "            sR  = ws.dot(ys ** 2) # mean squared label on right \n",
    "            muR = ws.dot(ys)      # mean label on right\n",
    "            wR  = sum(ws)         # weight on right\n",
    "            \n",
    "            pj = 0 # index counter\n",
    "            idif = np.where(np.abs(np.diff(xs, axis=0)) > np.finfo(float).eps * 100)[0]\n",
    "            for j in idif:\n",
    "                deltas  = np.dot(ys[pj:j+1] ** 2, ws[pj:j+1])\n",
    "                deltamu = np.dot(ws[pj:j+1], ys[pj:j+1])\n",
    "                deltaw  = np.sum(ws[pj:j+1])\n",
    "                \n",
    "                sL  += deltas\n",
    "                muL += deltamu\n",
    "                wL  += deltaw\n",
    "                \n",
    "                sR  -= deltas\n",
    "                muR -= deltamu\n",
    "                wR  -= deltaw\n",
    "                \n",
    "                L = sL - muL ** 2 / wL\n",
    "                R = sR - muR ** 2 / wR\n",
    "                loss = L + R\n",
    "                \n",
    "                if loss < bestloss:\n",
    "                    feature = d\n",
    "                    cut = (xs[j] + xs[j+1]) / 2\n",
    "                    bestloss = loss\n",
    "                pj = j + 1\n",
    "                \n",
    "        assert feature != np.inf and cut != np.inf\n",
    "        \n",
    "        return feature, cut, bestloss\n",
    "    \n",
    "    def cart(self, X_train, y_train, depth=np.inf, weights=None):\n",
    "        \"\"\"\n",
    "        This method builds a CART tree.\n",
    "        \n",
    "        The maximum tree depth is defined by \"maxdepth\" (maxdepth=2 means one split).\n",
    "        Each example can be weighted with \"weights\".\n",
    "        \n",
    "        Inputs:\n",
    "        ------\n",
    "        X_train  : n x d matrix of data\n",
    "        y_train  : n-dimensional vector\n",
    "        maxdepth : maximum tree depth\n",
    "        weights  : n-dimensional weight vector for data points\n",
    "        \n",
    "        Outputs:\n",
    "        -------\n",
    "        tree : root of decision tree\n",
    "        \"\"\"\n",
    "        n, d = X_train.shape\n",
    "        if weights is None:\n",
    "            w = np.ones(n) / float(n)\n",
    "        else:\n",
    "            w = weights\n",
    "        \n",
    "        # Begin Solution\n",
    "        index = np.arange(n)\n",
    "        prediction = y_train.dot(w) / float(np.sum(w))\n",
    "        if depth == 0 or np.all(y_train == y_train[0]) or np.max(np.abs(np.diff(X_train, axis=0))) < (np.finfo(float).eps * 100):\n",
    "            # Create leaf Node\n",
    "            return TreeNode(None, None, None, None, None, prediction)\n",
    "        else:\n",
    "            feature, cut, h = self.sqsplit(X_train, y_train, w)\n",
    "            left_idx = index[X_train[:,feature] <= cut]\n",
    "            right_idx = index[X_train[:,feature] > cut]\n",
    "            left_w = w[left_idx]\n",
    "            right_w = w[right_idx]\n",
    "            left = self.cart(X_train[left_idx,:], y_train[left_idx], depth=depth-1, weights=left_w)\n",
    "            right = self.cart(X_train[right_idx,:], y_train[right_idx], depth=depth-1, weights=right_w)\n",
    "            currNode = TreeNode(left, right, None, feature, cut, prediction)\n",
    "            left.parent  = currNode\n",
    "            right.parent = currNode\n",
    "            \n",
    "            return currNode\n",
    "        \n",
    "    def evaltree(self, root, X_test, idx=[]):\n",
    "        \"\"\"\n",
    "        This method evaluates test data using the decision tree root.\n",
    "        \n",
    "        Inputs:\n",
    "        ------\n",
    "        root   : TreeNode decision tree\n",
    "        X_test : n x d matrix of data points\n",
    "        \n",
    "        Outputs:\n",
    "        -------\n",
    "        pred: n-dimensional vector of predictions\n",
    "        \"\"\"\n",
    "        assert root is not None\n",
    "        n = X_test.shape[0]\n",
    "        pred = np.zeros(n)\n",
    "        \n",
    "        if len(idx) == 0:\n",
    "            idx = np.ones(n) == 1\n",
    "            \n",
    "        if root.left is None and root.right is None:\n",
    "            return np.ones(sum(idx)) * root.prediction\n",
    "        \n",
    "        assert root.left is not None and root.right is not None\n",
    "        feature, cutoff = root.cutoff_id, root.cutoff_val\n",
    "        \n",
    "        idxL = idx & (X_test[:,feature] <= cutoff)\n",
    "        if root.left.left == None and root.left.right == None:\n",
    "            pred[idxL] = root.left.prediction\n",
    "        else:\n",
    "            pred[idxL] = self.evaltree(root.left, X_test, idxL)\n",
    "            \n",
    "        idxR = idx & (X_test[:,feature] > cutoff)\n",
    "        if root.right.left == None and root.right.right == None:\n",
    "            pred[idxR] = root.right.prediction\n",
    "        else:\n",
    "            pred[idxR] = self.evaltree(root.right, X_test, idxR)\n",
    "            \n",
    "        return pred[idx]"
   ]
  },
  {
   "cell_type": "code",
   "execution_count": 9,
   "metadata": {
    "nbgrader": {
     "checksum": "18e2fc961e2e16aed6ac3ce32997bcb8",
     "grade": false,
     "grade_id": "cell-computehbar",
     "locked": false,
     "schema_version": 1,
     "solution": true
    }
   },
   "outputs": [],
   "source": [
    "def computehbar(X_test, depth, Nsmall, NMODELS, OFFSET):\n",
    "    \"\"\"\n",
    "    function [hbar] = computehbar(X_test, depth, NSmall, NMODELS, OFFSET);\n",
    "\n",
    "    This function computes the expected prediction of the average regression tree (hbar) for data set X_test.\n",
    "    The regression tree should be trained using data of size Nsmall and is drawn from toydata with OFFSET.\n",
    "    The \"infinite\" number of models is estimated as an average over NMODELS.\n",
    "    \n",
    "    Inputs:\n",
    "    ------\n",
    "    X_test  : nx2 matrix\n",
    "    depth   : Depth of the tree\n",
    "    Nsmall  : Number of points to subsample\n",
    "    NMODELS : Number of Models to average over\n",
    "    OFFSET  : The OFFSET passed into the toyData function\n",
    "    \n",
    "    Outputs:\n",
    "    -------\n",
    "    hbar : nx1 vector with the predictions of hbar for each test input\n",
    "    \"\"\"\n",
    "    n = X_test.shape[0]\n",
    "    hbar = np.zeros(n)\n",
    "    \n",
    "    for _ in range(NMODELS):\n",
    "        X_train, y_train = toydata(OFFSET, Nsmall)\n",
    "        model = RegressionTree(depth=depth)\n",
    "        model.fit(X_train, y_train)\n",
    "        pred = model.predict(X_test)\n",
    "        hbar += pred\n",
    "    \n",
    "    return hbar / NMODELS"
   ]
  },
  {
   "cell_type": "markdown",
   "metadata": {
    "nbgrader": {
     "checksum": "7aaa13f11970b8b7328feb19666da22f",
     "grade": false,
     "grade_id": "cell-c26d1082ffdeed0c",
     "locked": true,
     "schema_version": 1,
     "solution": false
    }
   },
   "source": [
    "<h4>Bias Continued</h4>\n",
    "\n",
    "Now, we're equipped to calculate the bias $\\mathbb{E}[(\\bar{h}(\\mathbf{x})-\\bar{y}(\\mathbf{x}))^2]$. In this case, we need to compute the mean of the squared difference over your input points:\n",
    "$$\\mathbb{E}[(\\bar{h}(\\mathbf{x})-\\bar{y}(\\mathbf{x}))^2] = \\frac{1}{n}\\sum_{i=1}^n(\\bar{h}({x_i})-\\bar{y}({x_i}))^2$$"
   ]
  },
  {
   "cell_type": "code",
   "execution_count": 10,
   "metadata": {
    "nbgrader": {
     "checksum": "8c88cf42bc0d9dcb4975e1637f196148",
     "grade": false,
     "grade_id": "cell-computebias",
     "locked": false,
     "schema_version": 1,
     "solution": true
    }
   },
   "outputs": [],
   "source": [
    "def computebias(X_test, depth, Nsmall, NMODELS, OFFSET):\n",
    "    \"\"\"\n",
    "    function bias = computebias(X_test, depth, NSmall, NMODELS, OFFSET);\n",
    "    \n",
    "    This function computes the bias for data set X_test.\n",
    "    The regression tree should be trained using data of size Nsmall and is drawn from toydata with OFFSET.\n",
    "    The \"infinite\" number of models is estimated as an average over NMODELS.\n",
    "    \n",
    "    Inputs:\n",
    "    ------\n",
    "    X_test  : nx2 matrix\n",
    "    depth   : Depth of the tree\n",
    "    Nsmall  : Number of points to subsample\n",
    "    NMODELS : Number of Models to average over\n",
    "    OFFSET  : The OFFSET passed into the toyData function\n",
    "                    \n",
    "    Outputs:\n",
    "    -------\n",
    "    bias : a scalar representing the bias of the input data\n",
    "    \"\"\"\n",
    "    ybar = computeybar(X_test, OFFSET)\n",
    "    hbar = computehbar(X_test, depth, Nsmall, NMODELS, OFFSET)\n",
    "    bias = np.mean(np.power(hbar - ybar, 2))\n",
    "    \n",
    "    return bias"
   ]
  },
  {
   "cell_type": "markdown",
   "metadata": {
    "nbgrader": {
     "checksum": "f6ad58380bd1a50663f993b927ae053e",
     "grade": false,
     "grade_id": "cell-484ccd205f7b43fc",
     "locked": true,
     "schema_version": 1,
     "solution": false
    }
   },
   "source": [
    "<h3>Part Three: Variance</h3>\n",
    "\n",
    "<p>Finally, to compute the variance, we need to compute the term $\\mathbb{E}[(h_D-\\bar{h})^2]$. We will calculate it directly by editing <strong><code>computevariance</code></strong>.\n",
    "\n",
    "We can approach this calculation by first considering $\\bar{v}(\\mathbf{x}) = (h_D(\\mathbf x)-\\bar{h} ( \\mathbf x))^2$. Once again, we cannot compute the expected value exactly, but we can approximate this term by averaging over <code>NMODELS</code> models. We can use our previous function to compute $\\bar{h}$, and then estimate\n",
    "$$\\bar{v}(\\mathbf{x})=\\mathbb{E}_D[(h_D(\\mathbf{x})-\\bar{h}(\\mathbf{x}))^2]\\approx \\frac{1}{m}\\sum_{j=1}^m(h_{D_j}(\\mathbf{x_i})-\\bar{h}(\\mathbf{x_i}))^2$$\n",
    "where once again $D_1,\\dots,D_m$ are i.i.d. training data sets. Note that the output of this function is a vector; in other words, we should not be taking an average over the $n$ input points.\n",
    "</p>\n",
    "\n",
    "Finally, we will need to return the variance itself, which is $$\\mathbb{E}[(h_D(\\mathbf{x})-\\bar{h}(\\mathbf{x}))^2] = \\mathbb{E}[\\bar{v}(\\mathbf{x})] = \\frac{1}{n}\\sum_{i=1}^n \\bar{v}({x}_i)$$"
   ]
  },
  {
   "cell_type": "code",
   "execution_count": 11,
   "metadata": {
    "nbgrader": {
     "checksum": "edc7247b7bd4d4f490e3a8248c4d6753",
     "grade": false,
     "grade_id": "cell-computevariance",
     "locked": false,
     "schema_version": 1,
     "solution": true
    }
   },
   "outputs": [],
   "source": [
    "def computevariance(X_test, depth, hbar, Nsmall, NMODELS, OFFSET):\n",
    "    \"\"\"\n",
    "    function variance = computevbar(X_test, depth, hbar, Nsmall, NMODELS, OFFSET)\n",
    "    \n",
    "    This function computes the variance of classifiers trained on data sets from\n",
    "    toydata with pre-specified \"OFFSET\" and with kernel regression evaluated on X_test.\n",
    "    The prediction of the average classifier is assumed to be stored in \"hbar\".\n",
    "    The \"infinite\" number of models is estimated as an average over NMODELS.\n",
    "    \n",
    "    Inputs:\n",
    "    ------\n",
    "    X_test  : nx2 matrix\n",
    "    depth   : Depth of the tree\n",
    "    hbar    : nx1 vector of the predictions of hbar on the inputs X_test\n",
    "    Nsmall  : Number of points to subsample\n",
    "    NMODELS : Number of Models to average over\n",
    "    OFFSET  : The OFFSET passed into the toyData function\n",
    "    \n",
    "    Outputs:\n",
    "    -------\n",
    "    vbar : nx1 vector of the difference between each model prediction and the average model prediction for each input\n",
    "    \"\"\"\n",
    "    n = X_test.shape[0]\n",
    "    vbar = np.zeros(n)\n",
    "    variance = 0\n",
    "    \n",
    "    for _ in range(NMODELS):\n",
    "        X_train, y_train = toydata(OFFSET, Nsmall)\n",
    "        model = RegressionTree(depth=depth)\n",
    "        model.fit(X_train, y_train)\n",
    "        hd = model.predict(X_test)\n",
    "        vbar += np.power(hbar - hd, 2)\n",
    "        \n",
    "    vbar = vbar / NMODELS\n",
    "    variance = np.mean(vbar)\n",
    "    \n",
    "    return variance"
   ]
  },
  {
   "cell_type": "markdown",
   "metadata": {
    "nbgrader": {
     "checksum": "8730ccf2ee31450de1a66f742df219cf",
     "grade": false,
     "grade_id": "cell-3284bddfa0d87f94",
     "locked": true,
     "schema_version": 1,
     "solution": false
    }
   },
   "source": [
    "<h3>Review the Error for Various Depths</h3>\n",
    "\n",
    "<p>See how the error decomposes (roughly) into bias, variance and noise for various depths.</p>"
   ]
  },
  {
   "cell_type": "code",
   "execution_count": 12,
   "metadata": {},
   "outputs": [
    {
     "name": "stdout",
     "output_type": "stream",
     "text": [
      "Depth: 0: Bias: 0.1713 Variance: 0.0000 Noise: 0.0795 Bias+Variance+Noise: 0.2507 Test error: 0.2500\n",
      "Depth: 1: Bias: 0.0296 Variance: 0.0573 Noise: 0.0789 Bias+Variance+Noise: 0.1659 Test error: 0.1650\n",
      "Depth: 2: Bias: 0.0049 Variance: 0.0394 Noise: 0.0747 Bias+Variance+Noise: 0.1190 Test error: 0.1204\n",
      "Depth: 3: Bias: 0.0035 Variance: 0.0473 Noise: 0.0766 Bias+Variance+Noise: 0.1274 Test error: 0.1249\n",
      "Depth: 4: Bias: 0.0023 Variance: 0.0681 Noise: 0.0739 Bias+Variance+Noise: 0.1444 Test error: 0.1414\n",
      "Depth: 5: Bias: 0.0023 Variance: 0.0808 Noise: 0.0815 Bias+Variance+Noise: 0.1646 Test error: 0.1624\n",
      "Depth: 6: Bias: 0.0024 Variance: 0.0829 Noise: 0.0759 Bias+Variance+Noise: 0.1612 Test error: 0.1610\n",
      "Depth infinite: Bias: 0.0028 Variance: 0.0897 Noise: 0.0774 Bias+Variance+Noise: 0.1699 Test error: 0.1698\n"
     ]
    }
   ],
   "source": [
    "# bias variance demo\n",
    "OFFSET = 1.75\n",
    "\n",
    "# training set size\n",
    "Nsmall = 75\n",
    "\n",
    "# how big is a really big data set (approx. infinity)\n",
    "Nbig = 7500\n",
    "\n",
    "# models to average\n",
    "NMODELS = 100\n",
    "\n",
    "# What regularization constants to evaluate\n",
    "depths = [0, 1, 2, 3, 4, 5, 6, np.inf]\n",
    "\n",
    "Ndepths = len(depths)\n",
    "lbias = np.zeros(Ndepths)\n",
    "lvariance = np.zeros(Ndepths)\n",
    "ltotal = np.zeros(Ndepths)\n",
    "lnoise = np.zeros(Ndepths)\n",
    "lsum = np.zeros(Ndepths)\n",
    "\n",
    "# Different regularization constant classifiers\n",
    "for i in range(Ndepths):\n",
    "    depth = depths[i]\n",
    "    # use this data set as an approximation of the true test set\n",
    "    X_test, y_test = toydata(OFFSET, Nbig)\n",
    "    \n",
    "    # Estimate AVERAGE ERROR (TOTAL)\n",
    "    total = 0\n",
    "    for j in range(NMODELS):\n",
    "        # Set the seed for consistent behavior\n",
    "        X_train2, y_train2 = toydata(OFFSET, Nsmall)\n",
    "        model = RegressionTree(depth=depth)\n",
    "        model.fit(X_train2, y_train2)\n",
    "        total += np.mean((model.predict(X_test) - y_test) ** 2)\n",
    "        \n",
    "    total /= NMODELS\n",
    "    \n",
    "    # Estimate Noise\n",
    "    noise = computenoise(X_test, y_test, OFFSET)\n",
    "    \n",
    "    # Estimate Bias\n",
    "    bias = computebias(X_test, depth, Nsmall, NMODELS, OFFSET)\n",
    "    \n",
    "    # Estimate VARIANCE\n",
    "    hbar = computehbar(X_test, depth, Nsmall, NMODELS, OFFSET)\n",
    "    variance = computevariance(X_test, depth, hbar, Nsmall, NMODELS, OFFSET)\n",
    "    \n",
    "    # print and store results\n",
    "    lbias[i] = bias\n",
    "    lvariance[i] = variance\n",
    "    ltotal[i] = total\n",
    "    lnoise[i] = noise\n",
    "    lsum[i] = lbias[i] + lvariance[i] + lnoise[i]\n",
    "    \n",
    "    if np.isinf(depths[i]):\n",
    "        print('Depth infinite: Bias: %2.4f Variance: %2.4f Noise: %2.4f Bias+Variance+Noise: %2.4f Test error: %2.4f'\n",
    "          % (lbias[i], lvariance[i], lnoise[i], lsum[i], ltotal[i]))\n",
    "    else:\n",
    "        print('Depth: %d: Bias: %2.4f Variance: %2.4f Noise: %2.4f Bias+Variance+Noise: %2.4f Test error: %2.4f'\n",
    "          % (depths[i], lbias[i], lvariance[i], lnoise[i], lsum[i], ltotal[i]))"
   ]
  },
  {
   "cell_type": "code",
   "execution_count": 13,
   "metadata": {},
   "outputs": [
    {
     "data": {
      "image/png": "[encoded data removed]",
      "text/plain": [
       "<Figure size 720x432 with 1 Axes>"
      ]
     },
     "metadata": {
      "needs_background": "light"
     },
     "output_type": "display_data"
    }
   ],
   "source": [
    "# plot results\n",
    "plt.figure(figsize=(10,6))\n",
    "plt.plot(lbias[:Ndepths], '*', c='r', linestyle='-', linewidth=2)\n",
    "plt.plot(lvariance[:Ndepths], '*', c='k', linestyle='-', linewidth=2)\n",
    "plt.plot(lnoise[:Ndepths], '*', c='g', linestyle='-', linewidth=2)\n",
    "plt.plot(ltotal[:Ndepths], '*', c='b', linestyle='-', linewidth=2)\n",
    "plt.plot(lsum[:Ndepths], '*', c='k', linestyle='--', linewidth=2)\n",
    "\n",
    "plt.legend([\"Bias\", \"Variance\", \"Noise\", \"Test error\", \"Bias+Var+Noise\"]);\n",
    "plt.xlabel(\"Depth\", fontsize=18);\n",
    "plt.ylabel(\"Squared Error\", fontsize=18);\n",
    "plt.xticks([i for i in range(Ndepths)], depths);"
   ]
  }
 ],
 "metadata": {
  "kernelspec": {
   "display_name": "Python 3 (ipykernel)",
   "language": "python",
   "name": "python3"
  },
  "language_info": {
   "codemirror_mode": {
    "name": "ipython",
    "version": 3
   },
   "file_extension": ".py",
   "mimetype": "text/x-python",
   "name": "python",
   "nbconvert_exporter": "python",
   "pygments_lexer": "ipython3",
   "version": "3.8.9"
  }
 },
 "nbformat": 4,
 "nbformat_minor": 1
}

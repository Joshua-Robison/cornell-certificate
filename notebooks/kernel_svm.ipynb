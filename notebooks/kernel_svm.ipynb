{
 "cells": [
  {
   "cell_type": "markdown",
   "metadata": {},
   "source": [
    "<h2>Kernel SVM</h2>\n",
    "\n",
    "<p>This project implements a kernelized SVM (support vector machine).</p>"
   ]
  },
  {
   "cell_type": "markdown",
   "metadata": {},
   "source": [
    "<h3>Python Initialization</h3>"
   ]
  },
  {
   "cell_type": "code",
   "execution_count": 1,
   "metadata": {
    "nbgrader": {
     "checksum": "30ea34e09ce2fe95d9ffdd861a036f3e",
     "grade": false,
     "grade_id": "cell-6da27a81ca807569",
     "locked": true,
     "schema_version": 1,
     "solution": false
    }
   },
   "outputs": [
    {
     "name": "stdout",
     "output_type": "stream",
     "text": [
      "Running python 3.8.9\n"
     ]
    }
   ],
   "source": [
    "import sys\n",
    "import time\n",
    "import numpy as np\n",
    "from numpy.matlib import repmat\n",
    "\n",
    "from scipy.stats import linregress\n",
    "import scipy.optimize as so\n",
    "\n",
    "import matplotlib.pyplot as plt\n",
    "from matplotlib.animation import FuncAnimation\n",
    "%matplotlib inline\n",
    "\n",
    "print('Running python %s' % sys.version.split(' ')[0])"
   ]
  },
  {
   "cell_type": "markdown",
   "metadata": {
    "nbgrader": {
     "checksum": "df85ab06febb88b65c6c77c8f2bcef49",
     "grade": false,
     "grade_id": "cell-38378dba31605ea0",
     "locked": true,
     "schema_version": 1,
     "solution": false
    }
   },
   "source": [
    "### Generate and Visualize Data\n",
    "\n",
    "Before we start, let's generate some data and visualize the training set."
   ]
  },
  {
   "cell_type": "code",
   "execution_count": 2,
   "metadata": {},
   "outputs": [],
   "source": [
    "def generate_data(n=100):\n",
    "    # Sample data from Gaussian distribution N(0, 1)\n",
    "    X_train = np.random.randn(n, 2)\n",
    "    y_train = np.ones(n, dtype=np.int)\n",
    "    \n",
    "    # the first half the data is sampled from N([5,5], 1)\n",
    "    X_train[:n // 2] += 5\n",
    "    # the second half the data is sampled from N([10,10], 1)\n",
    "    X_train[n // 2:] += 10\n",
    "    y_train[n // 2:] = -1\n",
    "    \n",
    "    return X_train, y_train"
   ]
  },
  {
   "cell_type": "code",
   "execution_count": 3,
   "metadata": {},
   "outputs": [],
   "source": [
    "def visualize_2D(X_train, y_train):\n",
    "    \"\"\"\n",
    "    This function visualizes the 2D dataset.\n",
    "    \n",
    "    Inputs:\n",
    "    ------\n",
    "    X_train : training features\n",
    "    y_train : training labels\n",
    "    \n",
    "    Outputs:\n",
    "    -------\n",
    "    None : plots a figure\n",
    "    \"\"\"\n",
    "    symbols = ['ko', 'kx']\n",
    "    marker_symbols = ['o', 'x']\n",
    "    mycolors = [[0.5, 0.5, 1], [1, 0.5, 0.5]]\n",
    "    classvals = np.unique(y_train)\n",
    "    \n",
    "    for idx, c in enumerate(classvals):\n",
    "        plt.scatter(X_train[y_train == c,0], X_train[y_train == c,1], marker=marker_symbols[idx], label=str(c))\n",
    "        \n",
    "    plt.legend(loc=2)\n",
    "    plt.show()"
   ]
  },
  {
   "cell_type": "code",
   "execution_count": 4,
   "metadata": {
    "nbgrader": {
     "checksum": "d4249868be9ca4d361db6194c333c81a",
     "grade": false,
     "grade_id": "cell-38e09fdf6da3e10b",
     "locked": true,
     "schema_version": 1,
     "solution": false
    }
   },
   "outputs": [
    {
     "data": {
      "image/png": "[encoded data removed]",
      "text/plain": [
       "<Figure size 432x288 with 1 Axes>"
      ]
     },
     "metadata": {
      "needs_background": "light"
     },
     "output_type": "display_data"
    }
   ],
   "source": [
    "X_train, y_train = generate_data()\n",
    "visualize_2D(X_train, y_train)"
   ]
  },
  {
   "cell_type": "markdown",
   "metadata": {
    "nbgrader": {
     "checksum": "4812bec386118a86c8fb94d633487608",
     "grade": false,
     "grade_id": "cell-c36368930d78904c",
     "locked": true,
     "schema_version": 1,
     "solution": false
    }
   },
   "source": [
    "### Part One: Compute K\n",
    "\n",
    "In <code>computeK</code>, we calculate the values of different kernel functions given inputs `X` and `Z`. It will return $K = K(X,Z)$. $K_{ij} = k(\\mathbf x_i, \\mathbf z_j)$ where $k( \\mathbf x_i, \\mathbf z_j) = \\phi(\\mathbf x_i)^T\\phi(\\mathbf z_j)$. This function takes in the parameter `kerneltype` to decide which of the three different kernel functions to evaluate. To review, recall the following types of kernels:\n",
    "\n",
    "- Linear: $K(X,Z) = X^TZ$\n",
    "- Polynomial: $K(X, Z)=\\left(X^{T} Z+1\\right)^{d}$ where `kpar` = $d$\n",
    "- RBF: $K(X,Z) = \\exp\\{-\\frac{||X-Z||^2}{\\sigma^2}\\}$ where `kpar` = $\\frac{1}{\\sigma^2}$"
   ]
  },
  {
   "cell_type": "code",
   "execution_count": 5,
   "metadata": {},
   "outputs": [],
   "source": [
    "def l2distance(X, Z=None):\n",
    "    \"\"\"\n",
    "    function D=l2distance(X,Z)\n",
    "    \n",
    "    This function computes the Euclidean distance matrix.\n",
    "    \n",
    "    Syntax:\n",
    "    ------\n",
    "    D = l2distance(X,Z)\n",
    "    \n",
    "    Inputs:\n",
    "    ------\n",
    "    X : dxn data matrix with n vectors (columns) of dimensionality d\n",
    "    Z : dxm data matrix with m vectors (columns) of dimensionality d\n",
    "    \n",
    "    Outputs:\n",
    "    -------\n",
    "    Matrix D of size nxm\n",
    "    D(i,j) is the Euclidean distance of X(:,i) and Z(:,j)\n",
    "    \n",
    "    This function can be called with only one input:\n",
    "    l2distance(X) = l2distance(X,X)\n",
    "    \"\"\"\n",
    "    if Z is None:\n",
    "        n, d = X.shape\n",
    "        s1 = np.sum(np.power(X, 2), axis=1).reshape(-1,1)\n",
    "        D1 = -2 * np.dot(X, X.T) + repmat(s1, 1, n)\n",
    "        D = D1 + repmat(s1.T, n, 1)\n",
    "        np.fill_diagonal(D, 0)\n",
    "        D = np.sqrt(np.maximum(D, 0))\n",
    "    else:\n",
    "        n, d = X.shape\n",
    "        m, _ = Z.shape\n",
    "        s1 = np.sum(np.power(X, 2), axis=1).reshape(-1,1)\n",
    "        s2 = np.sum(np.power(Z, 2), axis=1).reshape(1,-1)\n",
    "        D1 = -2 * np.dot(X, Z.T) + repmat(s1, 1, m)\n",
    "        D = D1 + repmat(s2, n, 1)\n",
    "        D = np.sqrt(np.maximum(D, 0))\n",
    "        \n",
    "    return D"
   ]
  },
  {
   "cell_type": "code",
   "execution_count": 6,
   "metadata": {
    "nbgrader": {
     "checksum": "b07d246d8f0a5c779eabc4c0bd0052af",
     "grade": false,
     "grade_id": "cell-computeK",
     "locked": false,
     "schema_version": 1,
     "solution": true
    }
   },
   "outputs": [],
   "source": [
    "def computeK(kerneltype, X, Z, kpar=1):\n",
    "    \"\"\"\n",
    "    function K = computeK(kernel_type, X, Z)\n",
    "    \n",
    "    This function computes a matrix K such that Kij = k(x,z);\n",
    "    for three different functions: linear, rbf or polynomial.\n",
    "    \n",
    "    Inputs:\n",
    "    ------\n",
    "    kerneltype : either 'linear', 'polynomial', 'rbf'\n",
    "    X          : n input vectors of dimension d (nxd)\n",
    "    Z          : m input vectors of dimension d (mxd)\n",
    "    kpar       : kernel parameter (inverse kernel width gamma in case of RBF, degree in case of polynomial)\n",
    "    \n",
    "    Outputs:\n",
    "    -------\n",
    "    K : nxm kernel matrix\n",
    "    \"\"\"\n",
    "    assert kerneltype in ['linear', 'polynomial', 'rbf'], 'Kernel type %s not known.' % kerneltype\n",
    "    assert X.shape[1] == Z.shape[1], 'Input dimensions do not match'\n",
    "    \n",
    "    if kerneltype == 'linear':\n",
    "        K = np.dot(X, Z.T)\n",
    "    elif kerneltype == 'polynomial':\n",
    "        K = np.power((np.dot(X, Z.T) + 1), kpar)\n",
    "    elif kerneltype == 'rbf':\n",
    "        K = np.exp(-kpar * np.square(l2distance(X, Z)))\n",
    "    else:\n",
    "        raise ValueError('Invalid kernel type. Try again.')\n",
    "        \n",
    "    return K"
   ]
  },
  {
   "cell_type": "markdown",
   "metadata": {
    "nbgrader": {
     "checksum": "80c421a14bca6d2e4d8f0fc9aaf200b6",
     "grade": false,
     "grade_id": "cell-7a01c840a42c22ae",
     "locked": true,
     "schema_version": 1,
     "solution": false
    }
   },
   "source": [
    "### Part Two: Compute Loss\n",
    "\n",
    "Now, we are going to implement the function <code>loss</code>. In the kernelized version of the loss, $\\mathbf{w}$ is calculated as a linear combination of the training examples, so we need to pass the training set to the function.\n",
    "\n",
    "The following is an explanation of the theory that leads us to the loss expression."
   ]
  },
  {
   "cell_type": "markdown",
   "metadata": {
    "nbgrader": {
     "checksum": "4abe82c248947da080237d583b1ebfb1",
     "grade": false,
     "grade_id": "cell-5b36c08fbebe600d",
     "locked": true,
     "schema_version": 1,
     "solution": false
    }
   },
   "source": [
    "Recall that we can express the solution as a linear combination of the training examples\n",
    "\n",
    "$\\{\\phi(\\mathbf{x}_1), \\cdots, \\phi(\\mathbf{x}_n) \\}$:\n",
    "\n",
    "$$\n",
    "\\begin{aligned}\n",
    "\\mathbf{w} = \\sum_{j = 1}^n \\alpha_j y_j \\phi(\\mathbf{x}_j)\n",
    "\\end{aligned}\n",
    "$$\n",
    "\n",
    "To simplify, we define $\\beta_j = \\alpha_j y_j$ and we can express the solution as:\n",
    "$$\n",
    "\\begin{aligned}\n",
    "\\mathbf{w} = \\sum_{j = 1}^n \\beta_j \\phi(\\mathbf{x}_j)\n",
    "\\end{aligned}\n",
    "$$\n",
    "\n",
    "If we substitute the formulation above into our unconstrained regularized squared hinge loss,\n",
    "$$\n",
    "\\begin{aligned}\n",
    "\\min_{\\mathbf{w},b}\\underbrace{\\mathbf{w}^T\\mathbf{w}}_{l_{2} \\text{ regularizer} } +  C\\\n",
    "\\sum_{i=1}^{n}\\underbrace{\\max\\left [ 1-y_{i}(\\mathbf{w}^T \\mathbf{x}_i+b),0 \\right ] ^2}_{ \\text{squared hinge loss} }\n",
    "\\end{aligned}\n",
    "$$\n",
    "\n",
    "we obtain:\n",
    "$$\n",
    "\\begin{aligned}\n",
    "\\underbrace{\\sum_{i = 1} ^n \\sum_{j = 1}^n \\beta_i  \\beta_j \\phi(\\mathbf{x} _i)^T \\phi(\\mathbf{x}_j)}_{l_{2} \\text{ regularizer}} +  C\\  \\sum_{i=1}^{n}\\underbrace{\\max\\left [ 1-y_{i}(\\sum_{j = 1}^n \\beta_j \\phi(\\mathbf{x}_j)^T \\phi(\\mathbf{x}_i)+b),0 \\right ] ^ 2}_{\\text{squared hinge loss}}     \n",
    "\\end{aligned}\n",
    "$$\n",
    "\n",
    "Now, if we replace all the $\\phi(\\mathbf{x} _i)^T \\phi(\\mathbf{x}_j)$ with $k(\\mathbf{x}_i, \\mathbf{x}_j)$, we obtained the \"kernelized\" hinge loss.\n",
    "\n",
    "$$\n",
    "\\begin{aligned}\n",
    "\\min_{\\beta_1,\\cdots,\\beta_n, b} \\underbrace{\\sum_{i = 1} ^n \\sum_{j = 1}^n \\beta_i \\beta_j k(\\mathbf{x} _i, \\mathbf{x}_j)}_{l_{2} \\text{ regularizer}} +  C\\  \\sum_{i=1}^{n}\\underbrace{\\max\\left [ 1-y_{i}(\\sum_{j = 1}^n \\beta_j k(\\mathbf{x}_j, \\mathbf{x}_i)+b),0 \\right ] ^ 2}_{\\text{squared hinge loss}}\n",
    "\\end{aligned}\n",
    "$$\n",
    "\n",
    "The expression above seems a little bit unwieldy, so we are going to simplify the expression again. First, we will simplify the $l_{2}$ regularizer. Define $\\mathbf{\\beta} = [\\beta_1, \\cdots, \\beta_n]^T$ and $K_{train}$ to be the kernel matrix calculated on the training set, namely, the (i, j)-th entry of $K_{train}$ is $k(\\mathbf{x} _i, \\mathbf{x}_j)$. It is easy to verify that the $l_{2}$ regularizer can be expressed as the quadratic form\n",
    "\n",
    "$$\n",
    "\\sum_{i = 1} ^n \\sum_{j = 1}^n \\beta_i \\beta_j k(\\mathbf{x} _i, \\mathbf{x}_j) = \\mathbf{\\beta}^T K_{train} \\mathbf{\\beta}\n",
    "$$\n",
    "\n",
    "Now, let's simplify the squared hinge loss. To start, we define $K_{train}[i]$ as the i-th row of $k_{train}$ expressed as a column vector. Now, the summation term within the hinge loss can be expressed as:\n",
    "\n",
    "$$\n",
    "\\sum_{ j = 1}^n \\beta_j k(\\mathbf{x}_j, \\mathbf{x}_i) = \\mathbf{\\beta}^T K_{train}[i]\n",
    "$$\n",
    "\n",
    "Combining the two simplifications we have, we arrive at the following expression for the loss function: \n",
    "$$\n",
    "\\begin{aligned}\n",
    "\\min_{\\mathbf{\\beta}, b} \\underbrace{\\mathbf{\\beta}^T K_{train} \\mathbf{\\beta}}_{l_{2}  \\text{ regularizer}} +  C\\ \\sum_{i=1}^{n}\\underbrace{\\max\\left [ 1-y_{i}(\\mathbf{\\beta}^T K_{train}[i]+b),0 \\right ] ^ 2}_{\\text{squared hinge loss}}\n",
    "\\end{aligned}\n",
    "$$\n",
    "\n",
    "After we minimize this expression and have found a good $\\beta$ that works on the kernel generated from the training data, $K_{train}$, we can test using our $\\beta$ and calculating the loss against testing data: \n",
    "\n",
    "$$\n",
    "\\begin{aligned}\n",
    "\\min_{\\mathbf{\\beta}, b} \\underbrace{\\mathbf{\\beta}^T K_{train} \\mathbf{\\beta}}_{l_{2}  \\text{ regularizer}} +  C\\ \\sum_{i=1}^{n}\\underbrace{\\max\\left [ 1-y_{i}(\\mathbf{\\beta}^T K_{test}[i]+b),0 \\right ] ^ 2}_{\\text{squared hinge loss}}\n",
    "\\end{aligned}\n",
    "$$\n",
    "\n",
    "Note that the loss function we have above is very similar to the vanilla linear SVM, the differences are: \n",
    "\n",
    "1. Instead of $\\mathbf{w}$, we have $\\mathbf{\\beta}$\n",
    "2. The $l_{2}$ regularizer $\\mathbf{w}^T \\mathbf{w} = \\mathbf{w}^T I \\mathbf{w}$ is changed to $\\mathbf{\\beta}^T K_{train} \\mathbf{\\beta}$ to account for using $\\mathbf{\\beta}$ instead of $\\mathbf{w}$\n",
    "3. The inner product $\\mathbf{w}^T \\mathbf{x}_i$ in the hinge loss is changed to $\\mathbf{\\beta}^T K_{train}[i]$"
   ]
  },
  {
   "cell_type": "markdown",
   "metadata": {
    "nbgrader": {
     "checksum": "7bcbbb62bd27c72b7b3ca6ea12a60e4b",
     "grade": false,
     "grade_id": "cell-c7a3782fe360f7c1",
     "locked": true,
     "schema_version": 1,
     "solution": false
    }
   },
   "source": [
    "This is useful because we never need to explicitly calculate $\\phi(\\mathbf x_i)$, which can be exponential in size, or in the case of RBF, have an infinite number of elements. On the other hand, $K$ will be a $m x n$ matrices that encapsulates all the data you would gain from $\\phi$.\n",
    "\n",
    "Note that in the following code we are passing in both training data (`X_train`, `y_train`) and testing data (`X_test`, `y_test`) to calculate two kernels, `kernel_train` and `kernel_test` respectively. Unfortunately, when we're training an algorithm, we don't have access to test data! That would make the test data a very poor evaluator of the performance of the algorithm. This function is written so that passing **training data** into the parameters `X_test` and `y_test` will train the SVM on training data to find the best betas. During testing, passing in **test data** into those variables can be used to evaluate how good your algorithm is."
   ]
  },
  {
   "cell_type": "code",
   "execution_count": 7,
   "metadata": {
    "nbgrader": {
     "checksum": "6b773dd4a9ca88f21dd30038cdc2df60",
     "grade": false,
     "grade_id": "cell-loss",
     "locked": false,
     "schema_version": 1,
     "solution": true
    }
   },
   "outputs": [],
   "source": [
    "def loss(beta, b, X_train, y_train, X_test, y_test, C, kerneltype, kpar=1):\n",
    "    \"\"\"\n",
    "    Inputs:\n",
    "    ------\n",
    "    beta       : n dimensional vector that stores the linear combination coefficient\n",
    "    X_train    : nxd dimensional matrix (training set, each row is an input vector)\n",
    "    y_train    : n dimensional vector (training label, each entry is a label)\n",
    "    b          : scalar (bias)\n",
    "    X_test     : mxd dimensional matrix (test set, each row is an input vector)\n",
    "    y_test     : m dimensional vector (test label, each entry is a label)\n",
    "    C          : scalar (constant that controls the tradeoff between l2-regularizer and hinge-loss)\n",
    "    kerneltype : either 'linear', 'polynomial', 'rbf'\n",
    "    kpar       : kernel parameter (inverse kernel width gamma in case of RBF, degree in case of polynomial)\n",
    "    \n",
    "    Outputs:\n",
    "    -------\n",
    "    loss : the total loss obtained with (beta, X_test, y_test, b) on X_test and y_test (scalar)\n",
    "    \"\"\"\n",
    "    # compute the kernel values between X_train and X_train\n",
    "    kernel_train = computeK(kerneltype, X_train, X_train, kpar)\n",
    "    \n",
    "    # compute the kernel values between X_test and X_train\n",
    "    kernel_test = computeK(kerneltype, X_test, X_train, kpar)\n",
    "    \n",
    "    prediction = kernel_test @ beta + b\n",
    "    margin = y_test * prediction\n",
    "    loss_val = beta @ kernel_test @ beta + C * (np.sum(np.power(np.maximum(1 - margin, 0), 2)))\n",
    "    \n",
    "    return loss_val"
   ]
  },
  {
   "cell_type": "markdown",
   "metadata": {
    "nbgrader": {
     "checksum": "71b919429830619a8df0d7a746949660",
     "grade": false,
     "grade_id": "cell-349f46a1eb425985",
     "locked": true,
     "schema_version": 1,
     "solution": false
    }
   },
   "source": [
    "### Part Three: Compute Gradient\n",
    "\n",
    "Now, we implement function `grad`, that computes the gradient of the loss function. This function has the same input parameters as `loss` and requires the gradient with respect to $\\beta$ (`beta_grad`) and $b$ (`bgrad`). Remember that the squared hinge loss is calculated with $K_{train}$ when training, and $K_{test}$ when testing. In the code, we can represent this by using the variables associated with testing (i.e. `X_test`, `y_test`, and `k_test`), since they will contain training data if you are training the SVM.\n",
    "\n",
    "Recall the expression for loss from above. First we take the derivative with respect to $\\beta$:\n",
    "$$\n",
    "\\frac{\\partial \\mathcal L}{\\partial \\mathbf \\beta} =  2{K_{train} \\mathbf{\\beta}} +  C\\\n",
    "\\sum_{i=1}^{n}{ 2 \\max\\left [ 1-y_{i}(\\mathbf{\\beta}^T K_{test}[i]+b),0 \\right ] (-y_i K_{test}[i])}\n",
    "$$\n",
    "\n",
    "Then, with respect to $b$:\n",
    "$$\n",
    "\\frac{\\partial \\mathcal L}{\\delta b} =  C\\  \\sum_{i=1}^{n}{ 2 \\max\\left [ 1-y_{i}(\\mathbf{\\beta}^T K_{test}[i]+b),0 \\right ] (-y_i)}\n",
    "$$"
   ]
  },
  {
   "cell_type": "code",
   "execution_count": 8,
   "metadata": {
    "nbgrader": {
     "checksum": "274ba7ab2c5682b4e4589adb75d38a57",
     "grade": false,
     "grade_id": "cell-grad",
     "locked": false,
     "schema_version": 1,
     "solution": true
    }
   },
   "outputs": [],
   "source": [
    "def grad(beta, b, X_train, y_train, X_test, y_test, C, kerneltype, kpar=1):\n",
    "    \"\"\"\n",
    "    Inputs:\n",
    "    ------\n",
    "    beta       : n dimensional vector that stores the linear combination coefficient\n",
    "    X_train    : nxd dimensional matrix (training set, each row is an input vector)\n",
    "    y_train    : n dimensional vector (training label, each entry is a label)\n",
    "    b          : scalar (bias)\n",
    "    X_test     : mxd dimensional matrix (test set, each row is an input vector)\n",
    "    y_test     : m dimensional vector (test label, each entry is a label)\n",
    "    C          : scalar (constant that controls the tradeoff between l2-regularizer and hinge-loss)\n",
    "    kerneltype : either 'linear', 'polynomial', 'rbf'\n",
    "    kpar       : kernel parameter (inverse kernel width gamma in case of RBF, degree in case of polynomial)\n",
    "    \n",
    "    Outputs:\n",
    "    -------\n",
    "    beta_grad : n dimensional vector (the gradient of the hinge loss with respect to the alphas)\n",
    "    bgrad     : constant (the gradient of he hinge loss with respect to the bias, b)\n",
    "    \"\"\"\n",
    "    # compute the kernel values between X_train and X_train \n",
    "    kernel_train = computeK(kerneltype, X_train, X_train, kpar)\n",
    "    \n",
    "    # compute the kernel values between X_test and X_train\n",
    "    kernel_test = computeK(kerneltype, X_test, X_train, kpar)\n",
    "    \n",
    "    # prediction = kernel_test @ beta + b\n",
    "    margin = y_test * (kernel_test @ beta + b)\n",
    "    hinge = np.maximum(1 - margin, 0)\n",
    "    beta_grad = 2 * (kernel_test @ beta) + C * np.sum((2 * hinge * -y_test).reshape(-1, 1) * kernel_test, axis=0)\n",
    "    bgrad = C * np.sum(2 * hinge * -y_test, axis=0)\n",
    "    \n",
    "    return beta_grad, bgrad"
   ]
  },
  {
   "cell_type": "markdown",
   "metadata": {},
   "source": [
    "## Test the Kernelized Algorithm"
   ]
  },
  {
   "cell_type": "markdown",
   "metadata": {
    "nbgrader": {
     "checksum": "4c4d8c09ffbf9120e11ee6f4a3394896",
     "grade": false,
     "grade_id": "cell-7ad9af17accaddf0",
     "locked": true,
     "schema_version": 1,
     "solution": false
    }
   },
   "source": [
    "Using the cell below, we can call the optimization routine to see the final loss of our model."
   ]
  },
  {
   "cell_type": "code",
   "execution_count": 9,
   "metadata": {},
   "outputs": [],
   "source": [
    "def minimize(objective, grad, X_train, y_train, C, kerneltype, kpar):\n",
    "    \n",
    "    def loss_lambda(X):\n",
    "        return objective(X[:-1], X[-1], X_train, y_train, X_train, y_train, C, kerneltype, kpar)\n",
    "    \n",
    "    def grad_lambda(X):\n",
    "        return np.append(*grad(X[:-1], X[-1], X_train, y_train, X_train, y_train, C, kerneltype, kpar))\n",
    "    \n",
    "    n, d = X_train.shape\n",
    "    alpha = np.zeros(n)\n",
    "    b = np.zeros(1)\n",
    "    \n",
    "    init = np.append(alpha, np.array(b))\n",
    "    sol = so.minimize(loss_lambda, x0=init, jac=grad_lambda, method='SLSQP', options={'ftol': 1e-8, 'maxiter': 10000})\n",
    "    alpha = sol.x[:-1]\n",
    "    b = sol.x[-1]\n",
    "    \n",
    "    return alpha, b, sol.fun"
   ]
  },
  {
   "cell_type": "code",
   "execution_count": 10,
   "metadata": {
    "nbgrader": {
     "checksum": "3fbef25ee0141412860201fb3fbba70b",
     "grade": false,
     "grade_id": "cell-fa26a32043f70279",
     "locked": true,
     "schema_version": 1,
     "solution": false
    }
   },
   "outputs": [
    {
     "name": "stdout",
     "output_type": "stream",
     "text": [
      "The Final Loss of your model is: 0.3793\n"
     ]
    }
   ],
   "source": [
    "beta_sol, bias_sol, final_loss = minimize(objective=loss, grad=grad, X_train=X_train,\n",
    "                                          y_train=y_train, C=1000, kerneltype='linear', kpar=1)\n",
    "print('The Final Loss of your model is: {:0.4f}'.format(final_loss))"
   ]
  },
  {
   "cell_type": "markdown",
   "metadata": {
    "nbgrader": {
     "checksum": "969d1816c68107fd6e4b0a97e848fd79",
     "grade": false,
     "grade_id": "cell-8e81c269f495b733",
     "locked": true,
     "schema_version": 1,
     "solution": false
    }
   },
   "source": [
    "If everything is implemented correctly, we should be able to get a training error of zero when we run the following cell."
   ]
  },
  {
   "cell_type": "code",
   "execution_count": 11,
   "metadata": {
    "nbgrader": {
     "checksum": "fd399d2efdadd3da916d754190cd296e",
     "grade": false,
     "grade_id": "cell-20ca56dcce47a510",
     "locked": true,
     "schema_version": 1,
     "solution": false
    }
   },
   "outputs": [
    {
     "name": "stdout",
     "output_type": "stream",
     "text": [
      "Training error: 0.0000\n"
     ]
    }
   ],
   "source": [
    "svmclassify = lambda x: np.sign(computeK('linear', x, X_train, 1).dot(beta_sol) + bias_sol)\n",
    "\n",
    "train_predictions = svmclassify(X_train)\n",
    "training_error = np.mean(np.sign(train_predictions) != y_train)\n",
    "print('Training error: %2.4f' % training_error)"
   ]
  },
  {
   "cell_type": "markdown",
   "metadata": {
    "nbgrader": {
     "checksum": "d42a7b6df0a29f387b4e162d68f3b909",
     "grade": false,
     "grade_id": "cell-d7214490d41e9d20",
     "locked": true,
     "schema_version": 1,
     "solution": false
    }
   },
   "source": [
    "<h3>Visualize the Decision Boundary</h3>\n",
    "\n",
    "Also, when we visualize the classifier, we should see a max margin separator."
   ]
  },
  {
   "cell_type": "code",
   "execution_count": 12,
   "metadata": {},
   "outputs": [],
   "source": [
    "def visclassifier(fun, X_train, y_train):\n",
    "    \"\"\"\n",
    "    This function is used to visualize decision boundary.\n",
    "    \n",
    "    Inputs:\n",
    "    ------\n",
    "    fun     : classifier function\n",
    "    X_train : training features\n",
    "    y_train : training labels\n",
    "    \n",
    "    Outputs:\n",
    "    -------\n",
    "    None : a figure is returned to the screen\n",
    "    \"\"\"\n",
    "    y_train = np.array(y_train).flatten()\n",
    "    \n",
    "    symbols = ['ko', 'kx']\n",
    "    marker_symbols = ['o', 'x']\n",
    "    mycolors = [[0.5, 0.5, 1], [1, 0.5, 0.5]]\n",
    "    classvals = np.unique(y_train)\n",
    "    \n",
    "    plt.figure()\n",
    "    \n",
    "    res = 300\n",
    "    xrange = np.linspace(min(X_train[:,0]), max(X_train[:,0]), res)\n",
    "    yrange = np.linspace(min(X_train[:,1]), max(X_train[:,1]), res)\n",
    "    pixelX = repmat(xrange, res, 1)\n",
    "    pixelY = repmat(yrange, res, 1).T\n",
    "    \n",
    "    X_test = np.array([pixelX.flatten(), pixelY.flatten()]).T\n",
    "    \n",
    "    testpreds = fun(X_test)\n",
    "    Z = testpreds.reshape(res, res)\n",
    "    # Z[0,0] = 1 # optional: scale the colors correctly\n",
    "    plt.contourf(pixelX, pixelY, np.sign(Z), colors=mycolors)\n",
    "    \n",
    "    for idx, c in enumerate(classvals):\n",
    "        plt.scatter(X_train[y_train == c,0], X_train[y_train == c,1], marker=marker_symbols[idx], color='k')\n",
    "        \n",
    "    plt.axis('tight')\n",
    "    plt.show()"
   ]
  },
  {
   "cell_type": "code",
   "execution_count": 13,
   "metadata": {
    "nbgrader": {
     "checksum": "dbb14f7b31b7bc70090dd8e6a4b6364e",
     "grade": false,
     "grade_id": "cell-e0f813d39a20941d",
     "locked": true,
     "schema_version": 1,
     "solution": false
    }
   },
   "outputs": [
    {
     "data": {
      "image/png": "[encoded data removed]",
      "text/plain": [
       "<Figure size 432x288 with 1 Axes>"
      ]
     },
     "metadata": {
      "needs_background": "light"
     },
     "output_type": "display_data"
    }
   ],
   "source": [
    "visclassifier(svmclassify, X_train, y_train)"
   ]
  },
  {
   "cell_type": "markdown",
   "metadata": {
    "nbgrader": {
     "checksum": "b2d9ad8aa8f8309e1e1750341e3850f9",
     "grade": false,
     "grade_id": "cell-f922d756ef836ee9",
     "locked": true,
     "schema_version": 1,
     "solution": false
    }
   },
   "source": [
    "Let's visualize a different kind of nonlinear data, a spiral dataset."
   ]
  },
  {
   "cell_type": "code",
   "execution_count": 14,
   "metadata": {},
   "outputs": [],
   "source": [
    "def spiraldata(N=300):\n",
    "    r = np.linspace(1, 2 * np.pi, N)\n",
    "    X_train1 = np.array([np.sin(2 * r) * r, np.cos(2 * r) * r]).T\n",
    "    X_train2 = np.array([np.sin(2 * r + np.pi) * r, np.cos(2 * r + np.pi) * r]).T\n",
    "    X_train = np.concatenate([X_train1, X_train2], axis=0)\n",
    "    y_train = np.concatenate([np.ones(N), -1 * np.ones(N)])\n",
    "    X_train = X_train + np.random.randn(X_train.shape[0], X_train.shape[1]) * 0.2\n",
    "    \n",
    "    X_test = X_train[::2,:]\n",
    "    y_test = y_train[::2]\n",
    "    X_train = X_train[1::2,:]\n",
    "    y_train = y_train[1::2]\n",
    "    \n",
    "    return X_train, y_train, X_test, y_test"
   ]
  },
  {
   "cell_type": "code",
   "execution_count": 15,
   "metadata": {},
   "outputs": [],
   "source": [
    "def visualize_2D(X_train, y_train):\n",
    "    plt.scatter(X_train[y_train == 1, 0], X_train[y_train == 1, 1], c='b')\n",
    "    plt.scatter(X_train[y_train != 1, 0], X_train[y_train != 1, 1], c='r')\n",
    "    plt.legend(['+1', '-1'])\n",
    "    plt.show()"
   ]
  },
  {
   "cell_type": "code",
   "execution_count": 16,
   "metadata": {
    "nbgrader": {
     "checksum": "1df147ff056c225f6f976be84300be17",
     "grade": false,
     "grade_id": "cell-c69bc918b0db1293",
     "locked": true,
     "schema_version": 1,
     "solution": false
    }
   },
   "outputs": [
    {
     "data": {
      "image/png": "[encoded data removed]",
      "text/plain": [
       "<Figure size 432x288 with 1 Axes>"
      ]
     },
     "metadata": {
      "needs_background": "light"
     },
     "output_type": "display_data"
    }
   ],
   "source": [
    "X_train_spiral, y_train_spiral, X_test_spiral, y_test_spiral = spiraldata()\n",
    "visualize_2D(X_train_spiral, y_train_spiral)"
   ]
  },
  {
   "cell_type": "markdown",
   "metadata": {
    "nbgrader": {
     "checksum": "4a7b22eebbbb2cd8130aa96efc749250",
     "grade": false,
     "grade_id": "cell-89594e6378c785cb",
     "locked": true,
     "schema_version": 1,
     "solution": false
    }
   },
   "source": [
    "Since the dataset is nonlinear, we are going to use the rbf kernel."
   ]
  },
  {
   "cell_type": "code",
   "execution_count": 17,
   "metadata": {
    "nbgrader": {
     "checksum": "4bcc6e72296c2754bdffac09886062b3",
     "grade": false,
     "grade_id": "cell-f4114c6db1b51e2c",
     "locked": true,
     "schema_version": 1,
     "solution": false
    }
   },
   "outputs": [
    {
     "name": "stdout",
     "output_type": "stream",
     "text": [
      "The Final Loss of your model is: 73.1507\n"
     ]
    }
   ],
   "source": [
    "beta_sol_spiral, bias_sol_spiral, final_loss_spiral = minimize(objective=loss, grad=grad, X_train=X_train_spiral, \n",
    "                                                               y_train=y_train_spiral, C=100, kerneltype='rbf', kpar=1)\n",
    "print('The Final Loss of your model is: {:0.4f}'.format(final_loss_spiral))"
   ]
  },
  {
   "cell_type": "markdown",
   "metadata": {
    "nbgrader": {
     "checksum": "3024813dcdb212a3e6c40b87b6128d64",
     "grade": false,
     "grade_id": "cell-28c6cee7c68d04e9",
     "locked": true,
     "schema_version": 1,
     "solution": false
    }
   },
   "source": [
    "If we do everything correctly, our training error and test error should both be zero!"
   ]
  },
  {
   "cell_type": "code",
   "execution_count": 18,
   "metadata": {
    "nbgrader": {
     "checksum": "25a221d777e6a1d4838b9449fd33c46e",
     "grade": false,
     "grade_id": "cell-16357e4762b8370b",
     "locked": true,
     "schema_version": 1,
     "solution": false
    }
   },
   "outputs": [
    {
     "name": "stdout",
     "output_type": "stream",
     "text": [
      "Training error: 0.0000\n",
      "Test error: 0.0000\n"
     ]
    }
   ],
   "source": [
    "svmclassify_spiral = lambda x: np.sign(computeK('rbf', X_train_spiral, x, 1).transpose().dot(beta_sol_spiral) + bias_sol_spiral)\n",
    "\n",
    "train_predictions_spiral = svmclassify_spiral(X_train_spiral)\n",
    "training_error_spiral = np.mean(train_predictions_spiral != y_train_spiral)\n",
    "print('Training error: %2.4f' % training_error_spiral)\n",
    "\n",
    "test_predictions_spiral = svmclassify_spiral(X_test_spiral)\n",
    "test_error_spiral = np.mean(test_predictions_spiral != y_test_spiral)\n",
    "print('Test error: %2.4f' % test_error_spiral)"
   ]
  },
  {
   "cell_type": "markdown",
   "metadata": {
    "nbgrader": {
     "checksum": "5258391aaa1011f9114a967201e65783",
     "grade": false,
     "grade_id": "cell-52cb1b9aae3993cb",
     "locked": true,
     "schema_version": 1,
     "solution": false
    }
   },
   "source": [
    "Now, let's visualize the classifier on the spiral dataset!"
   ]
  },
  {
   "cell_type": "code",
   "execution_count": 19,
   "metadata": {
    "nbgrader": {
     "checksum": "3ed86f72e1c71972c4248d46c6221ad1",
     "grade": false,
     "grade_id": "cell-40d1227ae7bf20e6",
     "locked": true,
     "schema_version": 1,
     "solution": false
    }
   },
   "outputs": [
    {
     "data": {
      "image/png": "[encoded data removed]",
      "text/plain": [
       "<Figure size 432x288 with 1 Axes>"
      ]
     },
     "metadata": {
      "needs_background": "light"
     },
     "output_type": "display_data"
    }
   ],
   "source": [
    "visclassifier(svmclassify_spiral, X_train_spiral, y_train_spiral)"
   ]
  }
 ],
 "metadata": {
  "kernelspec": {
   "display_name": "Python 3 (ipykernel)",
   "language": "python",
   "name": "python3"
  },
  "language_info": {
   "codemirror_mode": {
    "name": "ipython",
    "version": 3
   },
   "file_extension": ".py",
   "mimetype": "text/x-python",
   "name": "python",
   "nbconvert_exporter": "python",
   "pygments_lexer": "ipython3",
   "version": "3.8.9"
  }
 },
 "nbformat": 4,
 "nbformat_minor": 4
}

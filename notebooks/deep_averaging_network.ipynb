{
 "cells": [
  {
   "cell_type": "markdown",
   "metadata": {},
   "source": [
    "# Implement a Deep Averaging Network"
   ]
  },
  {
   "cell_type": "markdown",
   "metadata": {
    "nbgrader": {
     "checksum": "70e6cb858dba42a5eefab2925ff7c3fb",
     "grade": false,
     "grade_id": "cell-18e299b53d44e9c6",
     "locked": true,
     "schema_version": 1,
     "solution": false
    }
   },
   "source": [
    "<h3>Python Initialization</h3>"
   ]
  },
  {
   "cell_type": "code",
   "execution_count": 1,
   "metadata": {
    "nbgrader": {
     "checksum": "02d3f1caad089b846657d31dc1e401b6",
     "grade": false,
     "grade_id": "cell-8a982dd433cb6b32",
     "locked": true,
     "schema_version": 1,
     "solution": false
    }
   },
   "outputs": [],
   "source": [
    "# import libraries\n",
    "import torch\n",
    "import torch.nn as nn\n",
    "from torch.nn import functional as F\n",
    "import torch.utils.data\n",
    "import matplotlib.pyplot as plt\n",
    "import pandas as pd\n",
    "import numpy as np\n",
    "from sklearn.feature_extraction.text import CountVectorizer"
   ]
  },
  {
   "cell_type": "code",
   "execution_count": 2,
   "metadata": {},
   "outputs": [
    {
     "data": {
      "text/plain": [
       "<torch._C.Generator at 0x1f593be7ad0>"
      ]
     },
     "execution_count": 2,
     "metadata": {},
     "output_type": "execute_result"
    }
   ],
   "source": [
    "# PyTorch random seed\n",
    "torch.manual_seed(1)"
   ]
  },
  {
   "cell_type": "code",
   "execution_count": 3,
   "metadata": {},
   "outputs": [
    {
     "name": "stdout",
     "output_type": "stream",
     "text": [
      "GPU is available: False\n"
     ]
    }
   ],
   "source": [
    "# If gpu is supported, then seed the gpu random number generator as well\n",
    "gpu_available = torch.cuda.is_available()\n",
    "if gpu_available:\n",
    "    torch.cuda.manual_seed(1)\n",
    "    \n",
    "print(\"GPU is available:\", gpu_available)"
   ]
  },
  {
   "cell_type": "markdown",
   "metadata": {
    "nbgrader": {
     "checksum": "f9b076546bc04f0455761e9007c1d7aa",
     "grade": false,
     "grade_id": "cell-69c08fd91b471012",
     "locked": true,
     "schema_version": 1,
     "solution": false
    }
   },
   "source": [
    "## Deep Averaging Network\n",
    "\n",
    "###  Part One: Load Dataset\n",
    "\n",
    "We use the <a href=https://www.cs.jhu.edu/~mdredze/datasets/sentiment/>multi-domain sentiment</a> dataset created by Professor <a href=https://www.cs.jhu.edu/~mdredze/>Mark Dredze</a> for our project. This dataset contains product reviews taken from Amazon.com from many product types and the reviews are labeled positive and negative. In particular, we only consider the reviews for books for our project. To make things easier for you, we also created a dictionary where you will only consider the words in this dictionary when you are constructing the word embedding for our deep averaging network. Run the following two cells to load the data and see a positive and a negative review:"
   ]
  },
  {
   "cell_type": "code",
   "execution_count": 5,
   "metadata": {},
   "outputs": [],
   "source": [
    "def load_data():\n",
    "    review_train = pd.read_csv('../data/review_train.csv')\n",
    "    review_test = pd.read_csv('../data/review_test.csv')\n",
    "    vocabulary = np.load('../data/vocabulary.npy', allow_pickle=True).item()\n",
    "    \n",
    "    return review_train, review_test, vocabulary"
   ]
  },
  {
   "cell_type": "code",
   "execution_count": 7,
   "metadata": {
    "nbgrader": {
     "checksum": "8459c105e88f5103ef625cd0c195b66e",
     "grade": false,
     "grade_id": "cell-cae72470a03f1d0b",
     "locked": true,
     "schema_version": 1,
     "solution": false
    }
   },
   "outputs": [
    {
     "name": "stdout",
     "output_type": "stream",
     "text": [
      "Number of Training Reviews: 1787\n",
      "Number of Test Reviews: 200\n",
      "Number of Words in the Vocabulary: 4380\n"
     ]
    }
   ],
   "source": [
    "# vocabulary is dictionary with key-value pairs (word, index): vocabulary[word] = index\n",
    "# We will use this vocabulary to construct bag-of-word (bow) features\n",
    "review_train, review_test, vocab = load_data()\n",
    "\n",
    "# label 0 == Negative reviews\n",
    "# label 1 == Positive reviews\n",
    "label_meaning = ['Negative', 'Positive']\n",
    "\n",
    "print('Number of Training Reviews:', review_train.shape[0])\n",
    "print('Number of Test Reviews:', review_test.shape[0])\n",
    "print('Number of Words in the Vocabulary:', len(vocab))"
   ]
  },
  {
   "cell_type": "code",
   "execution_count": 8,
   "metadata": {
    "nbgrader": {
     "checksum": "664fc86c70053a432a47b2f3c672ae91",
     "grade": false,
     "grade_id": "cell-c05892644a77a852",
     "locked": true,
     "schema_version": 1,
     "solution": false
    }
   },
   "outputs": [
    {
     "name": "stdout",
     "output_type": "stream",
     "text": [
      "A Positive Training Review: This was perhaps the best of Johannes Steinhoff's books, since it does not  deal with his own stellar yet tragic WW II and post war career. The  insights of the average person living in Germany are of great importance to  both social and military historians alike. Steinhoff offered this  collective testament as a warning to all of us regarding war and the rise  of a dictator. As Johannes said in an interview, &quot;It is always the  civilians who suffer the most, yet are remembered the least.&quot\n",
      "\n",
      "A Negative Training Review: I got to page 26 and gave up.  Lockes writings lack focus and are void of humour.  I read as much as I could with patience until it became clear this book was simply someone rambling on about nothing.  Save your money for something worth reading\n",
      "\n"
     ]
    }
   ],
   "source": [
    "# print some training reviews\n",
    "print('A Positive Training Review:', review_train.iloc[0]['review'])\n",
    "print('A Negative Training Review:', review_train.iloc[-1]['review'])"
   ]
  },
  {
   "cell_type": "markdown",
   "metadata": {
    "nbgrader": {
     "checksum": "c416124aac1636f9c12603ec04562913",
     "grade": false,
     "grade_id": "cell-8209f25427ee055e",
     "locked": true,
     "schema_version": 1,
     "solution": false
    }
   },
   "source": [
    "We also create a function <code>generate_featurizer</code> which takes in a vocabulary and returns a bow featurizer based on the vocabulary. Using the returned featurizer, you can convert a sentence into a bag of word feature vector. See the following cell for example:"
   ]
  },
  {
   "cell_type": "code",
   "execution_count": 9,
   "metadata": {},
   "outputs": [],
   "source": [
    "def generate_featurizer(vocabulary):\n",
    "    return CountVectorizer(vocabulary=vocabulary)"
   ]
  },
  {
   "cell_type": "code",
   "execution_count": 10,
   "metadata": {
    "nbgrader": {
     "checksum": "41692d4ce7881257cf95cd240e0fa036",
     "grade": false,
     "grade_id": "cell-bf9a446569cfd0bc",
     "locked": true,
     "schema_version": 1,
     "solution": false
    }
   },
   "outputs": [
    {
     "data": {
      "text/plain": [
       "array([[2, 1, 1, 1]], dtype=int64)"
      ]
     },
     "execution_count": 10,
     "metadata": {},
     "output_type": "execute_result"
    }
   ],
   "source": [
    "# Create a simple vocabulary\n",
    "simple_vocab = {'learn': 0, 'machine': 1, 'learning': 2, 'teach': 3}\n",
    "\n",
    "# Create a simple sentence that will be converted into bag of words features\n",
    "simple_sentence = 'I learn machine learning to teach computers how to learn.'\n",
    "\n",
    "# Create a featurizer by passing in the vocabulary\n",
    "simple_featurizer = generate_featurizer(simple_vocab)\n",
    "\n",
    "# Call simple_featurizer.transform to transform the sentence to its bag of word features\n",
    "simple_featurizer.transform([simple_sentence]).toarray()\n",
    "\n",
    "# You should get array([[2, 1, 1, 1]]) as output.\n",
    "# This means that the sentence has:\n",
    "#     2 occurences of 'learn'\n",
    "#     1 occurence of 'machine'\n",
    "#     1 occurence of 'learning'\n",
    "#     1 occurence of 'teach'"
   ]
  },
  {
   "cell_type": "markdown",
   "metadata": {
    "nbgrader": {
     "checksum": "f279fbadbe4acfd8ca75375329cca5e3",
     "grade": false,
     "grade_id": "cell-2477750b684a6115",
     "locked": true,
     "schema_version": 1,
     "solution": false
    }
   },
   "source": [
    "Now we will use <code>generate_featurizer</code> to generate a featurizer based on the vocabulary we provided."
   ]
  },
  {
   "cell_type": "code",
   "execution_count": 11,
   "metadata": {
    "nbgrader": {
     "checksum": "e980b80b1e23bca2e723fcdc422ea516",
     "grade": false,
     "grade_id": "cell-6d837743526c112c",
     "locked": true,
     "schema_version": 1,
     "solution": false
    }
   },
   "outputs": [],
   "source": [
    "bow_featurizer = generate_featurizer(vocab)"
   ]
  },
  {
   "cell_type": "markdown",
   "metadata": {
    "nbgrader": {
     "checksum": "51fc710ef877b704121c77bdb66f8989",
     "grade": false,
     "grade_id": "cell-65b53c8818c65572",
     "locked": true,
     "schema_version": 1,
     "solution": false
    }
   },
   "source": [
    "Using the featurizer, we will convert the training reviews and test reviews into bag of word representation and PyTorch Tensor."
   ]
  },
  {
   "cell_type": "code",
   "execution_count": 12,
   "metadata": {
    "nbgrader": {
     "checksum": "352777aea0a97017c95a694072aa3e08",
     "grade": false,
     "grade_id": "cell-2d941e1cd5976a2d",
     "locked": true,
     "schema_version": 1,
     "solution": false
    }
   },
   "outputs": [],
   "source": [
    "# convert the reviews to bow representation and torch Tensor\n",
    "X_train = torch.Tensor(bow_featurizer.transform(review_train['review'].values).toarray())\n",
    "y_train = torch.LongTensor(review_train['label'].values.flatten())\n",
    "\n",
    "X_test = torch.Tensor(bow_featurizer.transform(review_test['review'].values).toarray())\n",
    "y_test = torch.LongTensor(review_test['label'].values.flatten())"
   ]
  },
  {
   "cell_type": "code",
   "execution_count": 13,
   "metadata": {
    "nbgrader": {
     "checksum": "18baefed3fb329aa566ad31e5f433e8f",
     "grade": false,
     "grade_id": "cell-4488693f8d463c80",
     "locked": true,
     "schema_version": 1,
     "solution": false
    }
   },
   "outputs": [],
   "source": [
    "# Generate PyTorch Datasets\n",
    "trainset = torch.utils.data.TensorDataset(X_train, y_train)\n",
    "testset = torch.utils.data.TensorDataset(X_test, y_test)\n",
    "\n",
    "# Generate PyTorch Dataloaders\n",
    "trainloader = torch.utils.data.DataLoader(trainset, batch_size=128, shuffle=True, drop_last=True)\n",
    "testloader = torch.utils.data.DataLoader(testset, batch_size=128, shuffle=True, drop_last=False)"
   ]
  },
  {
   "cell_type": "markdown",
   "metadata": {
    "nbgrader": {
     "checksum": "ff001e5842de865d673f87ffc2a70054",
     "grade": false,
     "grade_id": "cell-2f35ad9e435c7f99",
     "locked": true,
     "schema_version": 1,
     "solution": false
    }
   },
   "source": [
    "### Part Two: Implement a Deep Averaging Network\n",
    "\n",
    "We define a PyTorch network class. To start, we first implement <code>average</code> that averages the words in a review and then implement <code>forward</code> that passes the \"averaged\" review to a linear layer to produce the model's belief.\n",
    "\n",
    "- For `average` recall that multiplying the matrix of the bag-of-words with the word embeddings will get us the embedded representations for the reviews. We then want to average over all the different words in a review to get an \"average\" embedding for each review. Note that here, we compute a weighted average. I.e. Let $\\mathbf{E}\\in{\\mathcal{R}}^{r\\times v}$ be the embedding matrix (with embedding dimensionality $r$ and vocabulary size $v$). The $i^{th}$ column of $\\mathbf{E}$ is the embedding of word $i$ in the vocabulary (we denote it as $\\mathbf{E}[:,i]$). Further, let $\\mathbf{x}\\in{\\mathcal{R}}^{1\\times v}$ be a horizontal bag-of-words input vector. We compute the average embedding as follows:\n",
    "$$\\mathbf{a}=\\frac{1}{\\sum_i \\mathbf{x}[i]}\\sum_{j}\\mathbf{E}[:,j]\\mathbf{x}[j]$$\n",
    "In the function you need to compute this average for each input vector (the input <code>x</code> is a list of inputs). \n",
    "- For `forward`, pass the output of `average` through the linear layer stored in `self.fc`."
   ]
  },
  {
   "cell_type": "code",
   "execution_count": 14,
   "metadata": {
    "nbgrader": {
     "checksum": "39b082cf3c132a13e09e1ab97cdfdaa4",
     "grade": false,
     "grade_id": "cell-DAN",
     "locked": false,
     "schema_version": 1,
     "solution": true
    }
   },
   "outputs": [],
   "source": [
    "class DAN(nn.Module):\n",
    "    \n",
    "    def __init__(self, vocab_size, embedding_size=32):\n",
    "        super().__init__()\n",
    "        \n",
    "        # Create a word-embedding of dimension embedding_size\n",
    "        # self.embeds is now the matrix E, where each column corresponds to the embedding of a word\n",
    "        self.embeds = torch.nn.Parameter(torch.randn(vocab_size, embedding_size))\n",
    "        self.embeds.requires_grad_(True)\n",
    "        \n",
    "        # add a final linear layer that computes the 2d output from the averaged word embedding\n",
    "        self.fc = nn.Linear(embedding_size, 2)\n",
    "        \n",
    "    def average(self, x):\n",
    "        \"\"\"\n",
    "        This method takes in multiple inputs, stored in one tensor x.\n",
    "        Each input is a bag of word representation of reviews.\n",
    "        For each review, it retrieves the word embedding of each word in the review and averages them \n",
    "        (weighted by the corresponding entry in x).\n",
    "        \n",
    "        Inputs:\n",
    "        ------\n",
    "        x : nxd torch Tensor where each row corresponds to bag of word representation of a review\n",
    "        \n",
    "        Outputs:\n",
    "        -------\n",
    "        emb : n x (embedding_size) torch Tensor for the averaged reivew\n",
    "        \"\"\"\n",
    "        den = torch.sum(x, dim=1)\n",
    "        emb = x @ self.embeds\n",
    "        for i in range(len(den)):\n",
    "            emb[i] = emb[i] / den[i]\n",
    "        \n",
    "        return emb\n",
    "    \n",
    "    def forward(self, x):\n",
    "        \"\"\"\n",
    "        This method takes in a bag of word representation of reviews.\n",
    "        It calls the self.average to get the averaged review and pass it\n",
    "        through the linear layer to produce the model's belief.\n",
    "        \n",
    "        Inputs:\n",
    "        ------\n",
    "        x : nxd torch Tensor where each row corresponds to bag of word representation of reviews\n",
    "        \n",
    "        Outputs:\n",
    "        -------\n",
    "        out : nx2 torch Tensor that corresponds to model belief of the input\n",
    "              For instance, output[0][0] is the model belief that the 1st review is negative.\n",
    "        \"\"\"\n",
    "        review_averaged = self.average(x)\n",
    "        out = self.fc(review_averaged)\n",
    "        \n",
    "        return out"
   ]
  },
  {
   "cell_type": "code",
   "execution_count": 15,
   "metadata": {
    "nbgrader": {
     "checksum": "3b8261b508f3c85f4f20f83fdfe5a367",
     "grade": false,
     "grade_id": "cell-5efa7383fb4c7bb7",
     "locked": true,
     "schema_version": 1,
     "solution": false
    }
   },
   "outputs": [],
   "source": [
    "# Create a model\n",
    "model = DAN(len(vocab), embedding_size=32)\n",
    "\n",
    "if gpu_available:\n",
    "    model = model.cuda()"
   ]
  },
  {
   "cell_type": "markdown",
   "metadata": {
    "nbgrader": {
     "checksum": "9f3bbba963200a34d3bedf05cc2eb5de",
     "grade": false,
     "grade_id": "cell-f34ae8bcfb938028",
     "locked": true,
     "schema_version": 1,
     "solution": false
    }
   },
   "source": [
    "### Part Three: Define the loss function and optimizer"
   ]
  },
  {
   "cell_type": "code",
   "execution_count": 16,
   "metadata": {
    "nbgrader": {
     "checksum": "50f3d0b2884455afa36f3eaaa788906e",
     "grade": false,
     "grade_id": "cell-06935b2f38a60afb",
     "locked": true,
     "schema_version": 1,
     "solution": false
    }
   },
   "outputs": [],
   "source": [
    "# Create optimizer and loss function\n",
    "loss_fn = nn.CrossEntropyLoss()\n",
    "optimizer = torch.optim.SGD(model.parameters(), lr=5)"
   ]
  },
  {
   "cell_type": "markdown",
   "metadata": {
    "nbgrader": {
     "checksum": "b62331156b3002d999e2293ed8c0da32",
     "grade": false,
     "grade_id": "cell-756fe2729112ef19",
     "locked": true,
     "schema_version": 1,
     "solution": false
    }
   },
   "source": [
    "### Part Four: Train the network\n",
    "\n",
    "Run the following cell to train our network."
   ]
  },
  {
   "cell_type": "code",
   "execution_count": 17,
   "metadata": {
    "nbgrader": {
     "checksum": "43bd1f03e475d493e8b8847d184084e4",
     "grade": false,
     "grade_id": "cell-3374e25d9a304abf",
     "locked": true,
     "schema_version": 1,
     "solution": false
    }
   },
   "outputs": [
    {
     "name": "stdout",
     "output_type": "stream",
     "text": [
      "Epoch [100 / 1000] Average Training Accuracy: 0.919471\n",
      "Epoch [100 / 1000] Average Training loss: 0.198661\n",
      "Epoch [200 / 1000] Average Training Accuracy: 0.995793\n",
      "Epoch [200 / 1000] Average Training loss: 0.036976\n",
      "Epoch [300 / 1000] Average Training Accuracy: 1.000000\n",
      "Epoch [300 / 1000] Average Training loss: 0.007970\n",
      "Epoch [400 / 1000] Average Training Accuracy: 1.000000\n",
      "Epoch [400 / 1000] Average Training loss: 0.003750\n",
      "Epoch [500 / 1000] Average Training Accuracy: 1.000000\n",
      "Epoch [500 / 1000] Average Training loss: 0.002358\n",
      "Epoch [600 / 1000] Average Training Accuracy: 1.000000\n",
      "Epoch [600 / 1000] Average Training loss: 0.001582\n",
      "Epoch [700 / 1000] Average Training Accuracy: 1.000000\n",
      "Epoch [700 / 1000] Average Training loss: 0.001234\n",
      "Epoch [800 / 1000] Average Training Accuracy: 1.000000\n",
      "Epoch [800 / 1000] Average Training loss: 0.000989\n",
      "Epoch [900 / 1000] Average Training Accuracy: 1.000000\n",
      "Epoch [900 / 1000] Average Training loss: 0.000854\n",
      "Epoch [1000 / 1000] Average Training Accuracy: 1.000000\n",
      "Epoch [1000 / 1000] Average Training loss: 0.000731\n"
     ]
    }
   ],
   "source": [
    "# Start Training\n",
    "num_epochs = 1000\n",
    "\n",
    "model.train()\n",
    "for epoch in range(num_epochs):\n",
    "    running_loss = 0.0\n",
    "    running_acc = 0.0\n",
    "    count = 0\n",
    "    \n",
    "    for i, (X, y) in enumerate(trainloader):\n",
    "        # use gpu if possible\n",
    "        if gpu_available:\n",
    "            X = X.cuda()\n",
    "            y = y.cuda()\n",
    "        \n",
    "        # clear the gradient buffer\n",
    "        optimizer.zero_grad()\n",
    "        \n",
    "        # Do forward propagation to get the model's belief\n",
    "        logits = model(X)\n",
    "        \n",
    "        # Compute the loss\n",
    "        loss = loss_fn(logits, y)\n",
    "        \n",
    "        # Run a backward propagation to get the gradient\n",
    "        loss.backward()\n",
    "        \n",
    "        # Update the model's parameters\n",
    "        optimizer.step()\n",
    "        \n",
    "        # Get the model's prediction\n",
    "        pred = torch.argmax(logits, dim=1)\n",
    "        \n",
    "        # Update the running statistics\n",
    "        running_acc += torch.sum((pred == y).float()).item()\n",
    "        running_loss += loss.item()\n",
    "        count += X.size(0)\n",
    "        \n",
    "    # print the running statistics after training for 100 epochs\n",
    "    if (epoch + 1) % 100 == 0:\n",
    "        print('Epoch [{} / {}] Average Training Accuracy: {:4f}'.format(epoch + 1, num_epochs, running_acc / count))\n",
    "        print('Epoch [{} / {}] Average Training loss: {:4f}'.format(epoch + 1, num_epochs, running_loss / len(trainloader)))"
   ]
  },
  {
   "cell_type": "markdown",
   "metadata": {
    "nbgrader": {
     "checksum": "63e865f77c6b048cf5f32190fa77bbce",
     "grade": false,
     "grade_id": "cell-d8c31d9dc298f8dd",
     "locked": true,
     "schema_version": 1,
     "solution": false
    }
   },
   "source": [
    "### Step 5: Evaluate your model on the test data"
   ]
  },
  {
   "cell_type": "code",
   "execution_count": 18,
   "metadata": {
    "nbgrader": {
     "checksum": "b1629ccad920bedcdfb40195e9894c3b",
     "grade": false,
     "grade_id": "cell-7a88e5112d7584a3",
     "locked": true,
     "schema_version": 1,
     "solution": false
    }
   },
   "outputs": [
    {
     "name": "stdout",
     "output_type": "stream",
     "text": [
      "Your Test Accuracy is 0.8950\n"
     ]
    }
   ],
   "source": [
    "# Evaluate the model\n",
    "model.eval()\n",
    "\n",
    "running_acc = 0.0\n",
    "count = 0.0\n",
    "\n",
    "for (X, y) in testloader:\n",
    "    # Use gpu if available\n",
    "    if gpu_available:\n",
    "        X = X.cuda()\n",
    "        y = y.cuda()\n",
    "        \n",
    "    # Do a forward pass with no gradient\n",
    "    with torch.no_grad():\n",
    "        logits = model(X)\n",
    "    \n",
    "    # Calculate the prediction\n",
    "    pred = torch.argmax(logits, dim=1)\n",
    "    \n",
    "    # Update the running stats\n",
    "    running_acc += torch.sum((pred == y).float()).item()\n",
    "    count += X.size(0)\n",
    "\n",
    "print('Your Test Accuracy is {:.4f}'. format(running_acc / count))"
   ]
  },
  {
   "cell_type": "markdown",
   "metadata": {
    "nbgrader": {
     "checksum": "4c63090fdb950f424286463b867f93af",
     "grade": false,
     "grade_id": "cell-60dca0660c0ba2c2",
     "locked": true,
     "schema_version": 1,
     "solution": false
    }
   },
   "source": [
    "Run the following cells to see a random test review and the model prediction.\n",
    "(You may observe that neural networks achieve high accuracy - but tend to be over-confident. This is because they achieve 100% training accuracy early on in the learning procedure and therefore learn that they tend to be always right.)"
   ]
  },
  {
   "cell_type": "code",
   "execution_count": 19,
   "metadata": {
    "nbgrader": {
     "checksum": "b4d5949ad4f9d1fed23cf7a2279ac330",
     "grade": false,
     "grade_id": "cell-705df6c45ad63992",
     "locked": true,
     "schema_version": 1,
     "solution": false
    }
   },
   "outputs": [
    {
     "name": "stdout",
     "output_type": "stream",
     "text": [
      "Review: An amazing resource to the odd world of Chick collecting.  Mr. Fowler has crafted an exhausting, almost overwhelming guide to all of Chick's works and articles about him.  Everything is cross-referenced to the point of where the reader is nearly overwhelmed with information.  Minute details of publishing histories and changes to individual tracts are documented down to the smallest letter.  The book (presented in a distinctive computer printout style, possibly due to its origins as a self-published work) is packed with charts of pricing info and catalog numbers.  But even casual Chick fans will enjoy the &quot;History of the World&quot; segment, which ties all of Jack's wild theories into a cohesive narrative, and a segment devoted entirely to fun trivia (there's a list of every instance of the term &quot;haw&quot; for instance).  Each tract and comic is described, and info is given on various parodies and rip-offs.  This is a must for all Chick fans (both &quot;saved&quot; and otherwise)\n",
      "\n",
      "Ground Truth: Positive\n",
      "Prediction: Positive (Certainty 100.00%)\n"
     ]
    }
   ],
   "source": [
    "target = torch.randint(high=len(testset), size=(1,)).item()\n",
    "review_target, label_target = review_test.iloc[target]\n",
    "\n",
    "if gpu_available:\n",
    "    bog_target = testset[target][0].unsqueeze(0).cuda()\n",
    "else:\n",
    "    bog_target = testset[target][0].unsqueeze(0)\n",
    "\n",
    "model.eval()\n",
    "with torch.no_grad():\n",
    "    logits_target = model(bog_target)\n",
    "\n",
    "pred = torch.argmax(logits_target, dim=1)\n",
    "probability = torch.exp(logits_target.squeeze()) / torch.sum(torch.exp(logits_target.squeeze()))\n",
    "\n",
    "print('Review:', review_target)\n",
    "print('Ground Truth:', label_meaning[int(label_target)])\n",
    "print('Prediction: %s (Certainty %2.2f%%)' % (label_meaning[pred.item()], 100.0 * probability[pred.item()]))"
   ]
  }
 ],
 "metadata": {
  "kernelspec": {
   "display_name": "Python 3 (ipykernel)",
   "language": "python",
   "name": "python3"
  },
  "language_info": {
   "codemirror_mode": {
    "name": "ipython",
    "version": 3
   },
   "file_extension": ".py",
   "mimetype": "text/x-python",
   "name": "python",
   "nbconvert_exporter": "python",
   "pygments_lexer": "ipython3",
   "version": "3.8.9"
  }
 },
 "nbformat": 4,
 "nbformat_minor": 2
}

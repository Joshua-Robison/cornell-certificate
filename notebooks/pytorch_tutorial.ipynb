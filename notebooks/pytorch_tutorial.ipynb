{
 "cells": [
  {
   "cell_type": "markdown",
   "metadata": {},
   "source": [
    "<h1>PyTorch Tutorial</h1>"
   ]
  },
  {
   "cell_type": "markdown",
   "metadata": {},
   "source": [
    "<h3>What is PyTorch?</h3>\n",
    "\n",
    "PyTorch is a python-based deep learning platform that provides GPU support. To start, first import the PyTorch packages and some of its some packages."
   ]
  },
  {
   "cell_type": "code",
   "execution_count": 1,
   "metadata": {},
   "outputs": [],
   "source": [
    "# import PyTorch and its subpackages\n",
    "import torch\n",
    "import torch.nn as nn\n",
    "from torch.nn import functional as F\n",
    "\n",
    "# Also other packages for convenience\n",
    "import numpy as np\n",
    "from numpy.matlib import repmat\n",
    "import matplotlib.pyplot as plt"
   ]
  },
  {
   "cell_type": "markdown",
   "metadata": {},
   "source": [
    "<h3>0. Tensors</h3>\n",
    "\n",
    "Tensors are the basic building blocks of PyTorch. They are similar to NumPy's ndarrays. For example, to create a tensor of all zeros with size (3, 2), you can do the following:"
   ]
  },
  {
   "cell_type": "code",
   "execution_count": 2,
   "metadata": {},
   "outputs": [
    {
     "name": "stdout",
     "output_type": "stream",
     "text": [
      "tensor([[0., 0.],\n",
      "        [0., 0.],\n",
      "        [0., 0.]])\n",
      "torch.Size([3, 2])\n"
     ]
    }
   ],
   "source": [
    "X = torch.zeros(3, 2) # this syntax is similar to NumPy. In Numpy, we would do np.zero(3,2)\n",
    "\n",
    "print(X)\n",
    "print(X.shape)"
   ]
  },
  {
   "cell_type": "markdown",
   "metadata": {},
   "source": [
    "You can also convert a NumPy array to a torch Tensor:"
   ]
  },
  {
   "cell_type": "code",
   "execution_count": 3,
   "metadata": {},
   "outputs": [
    {
     "name": "stdout",
     "output_type": "stream",
     "text": [
      "NumPy Array: [ 0  1  2  3  4  5  6  7  8  9 10 11 12 13 14]\n",
      "Pytorch Tensor: tensor([ 0,  1,  2,  3,  4,  5,  6,  7,  8,  9, 10, 11, 12, 13, 14],\n",
      "       dtype=torch.int32)\n"
     ]
    }
   ],
   "source": [
    "X_numpy = np.arange(15)\n",
    "print('NumPy Array:', X_numpy)\n",
    "\n",
    "X_tensor = torch.tensor(X_numpy)\n",
    "print('Pytorch Tensor:', X_tensor)"
   ]
  },
  {
   "cell_type": "markdown",
   "metadata": {},
   "source": [
    "You can also convert a torch Tensor to a NumPy array:"
   ]
  },
  {
   "cell_type": "code",
   "execution_count": 4,
   "metadata": {},
   "outputs": [
    {
     "name": "stdout",
     "output_type": "stream",
     "text": [
      "[ 0  1  2  3  4  5  6  7  8  9 10 11 12 13 14]\n",
      "<class 'numpy.ndarray'>\n"
     ]
    }
   ],
   "source": [
    "X_tensor_numpy = X_tensor.numpy()\n",
    "\n",
    "print(X_tensor_numpy)\n",
    "print(type(X_tensor_numpy))"
   ]
  },
  {
   "cell_type": "markdown",
   "metadata": {},
   "source": [
    "Just like NumPy, you can do arithmetic operations on torch Tensor:"
   ]
  },
  {
   "cell_type": "code",
   "execution_count": 5,
   "metadata": {},
   "outputs": [
    {
     "name": "stdout",
     "output_type": "stream",
     "text": [
      "Addition in Numpy [2 7 9]\n",
      "Addition in PyTorch tensor([2., 7., 9.])\n",
      "\n",
      "Scalar Multiplication in Numpy [3 6 9]\n",
      "Scalar Multiplication in PyTorch tensor([3., 6., 9.])\n",
      "\n",
      "Elementwise Multiplication in Numpy [ 1 10 18]\n",
      "Elementiwse Multiplication in PyTorch tensor([ 1., 10., 18.])\n",
      "\n",
      "Elementwise Multiplication in Numpy 29\n",
      "Elementiwse Multiplication in PyTorch tensor(29.)\n",
      "\n"
     ]
    }
   ],
   "source": [
    "# Create two numpy arrays\n",
    "A = np.array([1, 2, 3])\n",
    "B = np.array([1, 5, 6])\n",
    "\n",
    "# Convert the two numpy arrays into torch Tensors\n",
    "A_tensor = torch.Tensor(A)\n",
    "B_tensor = torch.Tensor(B)\n",
    "\n",
    "# addition / subtraction\n",
    "print('Addition in Numpy', A + B)\n",
    "print('Addition in PyTorch', A_tensor + B_tensor)\n",
    "print()\n",
    "\n",
    "# scalar multiplication\n",
    "print('Scalar Multiplication in Numpy', 3 * A)\n",
    "print('Scalar Multiplication in PyTorch', 3 * A_tensor)\n",
    "print()\n",
    "\n",
    "# elementwise multiplication\n",
    "print('Elementwise Multiplication in Numpy', A * B)\n",
    "print('Elementiwse Multiplication in PyTorch', A_tensor * B_tensor)\n",
    "print()\n",
    "\n",
    "# matrix multiplication\n",
    "# this is slightly different from NumPy\n",
    "print('Elementwise Multiplication in Numpy', A @ B)\n",
    "print('Elementiwse Multiplication in PyTorch', torch.matmul(A_tensor, B_tensor))\n",
    "print()"
   ]
  },
  {
   "cell_type": "markdown",
   "metadata": {},
   "source": [
    "Some other useful tensor operations:"
   ]
  },
  {
   "cell_type": "code",
   "execution_count": 6,
   "metadata": {},
   "outputs": [
    {
     "name": "stdout",
     "output_type": "stream",
     "text": [
      "NumPy:  [ True False False]\n",
      "PyTorch:  tensor([ True, False, False])\n",
      "\n",
      "C [[10  9  8]\n",
      " [ 6  7  5]\n",
      " [ 1  2  3]]\n",
      "\n",
      "NumPy:  [17 18 16]\n",
      "PyTorch:  tensor([17., 18., 16.])\n",
      "\n",
      "NumPy:  [9. 6. 2.]\n",
      "PyTorch:  tensor([9., 6., 2.])\n",
      "\n",
      "NumPy:  [0 1 2]\n",
      "PyTorch:  tensor([0, 1, 2])\n",
      "\n"
     ]
    }
   ],
   "source": [
    "# Elementwise comparison\n",
    "print('NumPy: ', A == B)\n",
    "print('PyTorch: ', A_tensor == B_tensor)\n",
    "print()\n",
    "\n",
    "# Generate a random matrix\n",
    "C = np.array([[10, 9, 8], [6, 7, 5], [1, 2, 3]])\n",
    "C_tensor = torch.Tensor(C)\n",
    "print('C', C)\n",
    "print()\n",
    "\n",
    "# Sum along the row\n",
    "# In NumPy, we specify the axis.\n",
    "# In PyTorch, we specify the dim\n",
    "print('NumPy: ', np.sum(C, axis=0))\n",
    "print('PyTorch: ' ,torch.sum(C_tensor, dim=0))\n",
    "print()\n",
    "\n",
    "# Find the mean along the column\n",
    "# In NumPy, we specify the axis.\n",
    "# In PyTorch, we specify the dim\n",
    "print('NumPy: ', np.mean(C, axis=1))\n",
    "print('PyTorch: ', torch.mean(C_tensor, dim=1))\n",
    "print()\n",
    "\n",
    "# Find the argmax along the column\n",
    "# In NumPy, we specify the axis.\n",
    "# In PyTorch, we specify the dim\n",
    "print('NumPy: ', np.argmax(C, axis=1))\n",
    "print('PyTorch: ', torch.argmax(C_tensor, dim=1))\n",
    "print()"
   ]
  },
  {
   "cell_type": "markdown",
   "metadata": {},
   "source": [
    "<h3>1. Creating a model</h3>\n",
    "\n",
    "In the following sections, we are going to develop a multilayer perceptron for our favorite spiral dataset. To start, let's generate and visualize the dataset."
   ]
  },
  {
   "cell_type": "code",
   "execution_count": 7,
   "metadata": {},
   "outputs": [],
   "source": [
    "def spiraldata(N=300):\n",
    "    r = np.linspace(1, 2 * np.pi, N)\n",
    "    X_train1 = np.array([np.sin(2 * r) * r, np.cos(2 * r) * r]).T\n",
    "    X_train2 = np.array([np.sin(2 * r + np.pi) * r, np.cos(2 * r + np.pi) * r]).T\n",
    "    X_train = np.concatenate([X_train1, X_train2], axis=0)\n",
    "    y_train = np.concatenate([np.ones(N), 0 * np.ones(N)])\n",
    "    \n",
    "    return torch.Tensor(X_train), torch.LongTensor(y_train)"
   ]
  },
  {
   "cell_type": "code",
   "execution_count": 8,
   "metadata": {},
   "outputs": [],
   "source": [
    "def visualize_2D(X_train, y_train):\n",
    "    plt.scatter(X_train[y_train == 1, 0], X_train[y_train == 1, 1], c='b')\n",
    "    plt.scatter(X_train[y_train != 1, 0], X_train[y_train != 1, 1], c='r')\n",
    "    plt.legend(['1', '0'])\n",
    "    plt.show()"
   ]
  },
  {
   "cell_type": "code",
   "execution_count": 9,
   "metadata": {},
   "outputs": [
    {
     "data": {
      "image/png": "[encoded data removed]",
      "text/plain": [
       "<Figure size 432x288 with 1 Axes>"
      ]
     },
     "metadata": {
      "needs_background": "light"
     },
     "output_type": "display_data"
    }
   ],
   "source": [
    "# Running the following code will generate\n",
    "# 600 datapoints\n",
    "# 300 in class 0 \n",
    "# 300 in class 1\n",
    "X, y = spiraldata(N=300)\n",
    "visualize_2D(X.numpy(), y.numpy())"
   ]
  },
  {
   "cell_type": "markdown",
   "metadata": {},
   "source": [
    "Now, we will create a multilayer perceptron. In Pytorch, to create a model, we need to create a model class that overloads <code>nn.Module</code> and implement the <code>forward()</code> function that performs forward propagation."
   ]
  },
  {
   "cell_type": "code",
   "execution_count": 10,
   "metadata": {},
   "outputs": [],
   "source": [
    "# This MLP is a simple multilayer perceptron with 3-hidden layers with ReLU activation functions\n",
    "class MLP(nn.Module):\n",
    "    \n",
    "    def __init__(self):\n",
    "        # call the constructor of the inherited module\n",
    "        super().__init__()\n",
    "        \n",
    "        # All the layers with trainable parameters have to be defined in the constructor\n",
    "        # Create a linear layer that takes input of dimension 2 and outputs a vector of dimension 64\n",
    "        # Similarly, create the consequent layers\n",
    "        self.fc1 = nn.Linear(in_features=2, out_features=64)\n",
    "        self.fc2 = nn.Linear(in_features=64, out_features=32)\n",
    "        self.fc3 = nn.Linear(in_features=32, out_features=16)\n",
    "        \n",
    "        # The last layer should output a two dimensional vector\n",
    "        # where the first dimension corresponds to the network's\n",
    "        # belief that the input belongs to class 0\n",
    "        # and similarly, second dimension corresponds to class 1\n",
    "        self.fc4 = nn.Linear(in_features=16, out_features=2)\n",
    "        \n",
    "    def forward(self, x):\n",
    "        # apply the first linear transformation to input x\n",
    "        # then apply the ReLU activation to get the output\n",
    "        # of the first hidden layer o1\n",
    "        # Similar procedures are done to get o2, o3\n",
    "        o1 = F.relu(self.fc1(x))\n",
    "        o2 = F.relu(self.fc2(o1))\n",
    "        o3 = F.relu(self.fc3(o2))\n",
    "        \n",
    "        # We do not apply any activation function to the output\n",
    "        # of the final hidden layer\n",
    "        o4 = self.fc4(o3)\n",
    "        \n",
    "        return o4"
   ]
  },
  {
   "cell_type": "markdown",
   "metadata": {},
   "source": [
    "Now, we can instantiate a model and do forward propagation by running the following cell:"
   ]
  },
  {
   "cell_type": "code",
   "execution_count": 11,
   "metadata": {},
   "outputs": [
    {
     "name": "stdout",
     "output_type": "stream",
     "text": [
      "torch.Size([600, 2])\n"
     ]
    }
   ],
   "source": [
    "# Instantiate a model\n",
    "model = MLP()\n",
    "\n",
    "# Run forward propagation\n",
    "logits = model(X)\n",
    "\n",
    "# Print the output of the model\n",
    "# This should be (600, 2)\n",
    "print(logits.shape)"
   ]
  },
  {
   "cell_type": "markdown",
   "metadata": {},
   "source": [
    "<h3>2. Define a loss function</h3>\n",
    "\n",
    "To train a neural network, we need a loss function. Since we are doing a classification problem, we are going to use the cross entropy loss. Luckily, Pytorch has implemented this for us."
   ]
  },
  {
   "cell_type": "code",
   "execution_count": 12,
   "metadata": {},
   "outputs": [],
   "source": [
    "# create the cross entropy loss function\n",
    "# this loss function takes in logits and labels and return the loss value\n",
    "# Concretely, loss_fn(logits, y) returns the cross entropy loss between\n",
    "# the prediction and ground truth\n",
    "loss_fn = nn.CrossEntropyLoss()"
   ]
  },
  {
   "cell_type": "markdown",
   "metadata": {},
   "source": [
    "<h3>3. Define an optimizer</h3>\n",
    "\n",
    "We are going to use an SGD optimizer to optimize our MLP. Conveniently, PyTorch has implemented SGD for us."
   ]
  },
  {
   "cell_type": "code",
   "execution_count": 13,
   "metadata": {},
   "outputs": [],
   "source": [
    "# torch.optim.SGD is the optimizer that PyTorch implemented\n",
    "# it takes the model's parameter, which you can get by calling\n",
    "# model.parameters() and learning rate lr\n",
    "optimizer = torch.optim.SGD(model.parameters(), lr=0.1)"
   ]
  },
  {
   "cell_type": "markdown",
   "metadata": {},
   "source": [
    "<h3>4. Training the Network</h3>\n",
    "\n",
    "With all the ingredients we have, we are ready to train our multilayer perceptron."
   ]
  },
  {
   "cell_type": "code",
   "execution_count": 14,
   "metadata": {},
   "outputs": [
    {
     "name": "stdout",
     "output_type": "stream",
     "text": [
      "Epoch [50/ 2000], Loss: 0.6588 \n",
      "Epoch [100/ 2000], Loss: 0.6492 \n",
      "Epoch [150/ 2000], Loss: 0.6414 \n",
      "Epoch [200/ 2000], Loss: 0.6329 \n",
      "Epoch [250/ 2000], Loss: 0.6230 \n",
      "Epoch [300/ 2000], Loss: 0.6115 \n",
      "Epoch [350/ 2000], Loss: 0.5988 \n",
      "Epoch [400/ 2000], Loss: 0.5831 \n",
      "Epoch [450/ 2000], Loss: 0.5629 \n",
      "Epoch [500/ 2000], Loss: 0.5305 \n",
      "Epoch [550/ 2000], Loss: 0.4772 \n",
      "Epoch [600/ 2000], Loss: 0.3867 \n",
      "Epoch [650/ 2000], Loss: 0.2987 \n",
      "Epoch [700/ 2000], Loss: 0.2603 \n",
      "Epoch [750/ 2000], Loss: 0.1904 \n",
      "Epoch [800/ 2000], Loss: 0.1417 \n",
      "Epoch [850/ 2000], Loss: 0.0694 \n",
      "Epoch [900/ 2000], Loss: 0.0404 \n",
      "Epoch [950/ 2000], Loss: 0.0238 \n",
      "Epoch [1000/ 2000], Loss: 0.0142 \n",
      "Epoch [1050/ 2000], Loss: 0.0105 \n",
      "Epoch [1100/ 2000], Loss: 0.0081 \n",
      "Epoch [1150/ 2000], Loss: 0.0065 \n",
      "Epoch [1200/ 2000], Loss: 0.0054 \n",
      "Epoch [1250/ 2000], Loss: 0.0046 \n",
      "Epoch [1300/ 2000], Loss: 0.0040 \n",
      "Epoch [1350/ 2000], Loss: 0.0035 \n",
      "Epoch [1400/ 2000], Loss: 0.0031 \n",
      "Epoch [1450/ 2000], Loss: 0.0028 \n",
      "Epoch [1500/ 2000], Loss: 0.0025 \n",
      "Epoch [1550/ 2000], Loss: 0.0023 \n",
      "Epoch [1600/ 2000], Loss: 0.0021 \n",
      "Epoch [1650/ 2000], Loss: 0.0020 \n",
      "Epoch [1700/ 2000], Loss: 0.0018 \n",
      "Epoch [1750/ 2000], Loss: 0.0017 \n",
      "Epoch [1800/ 2000], Loss: 0.0016 \n",
      "Epoch [1850/ 2000], Loss: 0.0015 \n",
      "Epoch [1900/ 2000], Loss: 0.0014 \n",
      "Epoch [1950/ 2000], Loss: 0.0013 \n",
      "Epoch [2000/ 2000], Loss: 0.0012 \n"
     ]
    }
   ],
   "source": [
    "# Num_epochs is the number we are going to go through the dataset\n",
    "# This is a simple dataset so we are just going to do a vanilla Gradient Descent\n",
    "# rather than minibatch Stochastic Gradient Descent\n",
    "num_epochs = 2000\n",
    "\n",
    "losses = []\n",
    "for epoch in range(num_epochs):\n",
    "    # Set the model to training mode\n",
    "    # This step is always necessary during training\n",
    "    model.train()\n",
    "    \n",
    "    # PyTorch keeps track of all the gradients generated\n",
    "    # throughout the whole training procedure\n",
    "    # But we only need the gradient of the current time step\n",
    "    # so we need to zero-out the gradient buffer\n",
    "    optimizer.zero_grad()\n",
    "    \n",
    "    # Do forward propagation\n",
    "    logits = model(X)\n",
    "    \n",
    "    # Calculate the loss \n",
    "    loss = loss_fn(logits, y)\n",
    "    \n",
    "    # Do backward propagation\n",
    "    loss.backward()\n",
    "    \n",
    "    # Update the model parameters\n",
    "    optimizer.step()\n",
    "    \n",
    "    # Get the prediction\n",
    "    prediction = torch.argmax(logits, dim=1)\n",
    "    \n",
    "    # PyTorch supports elements elementwise comparison\n",
    "    acc = torch.mean((prediction == y).float())\n",
    "    losses.append(loss.item())\n",
    "    \n",
    "    # print the loss value every 50 epochs\n",
    "    if (epoch + 1) % 50 == 0:\n",
    "        print('Epoch [{}/ {}], Loss: {:.4f} '.format(epoch + 1, num_epochs, losses[-1]))"
   ]
  },
  {
   "cell_type": "code",
   "execution_count": 15,
   "metadata": {},
   "outputs": [
    {
     "data": {
      "image/png": "[encoded data removed]",
      "text/plain": [
       "<Figure size 432x288 with 1 Axes>"
      ]
     },
     "metadata": {
      "needs_background": "light"
     },
     "output_type": "display_data"
    }
   ],
   "source": [
    "# Plot the training loss\n",
    "plt.plot(range(1, num_epochs + 1), losses, label='Training Loss')\n",
    "plt.xlabel('Epoch')\n",
    "plt.ylabel('Loss')\n",
    "plt.show()"
   ]
  },
  {
   "cell_type": "markdown",
   "metadata": {},
   "source": [
    "<h3>5. Evaluate the Network</h3>"
   ]
  },
  {
   "cell_type": "code",
   "execution_count": 16,
   "metadata": {},
   "outputs": [
    {
     "name": "stdout",
     "output_type": "stream",
     "text": [
      "Accuracy: 100.00%\n"
     ]
    }
   ],
   "source": [
    "# Need to go into eval mode\n",
    "model.eval()\n",
    "\n",
    "# Do a forward pass and tell PyTorch to not keep track of\n",
    "# the gradient calculation to save memory\n",
    "with torch.no_grad():\n",
    "    logits = model(X)\n",
    "\n",
    "# make prediction\n",
    "prediction = torch.argmax(logits, dim=1)\n",
    "\n",
    "# Calculate the accuracy\n",
    "print('Accuracy: {:.2f}%'.format(torch.mean((prediction == y).float()).item() * 100))"
   ]
  },
  {
   "cell_type": "code",
   "execution_count": 17,
   "metadata": {},
   "outputs": [],
   "source": [
    "def visclassifier(model, X_train, y_train):\n",
    "    \"\"\"\n",
    "    This function is used to visualize the decision boundary.\n",
    "    \n",
    "    Inputs:\n",
    "    ------\n",
    "    model   : neural network PyTorch model\n",
    "    X_train : training features\n",
    "    y_train : training labels\n",
    "    \n",
    "    Outputs:\n",
    "    -------\n",
    "    None : a figure is rendered to the screen\n",
    "    \"\"\"\n",
    "    model.eval()\n",
    "    y_train = np.array(y_train).flatten()\n",
    "    \n",
    "    symbols = ['ko', 'kx']\n",
    "    marker_symbols = ['o', 'x']\n",
    "    mycolors = [[0.5, 0.5, 1], [1, 0.5, 0.5]]\n",
    "    classvals = np.unique(y_train)\n",
    "    \n",
    "    plt.figure()\n",
    "    \n",
    "    res = 300\n",
    "    xrange = np.linspace(min(X_train[:, 0]), max(X_train[:, 0]), res)\n",
    "    yrange = np.linspace(min(X_train[:, 1]), max(X_train[:, 1]), res)\n",
    "    pixelX = repmat(xrange, res, 1)\n",
    "    pixelY = repmat(yrange, res, 1).T\n",
    "    \n",
    "    X_test = np.array([pixelX.flatten(), pixelY.flatten()]).T\n",
    "    \n",
    "    logits = model(torch.Tensor(X_test))\n",
    "    testpreds = torch.argmax(logits, dim=1).numpy()\n",
    "    \n",
    "    testpreds[testpreds == 0] = -1\n",
    "    Z = testpreds.reshape(res, res)\n",
    "    # Z[0,0] = 1 # optional: scale the colors correctly\n",
    "    plt.contourf(pixelX, pixelY, np.sign(Z), colors=mycolors)\n",
    "    \n",
    "    for idx, c in enumerate(classvals):\n",
    "        plt.scatter(X_train[y_train == c,0], X_train[y_train == c,1], marker=marker_symbols[idx], color='k')\n",
    "        \n",
    "    plt.axis('tight')\n",
    "    plt.show()"
   ]
  },
  {
   "cell_type": "code",
   "execution_count": 18,
   "metadata": {},
   "outputs": [
    {
     "data": {
      "image/png": "[encoded data removed]",
      "text/plain": [
       "<Figure size 432x288 with 1 Axes>"
      ]
     },
     "metadata": {
      "needs_background": "light"
     },
     "output_type": "display_data"
    }
   ],
   "source": [
    "# visualize the model\n",
    "visclassifier(model, X.numpy(), y.numpy())"
   ]
  },
  {
   "cell_type": "markdown",
   "metadata": {},
   "source": [
    "<h3>Additional</h3>\n",
    "\n",
    "In the following cell, you will create another multilayer perceptron with 2 hidden layers. The first hidden layer has 256 neurons and the second hidden layer has 128 neurons."
   ]
  },
  {
   "cell_type": "code",
   "execution_count": 19,
   "metadata": {},
   "outputs": [],
   "source": [
    "class MLP_v2(nn.Module):\n",
    "    \n",
    "    def __init__(self):\n",
    "        super().__init__()\n",
    "        \n",
    "        self.fc1 = nn.Linear(in_features=2, out_features=256)\n",
    "        self.fc2 = nn.Linear(in_features=256, out_features=128)\n",
    "        self.fc3 = nn.Linear(in_features=128, out_features=2)\n",
    "        \n",
    "    def forward(self, x):\n",
    "        o1 = F.relu(self.fc1(x))\n",
    "        o2 = F.relu(self.fc2(o1))\n",
    "        o3 = self.fc3(o2)\n",
    "        \n",
    "        return o3"
   ]
  },
  {
   "cell_type": "code",
   "execution_count": 20,
   "metadata": {},
   "outputs": [],
   "source": [
    "# initialize model\n",
    "model_v2 = MLP_v2()"
   ]
  },
  {
   "cell_type": "code",
   "execution_count": 21,
   "metadata": {},
   "outputs": [],
   "source": [
    "# creating a new optimizer\n",
    "# Feel free to play around with the learning rate\n",
    "optimizer_v2 = torch.optim.SGD(model_v2.parameters(), lr=0.1)"
   ]
  },
  {
   "cell_type": "code",
   "execution_count": 22,
   "metadata": {},
   "outputs": [
    {
     "name": "stdout",
     "output_type": "stream",
     "text": [
      "Epoch [50/ 2000], Loss: 0.6382 \n",
      "Epoch [100/ 2000], Loss: 0.6255 \n",
      "Epoch [150/ 2000], Loss: 0.6135 \n",
      "Epoch [200/ 2000], Loss: 0.5935 \n",
      "Epoch [250/ 2000], Loss: 0.5603 \n",
      "Epoch [300/ 2000], Loss: 0.5165 \n",
      "Epoch [350/ 2000], Loss: 0.4735 \n",
      "Epoch [400/ 2000], Loss: 0.4245 \n",
      "Epoch [450/ 2000], Loss: 0.4027 \n",
      "Epoch [500/ 2000], Loss: 0.3781 \n",
      "Epoch [550/ 2000], Loss: 0.3256 \n",
      "Epoch [600/ 2000], Loss: 0.3208 \n",
      "Epoch [650/ 2000], Loss: 0.2729 \n",
      "Epoch [700/ 2000], Loss: 0.2544 \n",
      "Epoch [750/ 2000], Loss: 0.0734 \n",
      "Epoch [800/ 2000], Loss: 0.3229 \n",
      "Epoch [850/ 2000], Loss: 0.0348 \n",
      "Epoch [900/ 2000], Loss: 0.0242 \n",
      "Epoch [950/ 2000], Loss: 0.0193 \n",
      "Epoch [1000/ 2000], Loss: 0.0160 \n",
      "Epoch [1050/ 2000], Loss: 0.0136 \n",
      "Epoch [1100/ 2000], Loss: 0.0118 \n",
      "Epoch [1150/ 2000], Loss: 0.0104 \n",
      "Epoch [1200/ 2000], Loss: 0.0092 \n",
      "Epoch [1250/ 2000], Loss: 0.0083 \n",
      "Epoch [1300/ 2000], Loss: 0.0075 \n",
      "Epoch [1350/ 2000], Loss: 0.0069 \n",
      "Epoch [1400/ 2000], Loss: 0.0063 \n",
      "Epoch [1450/ 2000], Loss: 0.0058 \n",
      "Epoch [1500/ 2000], Loss: 0.0054 \n",
      "Epoch [1550/ 2000], Loss: 0.0050 \n",
      "Epoch [1600/ 2000], Loss: 0.0047 \n",
      "Epoch [1650/ 2000], Loss: 0.0044 \n",
      "Epoch [1700/ 2000], Loss: 0.0042 \n",
      "Epoch [1750/ 2000], Loss: 0.0039 \n",
      "Epoch [1800/ 2000], Loss: 0.0037 \n",
      "Epoch [1850/ 2000], Loss: 0.0035 \n",
      "Epoch [1900/ 2000], Loss: 0.0034 \n",
      "Epoch [1950/ 2000], Loss: 0.0032 \n",
      "Epoch [2000/ 2000], Loss: 0.0031 \n"
     ]
    }
   ],
   "source": [
    "# Train the model\n",
    "num_epochs = 2000\n",
    "\n",
    "losses = []\n",
    "for epoch in range(num_epochs):\n",
    "    # Set the model to training mode\n",
    "    # This step is always necessary during training\n",
    "    model_v2.train()\n",
    "    \n",
    "    # PyTorch keeps track of all the gradients generated\n",
    "    # throughout the whole training procedure\n",
    "    # But we only need the gradient of the current time step\n",
    "    # so we need to zero-out the gradient buffer\n",
    "    optimizer_v2.zero_grad()\n",
    "    \n",
    "    # Do forward propagation\n",
    "    logits = model_v2(X)\n",
    "    \n",
    "    # Calculate the loss\n",
    "    loss = loss_fn(logits, y)\n",
    "    \n",
    "    # Do backward propagation\n",
    "    loss.backward()\n",
    "    \n",
    "    # Update the model parameters\n",
    "    optimizer_v2.step()\n",
    "    \n",
    "    # Get the prediction\n",
    "    prediction = torch.argmax(logits, dim=1)\n",
    "    \n",
    "    # PyTorch supports elements elementwise comparison\n",
    "    acc = torch.mean((prediction == y).float())\n",
    "    losses.append(loss.item())\n",
    "    \n",
    "    # print the loss value every 50 epochs\n",
    "    if (epoch + 1) % 50 == 0:\n",
    "        print('Epoch [{}/ {}], Loss: {:.4f} '.format(epoch + 1, num_epochs, losses[-1]))"
   ]
  },
  {
   "cell_type": "code",
   "execution_count": 23,
   "metadata": {},
   "outputs": [
    {
     "name": "stdout",
     "output_type": "stream",
     "text": [
      "Accuracy: 100.00%\n"
     ]
    }
   ],
   "source": [
    "# Evaluate the model\n",
    "# Need to go into eval mode\n",
    "model_v2.eval()\n",
    "\n",
    "# Do a forward pass and tell PyTorch to not keep track of\n",
    "# the gradient calculation to save memory\n",
    "with torch.no_grad():\n",
    "    logits = model_v2(X)\n",
    "\n",
    "# make prediction\n",
    "prediction = torch.argmax(logits, dim=1)\n",
    "\n",
    "# Calculate the accracuy\n",
    "print('Accuracy: {:.2f}%'.format(torch.mean((prediction == y).float()).item() * 100))"
   ]
  },
  {
   "cell_type": "code",
   "execution_count": 24,
   "metadata": {},
   "outputs": [
    {
     "data": {
      "image/png": "[encoded data removed]",
      "text/plain": [
       "<Figure size 432x288 with 1 Axes>"
      ]
     },
     "metadata": {
      "needs_background": "light"
     },
     "output_type": "display_data"
    }
   ],
   "source": [
    "# visualize the model\n",
    "visclassifier(model_v2, X.numpy(), y.numpy())"
   ]
  }
 ],
 "metadata": {
  "kernelspec": {
   "display_name": "Python 3 (ipykernel)",
   "language": "python",
   "name": "python3"
  },
  "language_info": {
   "codemirror_mode": {
    "name": "ipython",
    "version": 3
   },
   "file_extension": ".py",
   "mimetype": "text/x-python",
   "name": "python",
   "nbconvert_exporter": "python",
   "pygments_lexer": "ipython3",
   "version": "3.8.9"
  }
 },
 "nbformat": 4,
 "nbformat_minor": 2
}

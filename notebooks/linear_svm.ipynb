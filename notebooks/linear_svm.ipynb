{
 "cells": [
  {
   "cell_type": "markdown",
   "metadata": {
    "nbgrader": {
     "checksum": "ddd45a687908970d145ff08981192c68",
     "grade": false,
     "grade_id": "cell-5352bee401322381",
     "locked": true,
     "schema_version": 1,
     "solution": false
    }
   },
   "source": [
    "<h2>Linear SVM</h2>\n",
    "\n",
    "<p>This notebook implements a linear support vector machine.</p>"
   ]
  },
  {
   "cell_type": "markdown",
   "metadata": {
    "nbgrader": {
     "checksum": "211b72917a61f0ac82464146be4bfad9",
     "grade": false,
     "grade_id": "cell-b3b882bc93b94a57",
     "locked": true,
     "schema_version": 1,
     "solution": false
    }
   },
   "source": [
    "<h3>Python Initialization</h3>"
   ]
  },
  {
   "cell_type": "code",
   "execution_count": 1,
   "metadata": {
    "nbgrader": {
     "checksum": "57952a7f1d354a63f81c0a72a58c9b3e",
     "grade": false,
     "grade_id": "cell-ad42817139e637d9",
     "locked": true,
     "schema_version": 1,
     "solution": false
    }
   },
   "outputs": [
    {
     "name": "stdout",
     "output_type": "stream",
     "text": [
      "Running python 3.8.9\n"
     ]
    }
   ],
   "source": [
    "import sys\n",
    "import time\n",
    "import numpy as np\n",
    "from numpy.matlib import repmat\n",
    "\n",
    "from scipy.stats import linregress\n",
    "import scipy.optimize as so\n",
    "\n",
    "import matplotlib.pyplot as plt\n",
    "from matplotlib.animation import FuncAnimation\n",
    "%matplotlib inline\n",
    "\n",
    "print('Running python %s' % sys.version.split(' ')[0])"
   ]
  },
  {
   "cell_type": "markdown",
   "metadata": {
    "nbgrader": {
     "checksum": "720ddd13e403e22808c68ee3e3c6135f",
     "grade": false,
     "grade_id": "cell-029db15eeaae00a8",
     "locked": true,
     "schema_version": 1,
     "solution": false
    }
   },
   "source": [
    "<h3>Generate and Visualize Data</h3>\n",
    "\n",
    "Let's generate some linearly seperable data and visualize it. Run the cell below to generate and visualize the data."
   ]
  },
  {
   "cell_type": "code",
   "execution_count": 2,
   "metadata": {},
   "outputs": [],
   "source": [
    "def generate_data(n: int=100):\n",
    "    # Sample data from Gaussian distribution N(0, 1)\n",
    "    X_train = np.random.randn(n, 2)\n",
    "    y_train = np.ones(n, dtype=np.int)\n",
    "    \n",
    "    # the first half the data is sampled from N([5,5], 1)\n",
    "    X_train[:n // 2] += 5\n",
    "    # the second half the data is sampled from N([10,10], 1)\n",
    "    X_train[n // 2:] += 10\n",
    "    y_train[n // 2:] = -1\n",
    "    \n",
    "    return X_train, y_train"
   ]
  },
  {
   "cell_type": "code",
   "execution_count": 3,
   "metadata": {},
   "outputs": [],
   "source": [
    "def visualize_2D(X_train, y_train):\n",
    "    \"\"\"\n",
    "    This function is used to visualize the 2D dataset.\n",
    "    \n",
    "    Inputs:\n",
    "    ------\n",
    "    X_train : training features\n",
    "    y_train : training labels\n",
    "    \n",
    "    Outputs:\n",
    "    -------\n",
    "    None : This function plots a figure\n",
    "    \"\"\"\n",
    "    symbols = ['ko', 'kx']\n",
    "    marker_symbols = ['o', 'x']\n",
    "    mycolors = [[0.5, 0.5, 1], [1, 0.5, 0.5]]\n",
    "    classvals = np.unique(y_train)\n",
    "    \n",
    "    for idx, c in enumerate(classvals):\n",
    "        plt.scatter(X_train[y_train == c, 0], X_train[y_train == c, 1], marker=marker_symbols[idx], label=str(c))\n",
    "        \n",
    "    plt.legend(loc=2)\n",
    "    plt.show()"
   ]
  },
  {
   "cell_type": "code",
   "execution_count": 4,
   "metadata": {
    "nbgrader": {
     "checksum": "763be17f85bb0326e12551ceefc009be",
     "grade": false,
     "grade_id": "cell-2827088afcbb8b23",
     "locked": true,
     "schema_version": 1,
     "solution": false
    }
   },
   "outputs": [
    {
     "data": {
      "image/png": "[encoded data removed]",
      "text/plain": [
       "<Figure size 432x288 with 1 Axes>"
      ]
     },
     "metadata": {
      "needs_background": "light"
     },
     "output_type": "display_data"
    }
   ],
   "source": [
    "X_train, y_train = generate_data()\n",
    "visualize_2D(X_train, y_train)"
   ]
  },
  {
   "cell_type": "markdown",
   "metadata": {
    "nbgrader": {
     "checksum": "ae6fad066b5ec9a3e0c9759330f1ff30",
     "grade": false,
     "grade_id": "cell-142c315381472f51",
     "locked": true,
     "schema_version": 1,
     "solution": false
    }
   },
   "source": [
    "<h2>Linear SVM</h2>\n",
    "\n",
    "Recall that the unconstrained loss function for linear SVM is \n",
    "\n",
    "$$\n",
    "\\begin{aligned}\n",
    "\\min_{\\mathbf{w},b}\\underbrace{\\mathbf{w}^T\\mathbf{w}}_{l_{2} \\text{ regularizer}}  +  C\\\n",
    "\\sum_{i=1}^{n}\\underbrace{\\max\\left [ 1-y_{i}(\\mathbf{w}^T \\mathbf{x}_i+b),0 \\right ]}_{\\text{hinge loss}}\n",
    "\\end{aligned}\n",
    "$$\n",
    "\n",
    "However, the hinge loss is not differentiable when $1-y_{i}(\\mathbf{w}^T \\mathbf{x}_i+b)= 0$. So, we are going to use the squared hinge loss instead:\n",
    "\n",
    "$$\n",
    "\\begin{aligned}\n",
    "\\min_{\\mathbf{w},b}\\underbrace{\\mathbf{w}^T\\mathbf{w}}_{l_{2} \\text{ regularizer}} +  C\\  \\sum_{i=1}^{n}\\underbrace{\\max\\left [ 1-y_{i}(\\mathbf{w}^T \\mathbf{x}_i+b),0 \\right ] ^2}_{\\text{squared hinge loss}}\n",
    "\\end{aligned}\n",
    "$$"
   ]
  },
  {
   "cell_type": "markdown",
   "metadata": {},
   "source": [
    "<h3>Part One: Loss Function</h3>\n",
    "\n",
    "This implements the function <code>loss</code>, which takes in training data <code>X_train</code> ($n\\times d$) and labels <code>y_train</code> ($n$) with <code>y_train[i]</code>$\\in \\{-1,1\\}$ and evaluates the <b>squared</b> hinge loss of classifier $(\\mathbf{w},b)$."
   ]
  },
  {
   "cell_type": "code",
   "execution_count": 5,
   "metadata": {
    "nbgrader": {
     "checksum": "049e3ba75d7dc3b865bd92e914243921",
     "grade": false,
     "grade_id": "cell-loss",
     "locked": false,
     "schema_version": 1,
     "solution": true
    }
   },
   "outputs": [],
   "source": [
    "def loss(w, b, X_train, y_train, C):\n",
    "    \"\"\"\n",
    "    Inputs:\n",
    "    ------\n",
    "    w       : d dimensional weight vector\n",
    "    b       : scalar (bias)\n",
    "    X_train : nxd dimensional matrix (each row is an input vector)\n",
    "    y_train : n dimensional vector (each entry is a label)\n",
    "    C       : scalar (constant that controls the tradeoff between l2-regularizer and hinge-loss)\n",
    "    \n",
    "    Outputs:\n",
    "    -------\n",
    "    loss : the total loss obtained with (w, b) on X_train and y_train (scalar)\n",
    "    \"\"\"\n",
    "    margin = y_train * (X_train @ w + b)\n",
    "    \n",
    "    return np.dot(w, w) + C * (np.sum(np.maximum(1 - margin, 0) ** 2))"
   ]
  },
  {
   "cell_type": "markdown",
   "metadata": {
    "nbgrader": {
     "checksum": "4ec9b8deb126768d84d8f2901a0ed704",
     "grade": false,
     "grade_id": "cell-1f9aade383794e9f",
     "locked": true,
     "schema_version": 1,
     "solution": false
    }
   },
   "source": [
    "<h3>Part Two: Gradient of Loss Function</h3>\n",
    "\n",
    "Now, this implements <code>gradient</code>, which takes in the same arguments as the <code>loss</code> function but returns gradient of the loss function with respect to $(\\mathbf{w},b)$.\n",
    "\n",
    "First, we take the derivative of the squared hinge loss with respect to $\\mathbf w$:\n",
    "\n",
    "$$\n",
    "\\frac{\\partial \\mathcal L}{\\partial \\mathbf w} = 2 \\mathbf w + C\n",
    "\\sum_{i=1}^{n} 2  \\max \\left [ 1-y_{i}(\\mathbf{w}^T \\mathbf{x}_i+b),0 \\right ]  (-y_i \\mathbf x_i)\n",
    "$$\n",
    "\n",
    "Second, we take the derivative with respect to $b$:\n",
    "\n",
    "$$\n",
    "\\frac{\\partial \\mathcal L}{\\partial b} = C  \\sum_{i=1}^{n} 2  \\max\\left [ 1-y_{i}(\\mathbf{w}^T \\mathbf{x}_i+b),0 \\right ]  (-y_i)\n",
    "$$"
   ]
  },
  {
   "cell_type": "code",
   "execution_count": 6,
   "metadata": {
    "nbgrader": {
     "checksum": "e7df52f026e467df8668ff8843f7f3cb",
     "grade": false,
     "grade_id": "cell-grad",
     "locked": false,
     "schema_version": 1,
     "solution": true
    }
   },
   "outputs": [],
   "source": [
    "def gradient(w, b, X_train, y_train, C):\n",
    "    \"\"\"\n",
    "    Inputs:\n",
    "    ------\n",
    "    w       : d dimensional weight vector\n",
    "    b       : scalar (bias)\n",
    "    X_train : nxd dimensional matrix (each row is an input vector)\n",
    "    y_train : n dimensional vector (each entry is a label)\n",
    "    C       : constant (scalar that controls the tradeoff between l2-regularizer and hinge-loss)\n",
    "    \n",
    "    Outputs:\n",
    "    -------\n",
    "    wgrad : d dimensional vector (the gradient of the hinge loss with respect to the weight, w)\n",
    "    bgrad : constant (the gradient of the hinge loss with respect to the bias, b)\n",
    "    \"\"\"\n",
    "    margin = y_train * (X_train @ w + b)\n",
    "    hinge = np.maximum(1 - margin, 0)\n",
    "    wgrad = 2 * w + C * np.sum((2 * hinge * -y_train).reshape(-1, 1) * X_train, axis=0)\n",
    "    bgrad = C * np.sum(2 * hinge * -y_train, axis=0)\n",
    "    \n",
    "    return wgrad, bgrad"
   ]
  },
  {
   "cell_type": "markdown",
   "metadata": {
    "nbgrader": {
     "checksum": "ecd096da78053ea1fb30974bda93541b",
     "grade": false,
     "grade_id": "cell-d1fd049ca8c1daf2",
     "locked": true,
     "schema_version": 1,
     "solution": false
    }
   },
   "source": [
    "<h3>Obtain the Linear SVM</h3>\n",
    "\n",
    "By calling the following minimization routine implemented in the cells below, we will obtain your linear SVM."
   ]
  },
  {
   "cell_type": "code",
   "execution_count": 7,
   "metadata": {},
   "outputs": [],
   "source": [
    "def minimize(objective, grad, X_train, y_train, C):\n",
    "    \n",
    "    def loss_lambda(X):\n",
    "        return objective(X[:-1], X[-1], X_train, y_train, C)\n",
    "    \n",
    "    def grad_lambda(X):\n",
    "        return np.append(*grad(X[:-1], X[-1], X_train, y_train, C))\n",
    "    \n",
    "    n, d = X_train.shape\n",
    "    w = np.zeros(d)\n",
    "    b = np.zeros(1)\n",
    "    \n",
    "    init = np.append(w, np.array(b))\n",
    "    sol = so.minimize(loss_lambda, x0=init, jac=grad_lambda, method='SLSQP', options={'ftol': 1e-70, 'maxiter': 1000})\n",
    "    \n",
    "    w = sol.x[:-1]\n",
    "    b = sol.x[-1]\n",
    "    \n",
    "    return w, b, sol.fun"
   ]
  },
  {
   "cell_type": "code",
   "execution_count": 8,
   "metadata": {
    "nbgrader": {
     "checksum": "1202120d15ab7667995fa13d0b23fa25",
     "grade": false,
     "grade_id": "cell-df5f6745407f34da",
     "locked": true,
     "schema_version": 1,
     "solution": false
    }
   },
   "outputs": [
    {
     "name": "stdout",
     "output_type": "stream",
     "text": [
      "The Final Loss of your model is: 0.4788\n"
     ]
    }
   ],
   "source": [
    "w, b, final_loss = minimize(objective=loss, grad=gradient, X_train=X_train, y_train=y_train, C=1000)\n",
    "print('The Final Loss of your model is: {:0.4f}'.format(final_loss))"
   ]
  },
  {
   "cell_type": "markdown",
   "metadata": {
    "nbgrader": {
     "checksum": "337fb33537139e644044dc274f183a4e",
     "grade": false,
     "grade_id": "cell-21d2b446b00cd3aa",
     "locked": true,
     "schema_version": 1,
     "solution": false
    }
   },
   "source": [
    "<h3>Visualize the Decision Boundary</h3>\n",
    "\n",
    "Now, let's visualize the decision boundary on our linearly separable dataset. Since the dataset is linearly separable, we should obtain $0\\%$ training error with sufficiently large values of $C$ (e.g. $C>1000$)."
   ]
  },
  {
   "cell_type": "code",
   "execution_count": 9,
   "metadata": {},
   "outputs": [],
   "source": [
    "def visualize_classifier(X_train, y_train, w, b):\n",
    "    \"\"\"\n",
    "    This function is used to visualize the decision boundary.\n",
    "    \n",
    "    Inputs:\n",
    "    ------\n",
    "    X_train : training features\n",
    "    y_train : training labels\n",
    "    w       : the classifier weights\n",
    "    b       : the classifier bias\n",
    "    \n",
    "    Outputs:\n",
    "    -------\n",
    "    None : a figure is returned to the screen\n",
    "    \"\"\"\n",
    "    y_train = np.array(y_train).flatten()\n",
    "    w = np.array(w).flatten()\n",
    "    \n",
    "    symbols = ['ko', 'kx']\n",
    "    marker_symbols = ['o', 'x']\n",
    "    colors = [[0.5, 0.5, 1], [1, 0.5, 0.5]]\n",
    "    classvals = np.unique(y_train)\n",
    "    \n",
    "    plt.figure()\n",
    "    \n",
    "    res = 300\n",
    "    xrange = np.linspace(min(X_train[:, 0]), max(X_train[:, 0]), res)\n",
    "    yrange = np.linspace(min(X_train[:, 1]), max(X_train[:, 1]), res)\n",
    "    pixelX = np.matlib.repmat(xrange, res, 1)\n",
    "    pixelY = np.matlib.repmat(yrange, res, 1).T\n",
    "    \n",
    "    X_test = np.array([pixelX.flatten(), pixelY.flatten()]).T\n",
    "    testpreds = X_test @ w + b\n",
    "    Z = testpreds.reshape(res, res)\n",
    "    # Z[0,0] = 1 # optional: scale the colors correctly\n",
    "    plt.contourf(pixelX, pixelY, np.sign(Z), colors=colors)\n",
    "    \n",
    "    for idx, c in enumerate(classvals):\n",
    "        plt.scatter(X_train[y_train == c, 0], X_train[y_train == c, 1], marker=marker_symbols[idx], color='k', label=str(c))\n",
    "        \n",
    "    alpha = -1 * b / (w ** 2).sum()\n",
    "    plt.quiver(w[0] * alpha, w[1] * alpha, w[0], w[1], linewidth=2, color=[0, 1, 0])\n",
    "    plt.axis('tight')\n",
    "    plt.legend(loc=2)\n",
    "    plt.show()"
   ]
  },
  {
   "cell_type": "code",
   "execution_count": 10,
   "metadata": {
    "nbgrader": {
     "checksum": "af135416420e3166adaeb6bf70cd557b",
     "grade": false,
     "grade_id": "cell-3a923e0743dc46da",
     "locked": true,
     "schema_version": 1,
     "solution": false
    }
   },
   "outputs": [
    {
     "data": {
      "image/png": "[encoded data removed]",
      "text/plain": [
       "<Figure size 432x288 with 1 Axes>"
      ]
     },
     "metadata": {
      "needs_background": "light"
     },
     "output_type": "display_data"
    },
    {
     "name": "stdout",
     "output_type": "stream",
     "text": [
      "Training error: 0.00 %\n"
     ]
    }
   ],
   "source": [
    "visualize_classifier(X_train, y_train, w, b)\n",
    "\n",
    "# Calculate the training error\n",
    "predictions = np.sign(X_train.dot(w) + b)\n",
    "error = np.mean(predictions != y_train)\n",
    "print('Training error: {:.2f} %'.format(100 * error))"
   ]
  }
 ],
 "metadata": {
  "anaconda-cloud": {},
  "kernelspec": {
   "display_name": "Python 3 (ipykernel)",
   "language": "python",
   "name": "python3"
  },
  "language_info": {
   "codemirror_mode": {
    "name": "ipython",
    "version": 3
   },
   "file_extension": ".py",
   "mimetype": "text/x-python",
   "name": "python",
   "nbconvert_exporter": "python",
   "pygments_lexer": "ipython3",
   "version": "3.8.9"
  }
 },
 "nbformat": 4,
 "nbformat_minor": 4
}

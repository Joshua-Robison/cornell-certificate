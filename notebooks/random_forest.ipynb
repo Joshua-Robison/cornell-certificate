{
 "cells": [
  {
   "cell_type": "markdown",
   "metadata": {
    "nbgrader": {
     "checksum": "fa56fa0d21d7cb6711a1c30e4dc3c4a3",
     "grade": false,
     "grade_id": "cell-138bf686eef190d3",
     "locked": true,
     "schema_version": 1,
     "solution": false
    }
   },
   "source": [
    "# Bagging and the Random Forest Algorithm"
   ]
  },
  {
   "cell_type": "markdown",
   "metadata": {},
   "source": [
    "Before starting, let's import a few packages."
   ]
  },
  {
   "cell_type": "code",
   "execution_count": 1,
   "metadata": {
    "nbgrader": {
     "checksum": "74fd3a73b98a01ea45fa31d6f12b5992",
     "grade": false,
     "grade_id": "cell-cfd4728219aa2e6f",
     "locked": true,
     "schema_version": 1,
     "solution": false
    }
   },
   "outputs": [],
   "source": [
    "import numpy as np\n",
    "from numpy.matlib import repmat\n",
    "import matplotlib.pyplot as plt\n",
    "from scipy.io import loadmat"
   ]
  },
  {
   "cell_type": "markdown",
   "metadata": {
    "nbgrader": {
     "checksum": "3be131f76642cca4809b0eee611dbfcf",
     "grade": false,
     "grade_id": "cell-6613495f7b984ddf",
     "locked": true,
     "schema_version": 1,
     "solution": false
    }
   },
   "source": [
    "In addition, we'll create a 2D spiral dataset of size 150 for visualization and a high dimensional dataset <a href=\"https://archive.ics.uci.edu/ml/datasets/Ionosphere\">ION</a>, which we will use as our binary test classification problem."
   ]
  },
  {
   "cell_type": "code",
   "execution_count": 2,
   "metadata": {},
   "outputs": [],
   "source": [
    "def spiraldata(N=300):\n",
    "    r = np.linspace(1, 2 * np.pi, N)\n",
    "    X_train1 = np.array([np.sin(2 * r) * r, np.cos(2 * r) * r]).T\n",
    "    X_train2 = np.array([np.sin(2 * r + np.pi) * r, np.cos(2 * r + np.pi) * r]).T\n",
    "    X_train = np.concatenate([X_train1, X_train2], axis=0)\n",
    "    y_train = np.concatenate([np.ones(N), -1 * np.ones(N)])\n",
    "    X_train = X_train + np.random.randn(X_train.shape[0], X_train.shape[1]) * 0.2\n",
    "    \n",
    "    X_test = X_train[::2,:]\n",
    "    y_test = y_train[::2]\n",
    "    X_train = X_train[1::2,:]\n",
    "    y_train = y_train[1::2]\n",
    "    \n",
    "    return X_train, y_train, X_test, y_test"
   ]
  },
  {
   "cell_type": "code",
   "execution_count": 3,
   "metadata": {},
   "outputs": [],
   "source": [
    "def iondata():\n",
    "    data = loadmat('../data/ion.mat')\n",
    "    xTrIon = data['xTr'].T\n",
    "    yTrIon = data['yTr'].flatten()\n",
    "    xTeIon = data['xTe'].T\n",
    "    yTeIon = data['yTe'].flatten()\n",
    "    \n",
    "    return xTrIon, yTrIon, xTeIon, yTeIon"
   ]
  },
  {
   "cell_type": "code",
   "execution_count": 4,
   "metadata": {
    "nbgrader": {
     "checksum": "0faed5a498ccc8d40ebb2cd9120a9495",
     "grade": false,
     "grade_id": "cell-ea9d14b9dc5c69e4",
     "locked": true,
     "schema_version": 1,
     "solution": false
    }
   },
   "outputs": [],
   "source": [
    "xTrSpiral, yTrSpiral, xTeSpiral, yTeSpiral = spiraldata(150)\n",
    "xTrIon, yTrIon, xTeIon, yTeIon = iondata()"
   ]
  },
  {
   "cell_type": "markdown",
   "metadata": {
    "nbgrader": {
     "checksum": "33fda24ec71d47ccb39666f0f0ec6d26",
     "grade": false,
     "grade_id": "cell-b74b5db289644016",
     "locked": true,
     "schema_version": 1,
     "solution": false
    }
   },
   "source": [
    "You will use the regression tree from a previous project. As a reminder, the following code shows you how to instantiate a decision tree:"
   ]
  },
  {
   "cell_type": "code",
   "execution_count": 5,
   "metadata": {},
   "outputs": [],
   "source": [
    "class TreeNode(object):\n",
    "    \n",
    "    def __init__(self, left, right, parent, cutoff_id, cutoff_val, prediction):\n",
    "        self.left = left\n",
    "        self.right = right\n",
    "        self.parent = parent\n",
    "        self.cutoff_id = cutoff_id\n",
    "        self.cutoff_val = cutoff_val\n",
    "        self.prediction = prediction"
   ]
  },
  {
   "cell_type": "code",
   "execution_count": 6,
   "metadata": {},
   "outputs": [],
   "source": [
    "class RegressionTree:\n",
    "    \n",
    "    def __init__(self, depth=np.inf, weights=None):\n",
    "        self.depth = depth\n",
    "        self.weights = weights\n",
    "        self.root = None\n",
    "        \n",
    "    def fit(self, X_train, y_train):\n",
    "        self.root = self.cart(X_train, y_train, self.depth, self.weights)\n",
    "        \n",
    "    def predict(self, X_train):\n",
    "        if self.root is None:\n",
    "            raise NotImplementedError('The tree is not fitted yet!')\n",
    "            \n",
    "        return self.evaltree(self.root, X_train)\n",
    "    \n",
    "    def sqsplit(self, X_train, y_train, weights=None):\n",
    "        \"\"\"\n",
    "        This method finds the best feature, cut value, and loss value.\n",
    "        \n",
    "        Inputs:\n",
    "        ------\n",
    "        X_train : n x d matrix of data points\n",
    "        y_train : n-dimensional vector of labels\n",
    "        weights : n-dimensional weight vector for data points\n",
    "        \n",
    "        Outputs:\n",
    "        -------\n",
    "        feature  : index of the best cut's feature\n",
    "        cut      : cut-value of the best cut\n",
    "        bestloss : loss of the best cut\n",
    "        \"\"\"\n",
    "        N, D = X_train.shape\n",
    "        assert D > 0 # must have at least one dimension\n",
    "        assert N > 1 # must have at least two samples\n",
    "        if weights is None: # if no weights are passed on, assign uniform weights\n",
    "            weights = np.ones(N)\n",
    "            \n",
    "        weights = weights / sum(weights) # normalize weights\n",
    "        bestloss = np.inf\n",
    "        feature = np.inf\n",
    "        cut = np.inf\n",
    "        \n",
    "        # Begin Solution\n",
    "        for d in range(D):\n",
    "            ii = X_train[:,d].argsort() # sort data along dimensions\n",
    "            xs = X_train[ii,d]          # sorted feature values\n",
    "            ws = weights[ii]            # sorted weights\n",
    "            ys = y_train[ii]            # sorted labels\n",
    "            \n",
    "            # Initialize constants\n",
    "            sL  = 0.0             # mean squared label on left side\n",
    "            muL = 0.0             # mean label on left side\n",
    "            wL  = 0.0             # total weight on left side\n",
    "            sR  = ws.dot(ys ** 2) # mean squared label on right \n",
    "            muR = ws.dot(ys)      # mean label on right\n",
    "            wR  = sum(ws)         # weight on right\n",
    "            \n",
    "            pj = 0 # index counter\n",
    "            idif = np.where(np.abs(np.diff(xs, axis=0)) > np.finfo(float).eps * 100)[0]\n",
    "            for j in idif:\n",
    "                deltas  = np.dot(ys[pj:j+1] ** 2, ws[pj:j+1])\n",
    "                deltamu = np.dot(ws[pj:j+1], ys[pj:j+1])\n",
    "                deltaw  = np.sum(ws[pj:j+1])\n",
    "                \n",
    "                sL  += deltas\n",
    "                muL += deltamu\n",
    "                wL  += deltaw\n",
    "                \n",
    "                sR  -= deltas\n",
    "                muR -= deltamu\n",
    "                wR  -= deltaw\n",
    "                \n",
    "                L = sL - muL ** 2 / wL\n",
    "                R = sR - muR ** 2 / wR\n",
    "                loss = L + R\n",
    "                \n",
    "                if loss < bestloss:\n",
    "                    feature = d\n",
    "                    cut = (xs[j] + xs[j+1]) / 2\n",
    "                    bestloss = loss\n",
    "                pj = j + 1\n",
    "                \n",
    "        assert feature != np.inf and cut != np.inf\n",
    "        \n",
    "        return feature, cut, bestloss\n",
    "    \n",
    "    def cart(self, X_train, y_train, depth=np.inf, weights=None):\n",
    "        \"\"\"\n",
    "        This method builds a CART tree.\n",
    "        \n",
    "        The maximum tree depth is defined by \"maxdepth\" (maxdepth=2 means one split).\n",
    "        Each example can be weighted with \"weights\".\n",
    "        \n",
    "        Inputs:\n",
    "        ------\n",
    "        X_train  : n x d matrix of data\n",
    "        y_train  : n-dimensional vector\n",
    "        maxdepth : maximum tree depth\n",
    "        weights  : n-dimensional weight vector for data points\n",
    "        \n",
    "        Outputs:\n",
    "        -------\n",
    "        tree : root of decision tree\n",
    "        \"\"\"\n",
    "        n, d = X_train.shape\n",
    "        if weights is None:\n",
    "            w = np.ones(n) / float(n)\n",
    "        else:\n",
    "            w = weights\n",
    "        \n",
    "        # Begin Solution\n",
    "        index = np.arange(n)\n",
    "        prediction = y_train.dot(w) / float(np.sum(w))\n",
    "        if depth == 0 or np.all(y_train == y_train[0]) or np.max(np.abs(np.diff(X_train, axis=0))) < (np.finfo(float).eps * 100):\n",
    "            # Create leaf Node\n",
    "            return TreeNode(None, None, None, None, None, prediction)\n",
    "        else:\n",
    "            feature, cut, h = self.sqsplit(X_train, y_train, w)\n",
    "            left_idx = index[X_train[:,feature] <= cut]\n",
    "            right_idx = index[X_train[:,feature] > cut]\n",
    "            left_w = w[left_idx]\n",
    "            right_w = w[right_idx]\n",
    "            left = self.cart(X_train[left_idx,:], y_train[left_idx], depth=depth-1, weights=left_w)\n",
    "            right = self.cart(X_train[right_idx,:], y_train[right_idx], depth=depth-1, weights=right_w)\n",
    "            currNode = TreeNode(left, right, None, feature, cut, prediction)\n",
    "            left.parent  = currNode\n",
    "            right.parent = currNode\n",
    "            \n",
    "            return currNode\n",
    "        \n",
    "    def evaltree(self, root, X_test, idx=[]):\n",
    "        \"\"\"\n",
    "        This method evaluates test data using the decision tree root.\n",
    "        \n",
    "        Inputs:\n",
    "        ------\n",
    "        root   : TreeNode decision tree\n",
    "        X_test : n x d matrix of data points\n",
    "        \n",
    "        Outputs:\n",
    "        -------\n",
    "        pred: n-dimensional vector of predictions\n",
    "        \"\"\"\n",
    "        assert root is not None\n",
    "        n = X_test.shape[0]\n",
    "        pred = np.zeros(n)\n",
    "        \n",
    "        if len(idx) == 0:\n",
    "            idx = np.ones(n) == 1\n",
    "            \n",
    "        if root.left is None and root.right is None:\n",
    "            return np.ones(sum(idx)) * root.prediction\n",
    "        \n",
    "        assert root.left is not None and root.right is not None\n",
    "        feature, cutoff = root.cutoff_id, root.cutoff_val\n",
    "        \n",
    "        idxL = idx & (X_test[:,feature] <= cutoff)\n",
    "        if root.left.left == None and root.left.right == None:\n",
    "            pred[idxL] = root.left.prediction\n",
    "        else:\n",
    "            pred[idxL] = self.evaltree(root.left, X_test, idxL)\n",
    "            \n",
    "        idxR = idx & (X_test[:,feature] > cutoff)\n",
    "        if root.right.left == None and root.right.right == None:\n",
    "            pred[idxR] = root.right.prediction\n",
    "        else:\n",
    "            pred[idxR] = self.evaltree(root.right, X_test, idxR)\n",
    "            \n",
    "        return pred[idx]"
   ]
  },
  {
   "cell_type": "code",
   "execution_count": 7,
   "metadata": {
    "nbgrader": {
     "checksum": "6a1dce539f074e73e3ae69c8c9da97c2",
     "grade": false,
     "grade_id": "cell-425caeb78952a935",
     "locked": true,
     "schema_version": 1,
     "solution": false
    }
   },
   "outputs": [
    {
     "name": "stdout",
     "output_type": "stream",
     "text": [
      "Training error: 0.0000\n",
      "Testing error:  0.0733\n"
     ]
    }
   ],
   "source": [
    "# Create a regression tree with no restriction on its depth\n",
    "# and weights for each training example to be 1\n",
    "# if you want to create a tree of max_depth k\n",
    "# then call RegressionTree(depth=k)\n",
    "tree = RegressionTree(depth=np.inf)\n",
    "\n",
    "# To fit/train the regression tree\n",
    "tree.fit(xTrSpiral, yTrSpiral)\n",
    "\n",
    "# To use the trained regression tree to predict a score for the example\n",
    "score = tree.predict(xTrSpiral)\n",
    "\n",
    "# To use the trained regression tree to make a +1/-1 prediction\n",
    "pred = np.sign(tree.predict(xTrSpiral))\n",
    "\n",
    "tr_err = np.mean((np.sign(tree.predict(xTrSpiral)) - yTrSpiral) ** 2)\n",
    "te_err = np.mean((np.sign(tree.predict(xTeSpiral)) - yTeSpiral) ** 2)\n",
    "\n",
    "print(\"Training error: %.4f\" % np.mean(np.sign(tree.predict(xTrSpiral)) != yTrSpiral))\n",
    "print(\"Testing error:  %.4f\" % np.mean(np.sign(tree.predict(xTeSpiral)) != yTeSpiral))"
   ]
  },
  {
   "cell_type": "markdown",
   "metadata": {
    "nbgrader": {
     "checksum": "fc876beefe4ac7feb46d788d3353e7b8",
     "grade": false,
     "grade_id": "cell-a219c78df15f9ea0",
     "locked": true,
     "schema_version": 1,
     "solution": false
    }
   },
   "source": [
    "<p>The following code defines a function <code>visclassifier()</code>, which plots the decision boundary of a classifier in 2 dimensions. Execute the following code to see what the decision boundary of your tree looks like on the spiral data set.</p>"
   ]
  },
  {
   "cell_type": "code",
   "execution_count": 8,
   "metadata": {
    "nbgrader": {
     "checksum": "ac6f160c5d69e083239a9cfd5c271851",
     "grade": false,
     "grade_id": "cell-ea356e95d6f8a95d",
     "locked": true,
     "schema_version": 1,
     "solution": false
    }
   },
   "outputs": [],
   "source": [
    "def visclassifier(fun, X_train, y_train):\n",
    "    y_train = np.array(y_train).flatten()\n",
    "    symbols = ['ko', 'kx']\n",
    "    marker_symbols = ['o', 'x']\n",
    "    mycolors = [[0.5, 0.5, 1], [1, 0.5, 0.5]]\n",
    "    \n",
    "    # get the unique values from labels array\n",
    "    classvals = np.unique(y_train)\n",
    "    \n",
    "    plt.figure()\n",
    "    \n",
    "    # return 300 evenly spaced numbers over this interval\n",
    "    res = 300\n",
    "    xrange = np.linspace(min(X_train[:, 0]), max(X_train[:, 0]), res)\n",
    "    yrange = np.linspace(min(X_train[:, 1]), max(X_train[:, 1]), res)\n",
    "    \n",
    "    # repeat this matrix 300 times for both axes\n",
    "    pixelX = repmat(xrange, res, 1)\n",
    "    pixelY = repmat(yrange, res, 1).T\n",
    "    \n",
    "    X_test = np.array([pixelX.flatten(), pixelY.flatten()]).T\n",
    "    \n",
    "    # test all of these points on the grid\n",
    "    testpreds = fun(X_test)\n",
    "    \n",
    "    # reshape it back together to make our grid\n",
    "    Z = testpreds.reshape(res, res)\n",
    "    # Z[0,0] = 1 # optional: scale the colors correctly\n",
    "    \n",
    "    # fill in the contours for these predictions\n",
    "    plt.contourf(pixelX, pixelY, np.sign(Z), colors=mycolors)\n",
    "    \n",
    "    # creates x's and o's for training set\n",
    "    for idx, c in enumerate(classvals):\n",
    "        plt.scatter(X_train[y_train == c,0], X_train[y_train == c,1], marker=marker_symbols[idx], color='k')\n",
    "        \n",
    "    plt.axis('tight')\n",
    "    plt.show()"
   ]
  },
  {
   "cell_type": "code",
   "execution_count": 9,
   "metadata": {},
   "outputs": [
    {
     "data": {
      "image/png": "[encoded data removed]",
      "text/plain": [
       "<Figure size 432x288 with 1 Axes>"
      ]
     },
     "metadata": {
      "needs_background": "light"
     },
     "output_type": "display_data"
    },
    {
     "name": "stdout",
     "output_type": "stream",
     "text": [
      "Training error: 0.0000\n",
      "Testing error:  0.0733\n"
     ]
    }
   ],
   "source": [
    "tree = RegressionTree(depth=np.inf)\n",
    "tree.fit(xTrSpiral, yTrSpiral) # compute tree on training data\n",
    "visclassifier(lambda X: tree.predict(X), xTrSpiral, yTrSpiral)\n",
    "\n",
    "print(\"Training error: %.4f\" % np.mean(np.sign(tree.predict(xTrSpiral)) != yTrSpiral))\n",
    "print(\"Testing error:  %.4f\" % np.mean(np.sign(tree.predict(xTeSpiral)) != yTeSpiral))"
   ]
  },
  {
   "cell_type": "markdown",
   "metadata": {
    "nbgrader": {
     "checksum": "73c93edb460d031bc96f31275f440621",
     "grade": false,
     "grade_id": "cell-d1376bcc54a16465",
     "locked": true,
     "schema_version": 1,
     "solution": false
    }
   },
   "source": [
    "<h2>Bagging in Action</h2>\n",
    "\n",
    "<h3>Part One: Implement <code>forest</code></h3>\n",
    "\n",
    "<p>CART trees are known to be high variance classifiers (if trained to full depth). An effective way to prevent overfitting is to use <b>Bagging</b> (short for <strong>b</strong>ootstrap <strong>ag</strong>gregating).\n",
    "\n",
    "Implement the function <code>forest</code>, which builds a forest of regression trees. Each tree should be built using training data drawn by randomly sampling $n$ examples from the training data with replacement. <em>Do not</em> randomly sample features. The function outputs a list of trees.</p>"
   ]
  },
  {
   "cell_type": "code",
   "execution_count": 10,
   "metadata": {
    "nbgrader": {
     "checksum": "5341a66b85063faa11316386032a10a1",
     "grade": false,
     "grade_id": "cell-forest",
     "locked": false,
     "schema_version": 1,
     "solution": true
    }
   },
   "outputs": [],
   "source": [
    "def forest(X_train, y_train, m, maxdepth=np.inf):\n",
    "    \"\"\"\n",
    "    This function creates a random forest.\n",
    "    \n",
    "    Inputs:\n",
    "    ------\n",
    "    X_train  : n x d matrix of data points\n",
    "    y_train  : n-dimensional vector of labels\n",
    "    m        : number of trees in the forest\n",
    "    maxdepth : maximum depth of tree\n",
    "    \n",
    "    Outputs:\n",
    "    -------\n",
    "    trees : list of decision trees of length m\n",
    "    \"\"\"\n",
    "    n, d = X_train.shape\n",
    "    trees = []\n",
    "    \n",
    "    for _ in range(m):\n",
    "        ix = np.random.choice(list(range(n)), n)\n",
    "        xt, yt = X_train[ix,:], y_train[ix]\n",
    "        tree = RegressionTree(depth=maxdepth)\n",
    "        tree.fit(xt, yt)\n",
    "        trees.append(tree)\n",
    "    \n",
    "    return trees"
   ]
  },
  {
   "cell_type": "markdown",
   "metadata": {
    "nbgrader": {
     "checksum": "7fddf8b852eff9a006cf00138c3b9117",
     "grade": false,
     "grade_id": "cell-0d951c782f2e7d46",
     "locked": true,
     "schema_version": 1,
     "solution": false
    }
   },
   "source": [
    "<h3>Part Two: Implement <code>evalforest</code></h3>\n",
    "\n",
    "<p>Now implement the function <code>evalforest</code>, which should take as input a set of $m$ trees and a set of $n$ test inputs and return the average prediction of all the trees.</p>\n",
    "\n",
    "<p>Note that for bagging, we take the average over all trees weighted equally.</p>"
   ]
  },
  {
   "cell_type": "code",
   "execution_count": 11,
   "metadata": {
    "nbgrader": {
     "checksum": "e8734be3bbdb0e17dce546c3fe842191",
     "grade": false,
     "grade_id": "cell-evalforest",
     "locked": false,
     "schema_version": 1,
     "solution": true
    }
   },
   "outputs": [],
   "source": [
    "def evalforest(trees, X):\n",
    "    \"\"\"\n",
    "    This function evaluates X using trees.\n",
    "    \n",
    "    Inputs:\n",
    "    ------\n",
    "    trees : list of TreeNode decision trees of length m\n",
    "    X     : n x d matrix of data points\n",
    "    \n",
    "    Outputs:\n",
    "    -------\n",
    "    pred: n-dimensional vector of predictions\n",
    "    \"\"\"\n",
    "    m = len(trees)\n",
    "    n,d = X.shape\n",
    "    pred = np.zeros(n)\n",
    "    \n",
    "    for tree in trees:\n",
    "        pred += tree.predict(X)\n",
    "    \n",
    "    pred /= m\n",
    "    \n",
    "    return pred"
   ]
  },
  {
   "cell_type": "markdown",
   "metadata": {
    "nbgrader": {
     "checksum": "d84881b81bfc732058f56eb75f2e4d96",
     "grade": false,
     "grade_id": "cell-a84a7ba4a0e5d391",
     "locked": true,
     "schema_version": 1,
     "solution": false
    }
   },
   "source": [
    "<h3>Visualize the Decision Boundary</h3>\n",
    "\n",
    "<p>The following script visualizes the decision boundary of an ensemble of decision trees.</p>"
   ]
  },
  {
   "cell_type": "code",
   "execution_count": 12,
   "metadata": {
    "nbgrader": {
     "checksum": "46170c5267f1c5475b50d88ec7f2de4e",
     "grade": false,
     "grade_id": "cell-0b793c46d539ba5d",
     "locked": true,
     "schema_version": 1,
     "solution": false
    }
   },
   "outputs": [
    {
     "data": {
      "image/png": "[encoded data removed]",
      "text/plain": [
       "<Figure size 432x288 with 1 Axes>"
      ]
     },
     "metadata": {
      "needs_background": "light"
     },
     "output_type": "display_data"
    },
    {
     "name": "stdout",
     "output_type": "stream",
     "text": [
      "Training error: 0.0000\n",
      "Testing error:  0.0600\n"
     ]
    }
   ],
   "source": [
    "trees = forest(xTrSpiral, yTrSpiral, 50) # compute tree on training data\n",
    "visclassifier(lambda X: evalforest(trees, X), xTrSpiral, yTrSpiral)\n",
    "\n",
    "print(\"Training error: %.4f\" % np.mean(np.sign(evalforest(trees, xTrSpiral)) != yTrSpiral))\n",
    "print(\"Testing error:  %.4f\" % np.mean(np.sign(evalforest(trees, xTeSpiral)) != yTeSpiral))"
   ]
  },
  {
   "cell_type": "markdown",
   "metadata": {
    "nbgrader": {
     "checksum": "2d4d2803adef1cc39021a120ca054272",
     "grade": false,
     "grade_id": "cell-03a78b7b9ea09b9a",
     "locked": true,
     "schema_version": 1,
     "solution": false
    }
   },
   "source": [
    "<h3>Evaluate Test and Training Error</h3>\n",
    "\n",
    "<p>The following script evaluates the test and training error of an ensemble of decision trees as we vary the number of trees.</p>"
   ]
  },
  {
   "cell_type": "code",
   "execution_count": 13,
   "metadata": {
    "nbgrader": {
     "checksum": "c8f248234983c67a399b4f264ae360d9",
     "grade": false,
     "grade_id": "cell-4c5550a5997aaf04",
     "locked": true,
     "schema_version": 1,
     "solution": false
    }
   },
   "outputs": [
    {
     "name": "stdout",
     "output_type": "stream",
     "text": [
      "[0]training err = 0.0605\ttesting err = 0.1857\n",
      "[1]training err = 0.0641\ttesting err = 0.2143\n",
      "[2]training err = 0.0249\ttesting err = 0.1714\n",
      "[3]training err = 0.0320\ttesting err = 0.1571\n",
      "[4]training err = 0.0071\ttesting err = 0.1000\n",
      "[5]training err = 0.0107\ttesting err = 0.0857\n",
      "[6]training err = 0.0000\ttesting err = 0.0714\n",
      "[7]training err = 0.0071\ttesting err = 0.0857\n",
      "[8]training err = 0.0000\ttesting err = 0.0857\n",
      "[9]training err = 0.0071\ttesting err = 0.0714\n",
      "[10]training err = 0.0000\ttesting err = 0.0714\n",
      "[11]training err = 0.0000\ttesting err = 0.1000\n",
      "[12]training err = 0.0000\ttesting err = 0.0857\n",
      "[13]training err = 0.0036\ttesting err = 0.1000\n",
      "[14]training err = 0.0000\ttesting err = 0.0857\n",
      "[15]training err = 0.0000\ttesting err = 0.0857\n",
      "[16]training err = 0.0000\ttesting err = 0.0571\n",
      "[17]training err = 0.0000\ttesting err = 0.0714\n",
      "[18]training err = 0.0000\ttesting err = 0.0714\n",
      "[19]training err = 0.0000\ttesting err = 0.0714\n"
     ]
    },
    {
     "data": {
      "image/png": "[encoded data removed]",
      "text/plain": [
       "<Figure size 432x288 with 1 Axes>"
      ]
     },
     "metadata": {
      "needs_background": "light"
     },
     "output_type": "display_data"
    }
   ],
   "source": [
    "M = 20 # max number of trees\n",
    "err_trB = [] # training error\n",
    "err_teB = [] # testing error\n",
    "\n",
    "alltrees = forest(xTrIon, yTrIon, M)\n",
    "for i in range(M):\n",
    "    trees = alltrees[:i+1]\n",
    "    trErr = np.mean(np.sign(evalforest(trees, xTrIon)) != yTrIon)\n",
    "    teErr = np.mean(np.sign(evalforest(trees, xTeIon)) != yTeIon)\n",
    "    err_trB.append(trErr)\n",
    "    err_teB.append(teErr)\n",
    "    print(\"[%d]training err = %.4f\\ttesting err = %.4f\" % (i, trErr, teErr))\n",
    "\n",
    "plt.figure()\n",
    "line_tr, = plt.plot(range(M), err_trB, '-*', label=\"Training Error\")\n",
    "line_te, = plt.plot(range(M), err_teB, '-*', label=\"Testing error\")\n",
    "plt.title(\"Random Forest\")\n",
    "plt.legend(handles=[line_tr, line_te])\n",
    "plt.xlabel(\"# of trees\")\n",
    "plt.ylabel(\"error\")\n",
    "plt.show()"
   ]
  }
 ],
 "metadata": {
  "anaconda-cloud": {},
  "kernelspec": {
   "display_name": "Python 3 (ipykernel)",
   "language": "python",
   "name": "python3"
  },
  "language_info": {
   "codemirror_mode": {
    "name": "ipython",
    "version": 3
   },
   "file_extension": ".py",
   "mimetype": "text/x-python",
   "name": "python",
   "nbconvert_exporter": "python",
   "pygments_lexer": "ipython3",
   "version": "3.8.9"
  }
 },
 "nbformat": 4,
 "nbformat_minor": 1
}
